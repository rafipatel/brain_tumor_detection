{
 "cells": [
  {
   "cell_type": "markdown",
   "metadata": {},
   "source": [
    "# Brain Tumor Classification"
   ]
  },
  {
   "cell_type": "code",
   "execution_count": 2,
   "metadata": {},
   "outputs": [
    {
     "name": "stdout",
     "output_type": "stream",
     "text": [
      "[1, 6, 1, 11, 8, 3]\n"
     ]
    }
   ],
   "source": [
    "import random\n",
    "c = [random.randint(0,10) for i in range(5)]\n",
    "\n",
    "c.insert(3,11)\n",
    "\n",
    "print(c)"
   ]
  },
  {
   "cell_type": "code",
   "execution_count": 3,
   "metadata": {},
   "outputs": [
    {
     "name": "stdout",
     "output_type": "stream",
     "text": [
      "0\n",
      "1\n",
      "2\n",
      "3\n",
      "4\n"
     ]
    }
   ],
   "source": [
    "for i in range(0,5):\n",
    "\n",
    "    print(i)"
   ]
  },
  {
   "cell_type": "markdown",
   "metadata": {},
   "source": [
    "Why the dataset was created?\n",
    "\n",
    "Gliomas are the most common primary tumors of the brain. They can be graded as LGG (Lower-Grade Glioma) or GBM (Glioblastoma Multiforme) depending on the histological/imaging criteria. Clinical and molecular/mutation factors are also very crucial for the grading process. Molecular tests are expensive to help accurately diagnose glioma patients.  \n",
    "\n",
    "In this dataset, the most frequently mutated 20 genes and 3 clinical features are considered from TCGA-LGG and TCGA-GBM brain glioma projects.\n",
    "\n",
    "The prediction task is to determine whether a patient is LGG or GBM with a given clinical and molecular/mutation features. The main objective is to find the optimal subset of mutation genes and clinical features for the glioma grading process to improve performance and reduce costs.\n",
    "\n",
    "https://archive.ics.uci.edu/dataset/759/glioma+grading+clinical+and+mutation+features+dataset"
   ]
  },
  {
   "cell_type": "markdown",
   "metadata": {},
   "source": [
    "## Features Information"
   ]
  },
  {
   "cell_type": "markdown",
   "metadata": {},
   "source": [
    "- **Project:**  This feature denotes the project or study from which the data is sourced. It can help differentiate data sources or cohorts, potentially capturing variations or biases from different studies. Understanding the source can aid in assessing the generalizability of findings.\n",
    "\n",
    "- **Case_ID:** Unique identifier for each patient\n",
    "\n",
    "- **Gender:** Indicates the gender of the patient. In some medical studies, certain types of tumors might show a slight prevalence in one gender over another, hence it might have some relevance in understanding tumor occurrences.\n",
    "\n",
    "- **Age_at_diagnosis:** This feature represents the age of the patient at the time of diagnosis. Age can be a crucial factor as different types of brain tumors might occur more frequently in particular age groups.\n",
    "\n",
    "- **Primary_Diagnosis**: Describes the primary diagnosis of the brain tumor. This could include specific types or categories of tumors, providing important information about the nature or classification of the tumor itself.\n",
    "These primary diagnosis values can provide valuable insights into the type of brain tumor. However, the exact relationship between these values and the type of brain tumor would require further research and clinical studies.\n",
    "    - *Glioblastoma*:  Astrocytomas are the most common type of glioma1. They can develop in most parts of the brain and sometimes in the spinal cord1. This type of tumor can be associated with both LGG and GBM, depending on the grade of the tumor,\n",
    "    - 'Astrocytoma, anaplastic' : Anaplastic astrocytoma is a grade 3 astrocytoma. While they’re rare, they can be very serious if left untreated. Anaplastic astrocytomas grow quickly and can spread to nearby brain tissue. This type of tumor is usually associated with GBM.,\n",
    "\n",
    "    - *Mixed glioma* : The behavior of a mixed glioma appears to depend on the grade of the tumor1. In terms of detecting Lower Grade Glioma (LGG) or Glioblastoma Multiforme (GBM), it’s important to note that LGG tumors can dedifferentiate into anaplastic oligodendroglioma or astrocytoma and subsequent secondary GBM2. Therefore, a mixed glioma could potentially be associated with either LGG or GBM, depending on its composition and behavior.,\n",
    "\n",
    "    - *Oligodendroglioma, NOS* :  Oligodendrogliomas are a type of brain tumor that develops from a type of glial cell called an oligodendrocyte1. They are characterized by IDH mutation and 1p19q codeletion and can be WHO CNS grade 2 or 31. This type of tumor is usually associated with LGG1. The term “NOS” stands for “Not Otherwise Specified”, which means that the testing for a mutation in IDH and 1p19q co-deletion cannot be performed or the testing is inconclusive, but the tumor has the microscopic features of an oligodendroglioma1\n",
    "    , \n",
    "    - *Oligodendroglioma, anaplastic* : In terms of detecting Lower Grade Glioma (LGG) or Glioblastoma Multiforme (GBM), it’s important to note that LGG tumors can dedifferentiate into anaplastic oligodendroglioma or astrocytoma and subsequent secondary GBM3. Therefore, anaplastic oligodendroglioma could potentially be associated with either LGG or GBM, depending on its composition and behavior.,\n",
    "\n",
    "\n",
    "    - *Astrocytoma, NOS* : Astrocytomas are a type of brain tumor that develops from star-shaped glial cells called astrocytes1. They belong to a group of tumors called gliomas1. Astrocytomas are the most common type of glioma1. They can develop in most parts of the brain and sometimes in the spinal cord1. This type of tumor can be associated with both LGG and GBM, depending on the grade of the tumor1.,\n",
    "\n",
    "\n",
    "- **Race:** Indicates the race or ethnicity of the patient. However, in medical datasets, race is sometimes collected to understand disparities in healthcare outcomes rather than directly relating to tumor classification.\n",
    "\n",
    "- **IDH1 and IDH2:** Mutations in these genes are commonly found in gliomas. IDH mutations are **especially prevalent in lower-grade gliomas (LGG)** and can help distinguish them from glioblastomas (GBM).\n",
    "\n",
    "- **TP53:** A tumor suppressor gene, mutations in TP53 are associated with several cancers, including some types of gliomas.\n",
    "\n",
    "- **ATRX:** The ATRX gene is frequently mutated in a variety of tumors, **including lower-grade gliomas (LGG), glioblastoma multiforme (GBM)**\n",
    "\n",
    "- **PTEN:** Mutations or deletions in PTEN are associated with various cancers, including gliomas.\n",
    "\n",
    "- **EGFR:** Epidermal Growth Factor Receptor gene mutations are often associated with certain types of brain tumors, **particularly GBM.**\n",
    "\n",
    "\n",
    "- **CIC:** .In the context of brain tumors, a study reported on the effects of the CIC mutation biomarker alongside radiomics features on the predictive ability of CIC **mutation status in lower-grade gliomas (LGG)**. Therefore, the presence of CIC mutations can be a significant factor in detecting LGG. However, the exact relationship between CIC mutations and the type of brain tumor would require further research and clinical studies1. \n",
    "\n",
    "\n",
    "- **MUC16:** It was found that LGG and GBM have low expression of MUC16, but it is **frequently mutated in GBM**. (https://www.medrxiv.org/content/10.1101/2022.02.10.22270821v2.full.pdf)\n",
    "\n",
    "\n",
    "\n",
    "- **PIK3CA:** Therefore, the presence of PIK3CA mutations can be a **significant factor in detecting both Lower Grade Glioma (LGG) and GBM**\n",
    "\n",
    "- **NF1:** The NF1 gene, which encodes the neurofibromin protein, is a negative regulator of the RAS/MAPK pathway1. Mutations in the NF1 gene have been associated with various types of cancers, including gliomas23. The presence of NF1 mutations can be a **significant factor in detecting both Lower Grade Glioma (LGG) and Glioblastoma Multiforme (GBM)**.\n",
    "\n",
    "- **PIK3R1:** The PIK3R1 gene provides instructions for making a protein that is involved in signaling pathways that control cell growth and division1.In the context of brain tumors, PIK3R1 mutations have been identified among all glioma subgroups2.PIK3R1 **could potentially be a factor in detecting both LGG and GBM**, the exact relationship would require further research and clinical studies2.\n",
    "\n",
    "\n",
    "- **FUBP1:**  In the context of brain tumors, FUBP1 mutations have been detected in oligodendrogliomas but not in oligoastrocytomas.the presence of FUBP1 mutations can be a **significant factor in detecting Lower Grade Glioma (LGG)**. However, the exact relationship between FUBP1 mutations and the type of brain tumor would require further research and clinical studies21\n",
    "\n",
    "- **RB1:** . The presence of RB1 mutations could **potentially be a factor in detecting both LGG and GBM**, but the exact relationship would require further research and clinical studies1.\n",
    "\n",
    "- **NOTCH1:** On the other hand, NOTCH1 is deemed to be activated in primary glioblastoma, whereas low-grade astrocytomas, which are a type of Lower Grade Glioma (LGG), seem to show an inactive Notch signaling2. Therefore, the activity of **NOTCH1 could potentially also be a factor in detecting LGG**\n",
    "\n",
    "- **BCOR:** The BCL6 corepressor gene (BCOR) is a tumor suppressor gene located on human chromosome X that regulates cell differentiation and body structure development1.However, the specific role of BCOR in Lower Grade Glioma (LGG) or Glioblastoma Multiforme (GBM) is not well-studied. Therefore, while **BCOR could potentially be a factor in detecting both LGG and GBM**, the exact relationship would require further research and clinical studies1.\n",
    "\n",
    "- **CSMD3:** The CSMD3 gene, also known as CUB And Sushi Multiple Domains 3, is a protein-coding gene1. The specific role of CSMD3 in Lower Grade Glioma (LGG) or Glioblastoma Multiforme (GBM) is not well-studied. Therefore, while **CSMD3 could potentially be a factor in detecting both LGG and GBM**, the exact relationship would require further research and clinical studies\n",
    "\n",
    "- **SMARCA4:** SMARCA4 expression has been linked to various types of brain tumors, including low-grade gliomas such as oligodendroglioma, and high-grade gliomas such as glioblastoma2.  Therefore, the presence of SMARCA4 mutations can be a **significant factor in detecting both Lower Grade Glioma (LGG) and Glioblastoma Multiforme (GBM)**\n",
    "\n",
    "- **GRIN2A:** The GRIN2A gene provides instructions for making a protein called GluN2A, which is found in nerve cells (neurons) in the brain and spinal cord, including regions of the brain involved in speech and language1.However, the specific role of GRIN2A in Lower Grade Glioma (LGG) or Glioblastoma Multiforme (GBM) is not well-studied. Therefore, while GRIN2A could **potentially be a factor in detecting both LGG and GBM**, the exact relationship would require further research and clinical studies34\n",
    "\n",
    "- **FAT4:** The FAT4 gene provides instructions for making a protein that is found in most tissues1. However, the specific role of FAT4 in Lower Grade Glioma (LGG) or Glioblastoma Multiforme (GBM) is not well-studied. Therefore, while FAT4 **could potentially be a factor in detecting both LGG and GBM**, the exact relationship would require further research and clinical studies1\n",
    "\n",
    "\n",
    "- **PDGFRA:** Platelet-Derived Growth Factor Receptor Alpha gene alterations are seen in some gliomas and may influence tumor behavior."
   ]
  },
  {
   "cell_type": "markdown",
   "metadata": {},
   "source": [
    "## Exploratory Data Analysis"
   ]
  },
  {
   "cell_type": "code",
   "execution_count": 4,
   "metadata": {},
   "outputs": [
    {
     "data": {
      "text/plain": [
       "(862, 27)"
      ]
     },
     "execution_count": 4,
     "metadata": {},
     "output_type": "execute_result"
    }
   ],
   "source": [
    "import pandas as pd\n",
    "df = pd.read_csv(\"TCGA_GBM_LGG_Mutations_all.csv\")\n",
    "df.shape"
   ]
  },
  {
   "cell_type": "markdown",
   "metadata": {},
   "source": [
    "#### To check number of entries, type of data & number of empty data"
   ]
  },
  {
   "cell_type": "code",
   "execution_count": 5,
   "metadata": {},
   "outputs": [
    {
     "name": "stdout",
     "output_type": "stream",
     "text": [
      "<class 'pandas.core.frame.DataFrame'>\n",
      "RangeIndex: 862 entries, 0 to 861\n",
      "Data columns (total 27 columns):\n",
      " #   Column             Non-Null Count  Dtype \n",
      "---  ------             --------------  ----- \n",
      " 0   Grade              862 non-null    object\n",
      " 1   Project            862 non-null    object\n",
      " 2   Case_ID            862 non-null    object\n",
      " 3   Gender             862 non-null    object\n",
      " 4   Age_at_diagnosis   862 non-null    object\n",
      " 5   Primary_Diagnosis  862 non-null    object\n",
      " 6   Race               862 non-null    object\n",
      " 7   IDH1               862 non-null    object\n",
      " 8   TP53               862 non-null    object\n",
      " 9   ATRX               862 non-null    object\n",
      " 10  PTEN               862 non-null    object\n",
      " 11  EGFR               862 non-null    object\n",
      " 12  CIC                862 non-null    object\n",
      " 13  MUC16              862 non-null    object\n",
      " 14  PIK3CA             862 non-null    object\n",
      " 15  NF1                862 non-null    object\n",
      " 16  PIK3R1             862 non-null    object\n",
      " 17  FUBP1              862 non-null    object\n",
      " 18  RB1                862 non-null    object\n",
      " 19  NOTCH1             862 non-null    object\n",
      " 20  BCOR               862 non-null    object\n",
      " 21  CSMD3              862 non-null    object\n",
      " 22  SMARCA4            862 non-null    object\n",
      " 23  GRIN2A             862 non-null    object\n",
      " 24  IDH2               862 non-null    object\n",
      " 25  FAT4               862 non-null    object\n",
      " 26  PDGFRA             862 non-null    object\n",
      "dtypes: object(27)\n",
      "memory usage: 182.0+ KB\n"
     ]
    }
   ],
   "source": [
    "df.info()"
   ]
  },
  {
   "cell_type": "markdown",
   "metadata": {},
   "source": [
    "#### Checking for unique values in each column"
   ]
  },
  {
   "cell_type": "code",
   "execution_count": 6,
   "metadata": {},
   "outputs": [
    {
     "name": "stdout",
     "output_type": "stream",
     "text": [
      "Grade ['LGG' 'GBM']\n",
      "Project ['TCGA-LGG' 'TCGA-GBM']\n",
      "Case_ID ['TCGA-DU-8164' 'TCGA-QH-A6CY' 'TCGA-HW-A5KM' 'TCGA-E1-A7YE'\n",
      " 'TCGA-S9-A6WG' 'TCGA-DB-A4X9' 'TCGA-P5-A5F4' 'TCGA-FG-A4MY'\n",
      " 'TCGA-HT-A5R5' 'TCGA-DU-A76K' 'TCGA-QH-A6CV' 'TCGA-FG-5962'\n",
      " 'TCGA-DU-6402' 'TCGA-DB-A75M' 'TCGA-DB-A4XG' 'TCGA-DU-5851'\n",
      " 'TCGA-DB-A4XH' 'TCGA-HT-7874' 'TCGA-DH-A66D' 'TCGA-DU-5871'\n",
      " 'TCGA-FG-A60J' 'TCGA-E1-A7Z3' 'TCGA-DU-7011' 'TCGA-VW-A8FI'\n",
      " 'TCGA-DU-A7TB' 'TCGA-HT-7856' 'TCGA-TQ-A7RU' 'TCGA-HW-7486'\n",
      " 'TCGA-DU-6399' 'TCGA-DU-A7TA' 'TCGA-HT-A5RA' 'TCGA-DB-5280'\n",
      " 'TCGA-DU-6405' 'TCGA-S9-A7J1' 'TCGA-S9-A7J2' 'TCGA-HW-7495'\n",
      " 'TCGA-FG-A710' 'TCGA-P5-A5ET' 'TCGA-DU-7300' 'TCGA-DU-A5TY'\n",
      " 'TCGA-VM-A8CH' 'TCGA-R8-A6YH' 'TCGA-S9-A6WE' 'TCGA-HT-7681'\n",
      " 'TCGA-KT-A7W1' 'TCGA-FG-5964' 'TCGA-S9-A6TX' 'TCGA-P5-A5F2'\n",
      " 'TCGA-DU-5874' 'TCGA-DU-A5TT' 'TCGA-CS-5396' 'TCGA-DU-7302'\n",
      " 'TCGA-S9-A6TW' 'TCGA-RY-A845' 'TCGA-HT-A61A' 'TCGA-DU-7018'\n",
      " 'TCGA-HW-7489' 'TCGA-R8-A6ML' 'TCGA-DH-5144' 'TCGA-DU-7013'\n",
      " 'TCGA-CS-4941' 'TCGA-WY-A85E' 'TCGA-DH-A7UR' 'TCGA-HT-7689'\n",
      " 'TCGA-S9-A7R7' 'TCGA-HT-A619' 'TCGA-DU-7012' 'TCGA-S9-A6UB'\n",
      " 'TCGA-DB-5281' 'TCGA-QH-A6CX' 'TCGA-E1-5318' 'TCGA-CS-6290'\n",
      " 'TCGA-S9-A6U2' 'TCGA-HT-A74J' 'TCGA-WY-A859' 'TCGA-HT-A5RB'\n",
      " 'TCGA-DU-8168' 'TCGA-QH-A6X3' 'TCGA-DU-5853' 'TCGA-CS-6667'\n",
      " 'TCGA-S9-A89V' 'TCGA-HT-8012' 'TCGA-S9-A7IY' 'TCGA-TQ-A7RS'\n",
      " 'TCGA-QH-A6XC' 'TCGA-CS-6668' 'TCGA-DB-5277' 'TCGA-CS-6186'\n",
      " 'TCGA-HT-A4DS' 'TCGA-DU-8165' 'TCGA-HT-7605' 'TCGA-DU-6410'\n",
      " 'TCGA-RY-A83Z' 'TCGA-HW-8321' 'TCGA-S9-A7QW' 'TCGA-S9-A6WL'\n",
      " 'TCGA-DU-A5TW' 'TCGA-HW-A5KL' 'TCGA-WY-A85A' 'TCGA-P5-A72Z'\n",
      " 'TCGA-DU-8163' 'TCGA-DB-5275' 'TCGA-FG-8187' 'TCGA-P5-A5EU'\n",
      " 'TCGA-HT-7478' 'TCGA-QH-A65S' 'TCGA-HT-7881' 'TCGA-TQ-A7RO'\n",
      " 'TCGA-FG-8188' 'TCGA-FG-8182' 'TCGA-HT-A5R7' 'TCGA-DB-5276'\n",
      " 'TCGA-HT-8113' 'TCGA-S9-A7R2' 'TCGA-HT-7483' 'TCGA-S9-A7IS'\n",
      " 'TCGA-QH-A6X4' 'TCGA-DU-A5TP' 'TCGA-FG-6692' 'TCGA-HT-A74H'\n",
      " 'TCGA-DU-A6S2' 'TCGA-DU-6394' 'TCGA-R8-A6MO' 'TCGA-S9-A7IQ'\n",
      " 'TCGA-FG-8189' 'TCGA-FG-A70Z' 'TCGA-HT-7474' 'TCGA-HT-8010'\n",
      " 'TCGA-P5-A72U' 'TCGA-HT-8018' 'TCGA-HW-8320' 'TCGA-DU-6542'\n",
      " 'TCGA-E1-A7YN' 'TCGA-CS-5394' 'TCGA-FG-A4MX' 'TCGA-S9-A6WH'\n",
      " 'TCGA-WY-A85B' 'TCGA-S9-A7IZ' 'TCGA-S9-A7QZ' 'TCGA-DB-A75L'\n",
      " 'TCGA-E1-A7YO' 'TCGA-P5-A5EZ' 'TCGA-S9-A7R8' 'TCGA-E1-A7YY'\n",
      " 'TCGA-HT-7604' 'TCGA-E1-5304' 'TCGA-S9-A89Z' 'TCGA-E1-5307'\n",
      " 'TCGA-FG-A711' 'TCGA-TM-A84R' 'TCGA-HW-7490' 'TCGA-HT-8564'\n",
      " 'TCGA-HT-7875' 'TCGA-DH-5140' 'TCGA-WY-A85D' 'TCGA-TQ-A7RK'\n",
      " 'TCGA-FG-6688' 'TCGA-HT-7479' 'TCGA-DU-8167' 'TCGA-E1-A7YM'\n",
      " 'TCGA-QH-A6CW' 'TCGA-DU-8162' 'TCGA-P5-A5EV' 'TCGA-DB-A64Q'\n",
      " 'TCGA-DU-A5TR' 'TCGA-TM-A7CF' 'TCGA-FG-A6IZ' 'TCGA-HT-7687'\n",
      " 'TCGA-TM-A84J' 'TCGA-HT-A61C' 'TCGA-DU-A76R' 'TCGA-HT-7481'\n",
      " 'TCGA-DB-A4XB' 'TCGA-FG-A87N' 'TCGA-S9-A7J0' 'TCGA-CS-5397'\n",
      " 'TCGA-WY-A85C' 'TCGA-CS-6188' 'TCGA-HT-7690' 'TCGA-TQ-A7RN'\n",
      " 'TCGA-FG-A6J1' 'TCGA-TM-A7C5' 'TCGA-DU-5854' 'TCGA-TM-A84T'\n",
      " 'TCGA-DH-A669' 'TCGA-FG-A4MW' 'TCGA-E1-5302' 'TCGA-HT-7603'\n",
      " 'TCGA-S9-A6WP' 'TCGA-HT-A4DV' 'TCGA-DB-5270' 'TCGA-E1-A7YW'\n",
      " 'TCGA-DU-7009' 'TCGA-HT-8108' 'TCGA-DU-7306' 'TCGA-DB-A64P'\n",
      " 'TCGA-HT-7688' 'TCGA-VM-A8CD' 'TCGA-DB-A64X' 'TCGA-HT-7877'\n",
      " 'TCGA-DH-A66F' 'TCGA-P5-A77W' 'TCGA-HT-A5R9' 'TCGA-E1-A7YS'\n",
      " 'TCGA-TM-A7C3' 'TCGA-DU-A6S7' 'TCGA-TQ-A7RJ' 'TCGA-RY-A843'\n",
      " 'TCGA-RY-A840' 'TCGA-DU-6395' 'TCGA-FG-8191' 'TCGA-HT-7606'\n",
      " 'TCGA-HT-7857' 'TCGA-DU-7015' 'TCGA-HT-7609' 'TCGA-S9-A6WI'\n",
      " 'TCGA-S9-A6TZ' 'TCGA-FG-6691' 'TCGA-DU-6401' 'TCGA-DB-5278'\n",
      " 'TCGA-HT-8109' 'TCGA-FG-A4MT' 'TCGA-DU-7292' 'TCGA-CS-4943'\n",
      " 'TCGA-VV-A829' 'TCGA-FN-7833' 'TCGA-HT-7695' 'TCGA-DB-A4XC'\n",
      " 'TCGA-CS-5390' 'TCGA-HT-7855' 'TCGA-DU-A6S6' 'TCGA-VM-A8CB'\n",
      " 'TCGA-FG-A713' 'TCGA-DH-A7US' 'TCGA-WH-A86K' 'TCGA-DU-6403'\n",
      " 'TCGA-DU-5870' 'TCGA-P5-A736' 'TCGA-P5-A72X' 'TCGA-HT-8011'\n",
      " 'TCGA-CS-6670' 'TCGA-HT-8114' 'TCGA-FG-6690' 'TCGA-DU-6408'\n",
      " 'TCGA-IK-7675' 'TCGA-TM-A84I' 'TCGA-DB-A64U' 'TCGA-DU-5847'\n",
      " 'TCGA-E1-A7YJ' 'TCGA-DB-A4XA' 'TCGA-DU-5852' 'TCGA-TM-A7CA'\n",
      " 'TCGA-DU-6407' 'TCGA-HW-A5KJ' 'TCGA-TM-A84H' 'TCGA-HT-7472'\n",
      " 'TCGA-VV-A86M' 'TCGA-DU-A7TD' 'TCGA-S9-A7QX' 'TCGA-E1-A7YI'\n",
      " 'TCGA-HT-7860' 'TCGA-P5-A780' 'TCGA-E1-A7YQ' 'TCGA-S9-A6U5'\n",
      " 'TCGA-HT-8107' 'TCGA-CS-4942' 'TCGA-S9-A6U9' 'TCGA-HT-7686'\n",
      " 'TCGA-DB-A75P' 'TCGA-P5-A5EW' 'TCGA-HT-7607' 'TCGA-DU-7309'\n",
      " 'TCGA-P5-A737' 'TCGA-S9-A6WM' 'TCGA-FG-7636' 'TCGA-E1-5322'\n",
      " 'TCGA-TQ-A7RF' 'TCGA-DU-7010' 'TCGA-QH-A6CS' 'TCGA-HT-7476'\n",
      " 'TCGA-HT-7884' 'TCGA-DU-A7TC' 'TCGA-CS-6666' 'TCGA-HT-7610'\n",
      " 'TCGA-FG-A60K' 'TCGA-S9-A6U8' 'TCGA-HT-8563' 'TCGA-TQ-A7RH'\n",
      " 'TCGA-S9-A6U1' 'TCGA-DU-7301' 'TCGA-FG-6689' 'TCGA-HT-8013'\n",
      " 'TCGA-HT-A616' 'TCGA-DU-7008' 'TCGA-E1-A7YD' 'TCGA-E1-A7YK'\n",
      " 'TCGA-TM-A84Q' 'TCGA-WY-A858' 'TCGA-F6-A8O4' 'TCGA-R8-A6MK'\n",
      " 'TCGA-VM-A8CF' 'TCGA-FG-5965' 'TCGA-HT-7854' 'TCGA-RY-A847'\n",
      " 'TCGA-DU-5849' 'TCGA-FG-7637' 'TCGA-QH-A65R' 'TCGA-S9-A7R3'\n",
      " 'TCGA-P5-A735' 'TCGA-HT-A618' 'TCGA-E1-A7Z2' 'TCGA-TQ-A7RM'\n",
      " 'TCGA-HT-7694' 'TCGA-VM-A8C8' 'TCGA-HT-7616' 'TCGA-CS-5395'\n",
      " 'TCGA-S9-A7J3' 'TCGA-E1-5303' 'TCGA-CS-4944' 'TCGA-HT-7882'\n",
      " 'TCGA-DH-A7UT' 'TCGA-DB-A64O' 'TCGA-VW-A7QS' 'TCGA-QH-A870'\n",
      " 'TCGA-DU-A5TS' 'TCGA-P5-A731' 'TCGA-KT-A74X' 'TCGA-FG-A4MU'\n",
      " 'TCGA-E1-5311' 'TCGA-HT-7902' 'TCGA-DU-7290' 'TCGA-DB-5274'\n",
      " 'TCGA-FG-A60L' 'TCGA-P5-A781' 'TCGA-DB-A4XD' 'TCGA-DU-6393'\n",
      " 'TCGA-S9-A6U0' 'TCGA-DU-7298' 'TCGA-DU-7299' 'TCGA-DU-A7TG'\n",
      " 'TCGA-FG-A6J3' 'TCGA-DB-5279' 'TCGA-QH-A6X5' 'TCGA-CS-4938'\n",
      " 'TCGA-DU-5872' 'TCGA-DU-7007' 'TCGA-P5-A77X' 'TCGA-DU-7304'\n",
      " 'TCGA-DU-A6S3' 'TCGA-QH-A86X' 'TCGA-E1-5319' 'TCGA-HT-A5RC'\n",
      " 'TCGA-HT-8106' 'TCGA-S9-A6UA' 'TCGA-TM-A84S' 'TCGA-HT-7620'\n",
      " 'TCGA-DU-A7T6' 'TCGA-HT-7611' 'TCGA-DU-A6S8' 'TCGA-QH-A65V'\n",
      " 'TCGA-TM-A84B' 'TCGA-QH-A6CZ' 'TCGA-TM-A84G' 'TCGA-DU-8161'\n",
      " 'TCGA-HT-7477' 'TCGA-DU-6392' 'TCGA-CS-5393' 'TCGA-S9-A6WO'\n",
      " 'TCGA-S9-A7R4' 'TCGA-RY-A83X' 'TCGA-HT-7693' 'TCGA-HT-7467'\n",
      " 'TCGA-FG-8186' 'TCGA-HW-A5KK' 'TCGA-DB-A75O' 'TCGA-DB-A64W'\n",
      " 'TCGA-DB-A4XF' 'TCGA-FG-7638' 'TCGA-HT-A74K' 'TCGA-HT-8105'\n",
      " 'TCGA-S9-A6U6' 'TCGA-FG-A70Y' 'TCGA-F6-A8O3' 'TCGA-QH-A65Z'\n",
      " 'TCGA-DU-6397' 'TCGA-S9-A6TS' 'TCGA-DH-5142' 'TCGA-P5-A730'\n",
      " 'TCGA-TM-A84C' 'TCGA-TM-A84M' 'TCGA-TM-A84O' 'TCGA-S9-A7IX'\n",
      " 'TCGA-DU-A76L' 'TCGA-QH-A6X8' 'TCGA-HW-8319' 'TCGA-DB-A4XE'\n",
      " 'TCGA-VM-A8C9' 'TCGA-HT-7677' 'TCGA-DH-A7UU' 'TCGA-E1-A7Z6'\n",
      " 'TCGA-P5-A5F0' 'TCGA-DU-7019' 'TCGA-HT-7879' 'TCGA-DB-A64L'\n",
      " 'TCGA-HT-7469' 'TCGA-TM-A84F' 'TCGA-S9-A6TY' 'TCGA-RY-A83Y'\n",
      " 'TCGA-E1-A7YH' 'TCGA-DH-5141' 'TCGA-HT-A615' 'TCGA-HT-7676'\n",
      " 'TCGA-HT-7873' 'TCGA-HT-7473' 'TCGA-DU-6400' 'TCGA-HW-8322'\n",
      " 'TCGA-HT-7480' 'TCGA-DU-7006' 'TCGA-P5-A72W' 'TCGA-S9-A7R1'\n",
      " 'TCGA-HT-7684' 'TCGA-E1-A7YV' 'TCGA-P5-A5F1' 'TCGA-S9-A6WN'\n",
      " 'TCGA-DU-A7T8' 'TCGA-HW-7487' 'TCGA-DU-A7TJ' 'TCGA-DU-5855'\n",
      " 'TCGA-S9-A6TV' 'TCGA-DH-A66B' 'TCGA-HT-8104' 'TCGA-FG-A87Q'\n",
      " 'TCGA-P5-A733' 'TCGA-E1-A7Z4' 'TCGA-EZ-7264' 'TCGA-S9-A7QY'\n",
      " 'TCGA-DU-6396' 'TCGA-W9-A837' 'TCGA-FG-7641' 'TCGA-HT-7471'\n",
      " 'TCGA-HT-7470' 'TCGA-QH-A6CU' 'TCGA-HT-7485' 'TCGA-TQ-A7RW'\n",
      " 'TCGA-HT-7608' 'TCGA-R8-A73M' 'TCGA-HT-A74O' 'TCGA-HT-7468'\n",
      " 'TCGA-HT-7880' 'TCGA-HT-7858' 'TCGA-HT-A614' 'TCGA-HW-7491'\n",
      " 'TCGA-FG-5963' 'TCGA-DH-A7UV' 'TCGA-TQ-A7RG' 'TCGA-VM-A8CA'\n",
      " 'TCGA-HT-A61B' 'TCGA-E1-A7YU' 'TCGA-QH-A65X' 'TCGA-VM-A8CE'\n",
      " 'TCGA-TQ-A7RP' 'TCGA-E1-A7YL' 'TCGA-DU-8158' 'TCGA-HT-7692'\n",
      " 'TCGA-FG-7643' 'TCGA-DB-5273' 'TCGA-TQ-A7RV' 'TCGA-DU-A5TU'\n",
      " 'TCGA-DB-A75K' 'TCGA-TQ-A7RI' 'TCGA-FG-8185' 'TCGA-HT-8111'\n",
      " 'TCGA-TQ-A7RR' 'TCGA-TQ-A8XE' 'TCGA-HT-A617' 'TCGA-DB-A64V'\n",
      " 'TCGA-DU-8166' 'TCGA-TM-A7C4' 'TCGA-FG-7634' 'TCGA-QH-A6XA'\n",
      " 'TCGA-HT-7602' 'TCGA-S9-A6TU' 'TCGA-DH-A66G' 'TCGA-TQ-A7RQ'\n",
      " 'TCGA-HT-A74L' 'TCGA-HT-7475' 'TCGA-QH-A6X9' 'TCGA-IK-8125'\n",
      " 'TCGA-S9-A6WQ' 'TCGA-DH-5143' 'TCGA-DB-A64R' 'TCGA-DB-A64S'\n",
      " 'TCGA-P5-A5EX' 'TCGA-DU-7294' 'TCGA-E1-5305' 'TCGA-CS-6665'\n",
      " 'TCGA-HT-7601' 'TCGA-HT-8110' 'TCGA-TM-A84L' 'TCGA-14-1450'\n",
      " 'TCGA-12-0819' 'TCGA-32-1991' 'TCGA-76-6660' 'TCGA-76-6285'\n",
      " 'TCGA-74-6575' 'TCGA-81-5911' 'TCGA-28-5220' 'TCGA-06-0876'\n",
      " 'TCGA-14-0787' 'TCGA-06-0939' 'TCGA-06-0152' 'TCGA-32-1982'\n",
      " 'TCGA-32-2634' 'TCGA-76-4927' 'TCGA-19-5950' 'TCGA-06-1804'\n",
      " 'TCGA-19-2631' 'TCGA-12-3649' 'TCGA-14-1829' 'TCGA-27-1833'\n",
      " 'TCGA-76-6282' 'TCGA-06-6388' 'TCGA-32-1979' 'TCGA-32-5222'\n",
      " 'TCGA-02-0033' 'TCGA-14-1034' 'TCGA-12-0818' 'TCGA-27-1837'\n",
      " 'TCGA-12-0618' 'TCGA-28-2513' 'TCGA-06-5408' 'TCGA-76-6662'\n",
      " 'TCGA-12-3648' 'TCGA-81-5910' 'TCGA-15-0742' 'TCGA-06-5415'\n",
      " 'TCGA-12-1088' 'TCGA-19-A60I' 'TCGA-12-1092' 'TCGA-19-1790'\n",
      " 'TCGA-14-0812' 'TCGA-16-1460' 'TCGA-28-5204' 'TCGA-41-3915'\n",
      " 'TCGA-14-1451' 'TCGA-06-1084' 'TCGA-06-0125' 'TCGA-76-6656'\n",
      " 'TCGA-14-2554' 'TCGA-06-A7TK' 'TCGA-41-2571' 'TCGA-76-6661'\n",
      " 'TCGA-28-6450' 'TCGA-28-2509' 'TCGA-14-0862' 'TCGA-32-2632'\n",
      " 'TCGA-19-2624' 'TCGA-06-0686' 'TCGA-06-0750' 'TCGA-14-3476'\n",
      " 'TCGA-06-0209' 'TCGA-06-0132' 'TCGA-12-0656' 'TCGA-26-1799'\n",
      " 'TCGA-14-0871' 'TCGA-12-0657' 'TCGA-19-1786' 'TCGA-06-6390'\n",
      " 'TCGA-28-5219' 'TCGA-14-1455' 'TCGA-41-2575' 'TCGA-28-5216'\n",
      " 'TCGA-26-A7UX' 'TCGA-06-A5U0' 'TCGA-32-1980' 'TCGA-19-4068'\n",
      " 'TCGA-06-0744' 'TCGA-76-4935' 'TCGA-26-5133' 'TCGA-41-5651'\n",
      " 'TCGA-19-1787' 'TCGA-28-1745' 'TCGA-28-5213' 'TCGA-74-6577'\n",
      " 'TCGA-32-2638' 'TCGA-19-1791' 'TCGA-06-6693' 'TCGA-06-1087'\n",
      " 'TCGA-76-4928' 'TCGA-32-4210' 'TCGA-06-5412' 'TCGA-06-5417'\n",
      " 'TCGA-28-1752' 'TCGA-06-0747' 'TCGA-06-0169' 'TCGA-26-1442'\n",
      " 'TCGA-28-2499' 'TCGA-27-2518' 'TCGA-06-0216' 'TCGA-28-1750'\n",
      " 'TCGA-06-0137' 'TCGA-06-0184' 'TCGA-19-2620' 'TCGA-41-2573'\n",
      " 'TCGA-27-2524' 'TCGA-06-0190' 'TCGA-12-0773' 'TCGA-06-2563'\n",
      " 'TCGA-74-6573' 'TCGA-06-0185' 'TCGA-06-0140' 'TCGA-27-2528'\n",
      " 'TCGA-41-4097' 'TCGA-14-1823' 'TCGA-12-0619' 'TCGA-06-0219'\n",
      " 'TCGA-14-1456' 'TCGA-06-0192' 'TCGA-02-2486' 'TCGA-16-0861'\n",
      " 'TCGA-06-0875' 'TCGA-06-0879' 'TCGA-74-6581' 'TCGA-74-6578'\n",
      " 'TCGA-14-1396' 'TCGA-06-0195' 'TCGA-28-5218' 'TCGA-06-5416'\n",
      " 'TCGA-19-2623' 'TCGA-02-0003' 'TCGA-06-0189' 'TCGA-76-6286'\n",
      " 'TCGA-12-1597' 'TCGA-14-1453' 'TCGA-19-5960' 'TCGA-76-4929'\n",
      " 'TCGA-76-4925' 'TCGA-12-1600' 'TCGA-19-1789' 'TCGA-12-5301'\n",
      " 'TCGA-12-1598' 'TCGA-02-2470' 'TCGA-19-1385' 'TCGA-06-5858'\n",
      " 'TCGA-06-1806' 'TCGA-12-0688' 'TCGA-12-3652' 'TCGA-14-0813'\n",
      " 'TCGA-32-1970' 'TCGA-06-2570' 'TCGA-27-2527' 'TCGA-14-0740'\n",
      " 'TCGA-02-0055' 'TCGA-06-5418' 'TCGA-06-6701' 'TCGA-19-1390'\n",
      " 'TCGA-06-1800' 'TCGA-32-4213' 'TCGA-06-6694' 'TCGA-06-0122'\n",
      " 'TCGA-12-3651' 'TCGA-19-0957' 'TCGA-14-0817' 'TCGA-19-5958'\n",
      " 'TCGA-19-2625' 'TCGA-14-1825' 'TCGA-27-2521' 'TCGA-OX-A56R'\n",
      " 'TCGA-16-0849' 'TCGA-76-6657' 'TCGA-06-0158' 'TCGA-28-2501'\n",
      " 'TCGA-76-6280' 'TCGA-28-1747' 'TCGA-06-2559' 'TCGA-06-0878'\n",
      " 'TCGA-06-0166' 'TCGA-28-5208' 'TCGA-28-1749' 'TCGA-19-1387'\n",
      " 'TCGA-12-0615' 'TCGA-27-1830' 'TCGA-06-2561' 'TCGA-14-0786'\n",
      " 'TCGA-06-A5U1' 'TCGA-19-5951' 'TCGA-76-6191' 'TCGA-19-4065'\n",
      " 'TCGA-RR-A6KA' 'TCGA-06-0221' 'TCGA-28-2502' 'TCGA-06-5859'\n",
      " 'TCGA-06-6389' 'TCGA-32-2495' 'TCGA-06-0743' 'TCGA-12-0821'\n",
      " 'TCGA-28-1755' 'TCGA-32-4211' 'TCGA-06-2562' 'TCGA-32-4209'\n",
      " 'TCGA-41-3393' 'TCGA-76-4932' 'TCGA-12-0826' 'TCGA-27-2519'\n",
      " 'TCGA-RR-A6KB' 'TCGA-27-1831' 'TCGA-28-2510' 'TCGA-06-0644'\n",
      " 'TCGA-06-2569' 'TCGA-32-1977' 'TCGA-06-0187' 'TCGA-26-5136'\n",
      " 'TCGA-06-0882' 'TCGA-16-0850' 'TCGA-32-1976' 'TCGA-06-0877'\n",
      " 'TCGA-4W-AA9R' 'TCGA-06-2564' 'TCGA-19-1788' 'TCGA-12-0707'\n",
      " 'TCGA-06-0214' 'TCGA-14-0781' 'TCGA-4W-AA9T' 'TCGA-06-5856'\n",
      " 'TCGA-41-6646' 'TCGA-06-0145' 'TCGA-26-1439' 'TCGA-12-1093'\n",
      " 'TCGA-14-0736' 'TCGA-06-0745' 'TCGA-14-0789' 'TCGA-26-6173'\n",
      " 'TCGA-27-1838' 'TCGA-76-6663' 'TCGA-32-2494' 'TCGA-06-2567'\n",
      " 'TCGA-41-2572' 'TCGA-12-0775' 'TCGA-41-3392' 'TCGA-14-3477'\n",
      " 'TCGA-06-A6S1' 'TCGA-12-0692' 'TCGA-14-1795' 'TCGA-19-1386'\n",
      " 'TCGA-19-A6J5' 'TCGA-06-6699' 'TCGA-16-0848' 'TCGA-74-6584'\n",
      " 'TCGA-12-0820' 'TCGA-14-4157' 'TCGA-06-0130' 'TCGA-02-2485'\n",
      " 'TCGA-12-5299' 'TCGA-12-3646' 'TCGA-06-2558' 'TCGA-06-2565'\n",
      " 'TCGA-06-6391' 'TCGA-06-0238' 'TCGA-76-4926' 'TCGA-06-A7TL'\n",
      " 'TCGA-14-0790' 'TCGA-12-0616' 'TCGA-02-0047' 'TCGA-19-5955'\n",
      " 'TCGA-14-1827' 'TCGA-06-0157' 'TCGA-06-0168' 'TCGA-26-5135'\n",
      " 'TCGA-06-6698' 'TCGA-26-5134' 'TCGA-12-5295' 'TCGA-06-0154'\n",
      " 'TCGA-12-0691' 'TCGA-12-1602' 'TCGA-12-0670' 'TCGA-28-1757'\n",
      " 'TCGA-12-0829' 'TCGA-06-0749' 'TCGA-06-5413' 'TCGA-06-0646'\n",
      " 'TCGA-26-6174' 'TCGA-12-0662' 'TCGA-28-2514' 'TCGA-06-0650'\n",
      " 'TCGA-76-4931' 'TCGA-06-0649' 'TCGA-06-0241' 'TCGA-19-5956'\n",
      " 'TCGA-06-0173' 'TCGA-02-2466' 'TCGA-06-6697' 'TCGA-06-0129'\n",
      " 'TCGA-06-6695' 'TCGA-15-1446' 'TCGA-16-1048' 'TCGA-27-2526'\n",
      " 'TCGA-76-6192' 'TCGA-27-2523' 'TCGA-06-0119' 'TCGA-27-1835'\n",
      " 'TCGA-4W-AA9S' 'TCGA-19-2629' 'TCGA-RR-A6KC' 'TCGA-06-0237'\n",
      " 'TCGA-06-0211' 'TCGA-76-6283' 'TCGA-06-0188' 'TCGA-32-4208'\n",
      " 'TCGA-06-5414' 'TCGA-12-3644' 'TCGA-87-5896' 'TCGA-06-5410'\n",
      " 'TCGA-14-1821' 'TCGA-06-0126' 'TCGA-12-0827' 'TCGA-06-0210'\n",
      " 'TCGA-06-0213' 'TCGA-14-1037' 'TCGA-06-0645' 'TCGA-06-0171'\n",
      " 'TCGA-19-5954' 'TCGA-27-1836' 'TCGA-19-2621' 'TCGA-02-2483'\n",
      " 'TCGA-32-1986' 'TCGA-12-1599' 'TCGA-06-A6S0' 'TCGA-14-0865'\n",
      " 'TCGA-16-1045' 'TCGA-28-5209' 'TCGA-19-A6J4' 'TCGA-19-5947'\n",
      " 'TCGA-06-0155' 'TCGA-76-6664' 'TCGA-06-0124' 'TCGA-06-0151'\n",
      " 'TCGA-26-5139' 'TCGA-76-4934' 'TCGA-06-0141' 'TCGA-06-0881'\n",
      " 'TCGA-12-3653' 'TCGA-28-1751' 'TCGA-06-0648' 'TCGA-06-0174'\n",
      " 'TCGA-19-1389' 'TCGA-28-1753' 'TCGA-76-6193' 'TCGA-12-3650'\n",
      " 'TCGA-14-1395' 'TCGA-32-2616' 'TCGA-06-5411' 'TCGA-28-5215'\n",
      " 'TCGA-19-5953' 'TCGA-14-1043' 'TCGA-06-0128' 'TCGA-12-1089'\n",
      " 'TCGA-27-1834' 'TCGA-19-5959' 'TCGA-16-0846' 'TCGA-28-1746'\n",
      " 'TCGA-32-2491' 'TCGA-06-2557']\n",
      "Gender ['Male' 'Female' '--']\n",
      "Age_at_diagnosis ['51 years 108 days' '38 years 261 days' '35 years 62 days'\n",
      " '32 years 283 days' '31 years 187 days' '33 years 78 days'\n",
      " '35 years 68 days' '44 years 239 days' '33 years 350 days' '87 years'\n",
      " '51 years 328 days' '54 years 95 days' '52 years 214 days'\n",
      " '47 years 123 days' '34 years 132 days' '40 years 192 days'\n",
      " '53 years 352 days' '41 years 70 days' '43 years 161 days'\n",
      " '37 years 159 days' '47 years 173 days' '31 years 8 days'\n",
      " '25 years 191 days' '66 years 305 days' '56 years 250 days'\n",
      " '35 years 362 days' '51 years 363 days' '37 years 32 days'\n",
      " '54 years 183 days' '32 years 76 days' '65 years 28 days'\n",
      " '43 years 131 days' '51 years 59 days' '43 years 221 days'\n",
      " '25 years 214 days' '45 years 24 days' '50 years 153 days'\n",
      " '27 years 166 days' '53 years 252 days' '46 years 144 days'\n",
      " '24 years 239 days' '--' '34 years 70 days' '29 years 198 days'\n",
      " '45 years 124 days' '62 years 90 days' '46 years 224 days'\n",
      " '36 years 247 days' '62 years 202 days' '70 years 159 days'\n",
      " '53 years 41 days' '48 years 124 days' '40 years 69 days'\n",
      " '40 years 7 days' '20 years 359 days' '57 years 200 days'\n",
      " '38 years 322 days' '52 years 192 days' '56 years 104 days'\n",
      " '59 years 275 days' '67 years 107 days' '48 years 346 days'\n",
      " '59 years 254 days' '58 years 147 days' '27 years 247 days'\n",
      " '51 years 230 days' '74 years 11 days' '52 years 230 days'\n",
      " '61 years 62 days' '66 years 146 days' '42 years 32 days'\n",
      " '31 years 344 days' '48 years 268 days' '33 years 340 days'\n",
      " '34 years 213 days' '24 years 54 days' '55 years 48 days'\n",
      " '27 years 323 days' '29 years 32 days' '39 years 131 days'\n",
      " '70 years 3 days' '30 years 338 days' '39 years 178 days'\n",
      " '25 years 41 days' '48 years 160 days' '57 years 17 days'\n",
      " '34 years 307 days' '58 years 137 days' '55 years 208 days'\n",
      " '60 years 49 days' '38 years 13 days' '56 years 113 days'\n",
      " '54 years 180 days' '31 years 152 days' '54 years 146 days'\n",
      " '52 years 241 days' '33 years 54 days' '42 years 173 days'\n",
      " '20 years 75 days' '64 years 106 days' '29 years 232 days'\n",
      " '36 years 222 days' '31 years 362 days' '36 years 67 days'\n",
      " '32 years 173 days' '38 years 292 days' '29 years 298 days'\n",
      " '41 years 76 days' '35 years 189 days' '33 years 39 days'\n",
      " '32 years 50 days' '49 years 276 days' '69 years 217 days'\n",
      " '14 years 154 days' '33 years 349 days' '47 years 92 days'\n",
      " '33 years 58 days' '63 years 364 days' '62 years 205 days'\n",
      " '37 years 83 days' '53 years 183 days' '53 years 74 days'\n",
      " '45 years 76 days' '33 years 331 days' '53 years 359 days'\n",
      " '52 years 156 days' '64 years 304 days' '71 years 70 days'\n",
      " '40 years 300 days' '36 years 354 days' '25 years 249 days'\n",
      " '63 years 170 days' '40 years 310 days' '47 years 215 days'\n",
      " '73 years 241 days' '24 years 51 days' '48 years 342 days'\n",
      " '41 years 325 days' '36 years 189 days' '45 years 334 days'\n",
      " '44 years 204 days' '27 years 6 days' '50 years 181 days'\n",
      " '42 years 141 days' '40 years 248 days' '62 years 192 days'\n",
      " '33 years 195 days' '46 years 42 days' '41 years 117 days'\n",
      " '47 years 333 days' '56 years 159 days' '38 years 64 days'\n",
      " '60 years 64 days' '29 years 150 days' '59 years 196 days'\n",
      " '44 years 66 days' '69 years 60 days' '63 years 253 days'\n",
      " '43 years 142 days' '61 years 316 days' '39 years 66 days'\n",
      " '31 years 315 days' '51 years 164 days' '41 years 203 days'\n",
      " '60 years 360 days' '74 years 158 days' '63 years 81 days'\n",
      " '66 years 170 days' '51 years 312 days' '39 years 62 days'\n",
      " '38 years 111 days' '37 years 92 days' '30 years 32 days'\n",
      " '54 years 143 days' '36 years 357 days' '48 years 197 days'\n",
      " '29 years 81 days' '32 years 135 days' '44 years 35 days'\n",
      " '30 years 329 days' '57 years 287 days' '19 years 55 days'\n",
      " '70 years 242 days' '63 years 67 days' '41 years 255 days'\n",
      " '29 years 291 days' '42 years 318 days' '51 years 172 days'\n",
      " '38 years 25 days' '28 years 344 days' '32 years 166 days'\n",
      " '26 years 43 days' '67 years 329 days' '40 years 326 days'\n",
      " '59 years 295 days' '58 years 16 days' '56 years 171 days'\n",
      " '20 years 276 days' '49 years 296 days' '37 years 31 days'\n",
      " '48 years 243 days' '71 years 227 days' '43 years 316 days'\n",
      " '27 years 309 days' '25 years 78 days' '30 years 126 days'\n",
      " '47 years 335 days' '31 years 262 days' '30 years 295 days'\n",
      " '30 years 276 days' '24 years 146 days' '41 years 66 days'\n",
      " '34 years 189 days' '56 years 155 days' '39 years 348 days'\n",
      " '23 years 3 days' '31 years 273 days' '17 years 271 days'\n",
      " '64 years 110 days' '27 years 221 days' '69 years 64 days'\n",
      " '37 years 51 days' '44 years 92 days' '25 years 97 days'\n",
      " '29 years 235 days' '26 years 209 days' '47 years 294 days'\n",
      " '39 years 252 days' '35 years 26 days' '33 years 287 days'\n",
      " '74 years 204 days' '50 years 167 days' '65 years 314 days'\n",
      " '60 years 116 days' '34 years 346 days' '44 years 229 days'\n",
      " '21 years 243 days' '55 years 87 days' '43 years 361 days'\n",
      " '36 years 49 days' '70 years 100 days' '23 years 352 days'\n",
      " '43 years 195 days' '30 years 264 days' '38 years 140 days'\n",
      " '34 years 188 days' '55 years 92 days' '30 years 238 days'\n",
      " '61 years 68 days' '44 years 344 days' '35 years 238 days'\n",
      " '68 years 129 days' '44 years 206 days' '38 years 89 days'\n",
      " '36 years 304 days' '52 years 32 days' '36 years 183 days'\n",
      " '33 years 176 days' '60 years 119 days' '44 years 90 days'\n",
      " '58 years 157 days' '33 years 364 days' '62 years 235 days'\n",
      " '44 years 226 days' '36 years 311 days' '29 years 132 days'\n",
      " '25 years 282 days' '20 years 307 days' '61 years 305 days'\n",
      " '41 years 222 days' '47 years 224 days' '59 years 212 days'\n",
      " '48 years 311 days' '38 years 24 days' '27 years 58 days'\n",
      " '58 years 15 days' '26 years 118 days' '44 years 209 days'\n",
      " '32 years 196 days' '22 years 305 days' '25 years 316 days'\n",
      " '34 years 27 days' '24 years 278 days' '30 years 348 days'\n",
      " '39 years 280 days' '22 years 236 days' '53 years 286 days'\n",
      " '30 years 355 days' '37 years 239 days' '36 years 73 days'\n",
      " '41 years 314 days' '57 years 201 days' '52 years 243 days'\n",
      " '31 years 346 days' '32 years 167 days' '44 years 131 days'\n",
      " '40 years 106 days' '44 years 263 days' '39 years 5 days'\n",
      " '62 years 93 days' '45 years 296 days' '48 years 131 days'\n",
      " '49 years 187 days' '38 years 194 days' '28 years 115 days'\n",
      " '38 years 273 days' '37 years 81 days' '41 years 179 days'\n",
      " '60 years 15 days' '50 years 232 days' '75 years 292 days'\n",
      " '43 years 143 days' '52 years 63 days' '38 years 333 days'\n",
      " '66 years 344 days' '30 years 57 days' '59 years 262 days'\n",
      " '35 years 37 days' '38 years 203 days' '42 years 310 days'\n",
      " '59 years 166 days' '26 years 94 days' '58 years 266 days'\n",
      " '31 years 10 days' '30 years 161 days' '45 years 231 days'\n",
      " '37 years 166 days' '34 years 162 days' '34 years 339 days'\n",
      " '32 years 53 days' '66 years 176 days' '46 years 89 days'\n",
      " '38 years 326 days' '33 years 213 days' '40 years 61 days'\n",
      " '52 years 145 days' '59 years 359 days' '58 years 55 days'\n",
      " '43 years 281 days' '33 years 192 days' '55 years 40 days'\n",
      " '43 years 226 days' '60 years 123 days' '33 years 332 days'\n",
      " '48 years 80 days' '70 years 205 days' '53 years 197 days'\n",
      " '66 years 136 days' '36 years 275 days' '40 years 49 days'\n",
      " '73 years 103 days' '36 years 165 days' '74 years 56 days'\n",
      " '43 years 145 days' '40 years 323 days' '38 years 128 days'\n",
      " '54 years 291 days' '63 years 54 days' '62 years 303 days'\n",
      " '35 years 53 days' '39 years 174 days' '29 years 341 days'\n",
      " '46 years 333 days' '46 years 110 days' '51 years 329 days'\n",
      " '54 years 221 days' '42 years 91 days' '64 years 108 days'\n",
      " '29 years 220 days' '65 years 195 days' '41 years 91 days'\n",
      " '31 years 206 days' '58 years 5 days' '54 years 318 days'\n",
      " '28 years 26 days' '20 years 116 days' '34 years 160 days'\n",
      " '54 years 198 days' '45 years 259 days' '48 years 325 days'\n",
      " '29 years 86 days' '22 years 8 days' '32 years 161 days'\n",
      " '40 years 50 days' '61 years 47 days' '57 years 276 days'\n",
      " '54 years 100 days' '56 years 317 days' '34 years 139 days'\n",
      " '27 years 289 days' '37 years 149 days' '43 years 332 days'\n",
      " '41 years 10 days' '33 years 104 days' '39 years 35 days'\n",
      " '31 years 300 days' '67 years 219 days' '30 years 140 days'\n",
      " '48 years 212 days' '50 years 302 days' '45 years 34 days'\n",
      " '47 years 299 days' '32 years 158 days' '26 years 171 days'\n",
      " '29 years 213 days' '28 years 79 days' '66 years 16 days'\n",
      " '39 years 304 days' '33 years 238 days' '60 years 75 days'\n",
      " '35 years 65 days' '35 years 45 days' '58 years 168 days'\n",
      " '26 years 50 days' '30 years 113 days' '38 years 82 days'\n",
      " '35 years 325 days' '39 years 291 days' '55 years 306 days'\n",
      " '49 years 337 days' '50 years 59 days' '52 years 163 days'\n",
      " '51 years 121 days' '61 years 285 days' '52 years 149 days'\n",
      " '35 years 66 days' '47 years 266 days' '35 years 70 days'\n",
      " '31 years 105 days' '31 years 35 days' '37 years 50 days'\n",
      " '37 years 97 days' '42 years 249 days' '32 years 116 days'\n",
      " '61 years 22 days' '48 years 78 days' '34 years 42 days'\n",
      " '30 years 252 days' '30 years 86 days' '28 years 195 days'\n",
      " '47 years 226 days' '35 years 91 days' '23 years 171 days'\n",
      " '49 years 264 days' '36 years 78 days' '54 years 268 days'\n",
      " '22 years 300 days' '42 years 5 days' '28 years 213 days'\n",
      " '25 years 232 days' '66 years 3 days' '46 years 181 days'\n",
      " '57 years 310 days' '43 years 22 days' '49 years 309 days'\n",
      " '33 years 99 days' '27 years 306 days' '62 years 166 days'\n",
      " '55 years 153 days' '37 years 285 days' '37 years 107 days'\n",
      " '32 years 122 days' '38 years 143 days' '42 years 289 days'\n",
      " '47 years 165 days' '54 years 227 days' '29 years 49 days'\n",
      " '39 years 359 days' '28 years 249 days' '23 years 108 days'\n",
      " '21 years 276 days' '38 years 229 days' '49 years 302 days'\n",
      " '38 years 308 days' '22 years 205 days' '67 years 215 days'\n",
      " '73 years 329 days' '62 years 100 days' '57 years 314 days'\n",
      " '30 years 334 days' '24 years 181 days' '20 years 84 days'\n",
      " '41 years 116 days' '53 years 258 days' '34 years 237 days'\n",
      " '51 years 350 days' '57 years 364 days' '31 years 176 days'\n",
      " '57 years 141 days' '49 years 263 days' '60 years 106 days'\n",
      " '73 years 250 days' '64 years 298 days' '73 years 164 days'\n",
      " '33 years 239 days' '67 years 151 days' '72 years 74 days'\n",
      " '69 years 124 days' '79 years 39 days' '68 years 7 days'\n",
      " '76 years 5 days' '82 years 14 days' '58 years 9 days'\n",
      " '52 years 251 days' '81 years 217 days' '74 years 172 days'\n",
      " '76 years 87 days' '57 years 110 days' '67 years 121 days'\n",
      " '63 years 313 days' '64 years 143 days' '69 years 50 days'\n",
      " '66 years 28 days' '54 years 347 days' '60 years 114 days'\n",
      " '45 years 230 days' '36 years 219 days' '49 years 174 days'\n",
      " '69 years 219 days' '54 years 340 days' '58 years 327 days'\n",
      " '61 years 183 days' '64 years 191 days' '65 years 309 days'\n",
      " '60 years 298 days' '53 years 309 days' '39 years 193 days'\n",
      " '58 years 227 days' '56 years 172 days' '65 years 344 days'\n",
      " '36 years 59 days' '72 years 192 days' '48 years 348 days'\n",
      " '39 years 157 days' '54 years 176 days' '63 years 333 days'\n",
      " '66 years 159 days' '52 years 97 days' '89 years 105 days'\n",
      " '54 years 242 days' '60 years 262 days' '77 years 116 days'\n",
      " '60 years 264 days' '80 years 61 days' '51 years 264 days'\n",
      " '53 years 145 days' '43 years 313 days' '74 years 144 days'\n",
      " '76 years 118 days' '49 years 228 days' '48 years 333 days'\n",
      " '68 years 334 days' '74 years 359 days' '69 years 211 days'\n",
      " '64 years 192 days' '58 years 144 days' '47 years 88 days'\n",
      " '61 years 282 days' '75 years 194 days' '52 years 246 days'\n",
      " '47 years 199 days' '21 years 288 days' '72 years 169 days'\n",
      " '68 years 108 days' '67 years' '52 years 238 days' '59 years 11 days'\n",
      " '59 years 149 days' '48 years 362 days' '76 years 58 days'\n",
      " '72 years 193 days' '51 years 113 days' '67 years 187 days'\n",
      " '82 years 115 days' '64 years 209 days' '75 years 265 days'\n",
      " '85 years 221 days' '73 years 105 days' '78 years 273 days'\n",
      " '45 years 136 days' '42 years 225 days' '53 years 299 days'\n",
      " '68 years 290 days' '43 years 245 days' '59 years 289 days'\n",
      " '52 years 137 days' '61 years 244 days' '40 years 207 days'\n",
      " '63 years 263 days' '63 years 307 days' '70 years 98 days'\n",
      " '59 years 362 days' '56 years 101 days' '62 years 190 days'\n",
      " '24 years 83 days' '72 years 345 days' '67 years 161 days'\n",
      " '54 years 200 days' '86 years 155 days' '62 years 222 days'\n",
      " '63 years 97 days' '58 years 200 days' '60 years 5 days'\n",
      " '67 years 17 days' '23 years 310 days' '58 years 59 days'\n",
      " '64 years 18 days' '65 years 37 days' '61 years 32 days'\n",
      " '52 years 161 days' '77 years 139 days' '58 years 280 days'\n",
      " '78 years 264 days' '63 years 122 days' '63 years 86 days'\n",
      " '23 years 133 days' '65 years 94 days' '50 years 79 days'\n",
      " '55 years 209 days' '60 years 258 days' '62 years 220 days'\n",
      " '69 years 95 days' '56 years 187 days' '76 years 72 days'\n",
      " '76 years 252 days' '86 years 8 days' '69 years 80 days'\n",
      " '59 years 219 days' '75 years 337 days' '57 years 202 days'\n",
      " '69 years 257 days' '45 years 226 days' '47 years 130 days'\n",
      " '74 years 57 days' '78 years 93 days' '59 years 64 days'\n",
      " '21 years 266 days' '81 years 34 days' '70 years 60 days'\n",
      " '62 years 153 days' '75 years 191 days' '60 years 136 days'\n",
      " '63 years 53 days' '61 years 52 days' '47 years 71 days'\n",
      " '76 years 150 days' '84 years 287 days' '77 years 153 days'\n",
      " '48 years 182 days' '69 years 223 days' '56 years 12 days'\n",
      " '76 years 171 days' '70 years 117 days' '34 years 267 days'\n",
      " '68 years 341 days' '54 years 216 days' '74 years 313 days'\n",
      " '73 years 193 days' '57 years 112 days' '44 years 230 days'\n",
      " '83 years 265 days' '74 years 291 days' '51 years 275 days'\n",
      " '52 years 60 days' '73 years 102 days' '81 years 307 days'\n",
      " '78 years 94 days' '57 years 312 days' '53 years 147 days'\n",
      " '50 years 330 days' '78 years 56 days' '76 years 236 days'\n",
      " '57 years 118 days' '36 years 108 days' '72 years 284 days'\n",
      " '31 years 11 days' '65 years 66 days' '63 years 201 days'\n",
      " '49 years 351 days' '59 years 311 days' '69 years 232 days'\n",
      " '62 years 304 days' '52 years 270 days' '56 years 294 days'\n",
      " '81 years 168 days' '40 years 293 days' '81 years 319 days'\n",
      " '50 years 171 days' '38 years 8 days' '48 years 183 days'\n",
      " '51 years 86 days' '66 years 341 days' '71 years 315 days'\n",
      " '24 years 156 days' '63 years 195 days' '69 years 116 days'\n",
      " '78 years 7 days' '30 years 155 days' '52 years 288 days'\n",
      " '65 years 57 days' '78 years 271 days' '61 years 37 days'\n",
      " '50 years 173 days' '39 years 57 days' '66 years 81 days'\n",
      " '49 years 6 days' '54 years 78 days' '58 years 48 days' '73 years 4 days'\n",
      " '53 years 303 days' '63 years 292 days' '66 years 191 days'\n",
      " '49 years 322 days' '59 years 335 days' '54 years 327 days'\n",
      " '57 years 274 days' '59 years 157 days' '44 years 55 days'\n",
      " '58 years 14 days' '65 years 18 days' '67 years 34 days'\n",
      " '75 years 172 days' '88 years 209 days' '53 years 85 days'\n",
      " '75 years 126 days' '66 years 269 days' '51 years 51 days'\n",
      " '40 years 360 days' '58 years 6 days' '57 years 29 days'\n",
      " '55 years 144 days' '40 years 268 days' '40 years 206 days'\n",
      " '54 years 89 days' '53 years 136 days' '56 years 9 days'\n",
      " '59 years 306 days' '75 years 118 days' '59 years 10 days'\n",
      " '44 years 135 days' '46 years 236 days' '68 years 248 days'\n",
      " '30 years 340 days' '36 years 302 days' '78 years 270 days'\n",
      " '83 years 235 days' '51 years 201 days' '63 years 118 days'\n",
      " '59 years 227 days' '53 years 233 days' '74 years 83 days'\n",
      " '60 years 246 days' '54 years 295 days' '63 years 9 days'\n",
      " '58 years 308 days' '60 years 274 days' '71 years 257 days'\n",
      " '75 years 78 days' '50 years 309 days' '67 years 6 days'\n",
      " '60 years 358 days' '65 years 143 days' '51 years 90 days'\n",
      " '45 years 301 days' '39 years 316 days' '70 years 245 days'\n",
      " '73 years 133 days' '65 years 360 days' '72 years 251 days'\n",
      " '61 years 177 days' '65 years 22 days' '30 years 327 days'\n",
      " '64 years 50 days' '55 years 267 days' '79 years 123 days'\n",
      " '74 years 294 days' '63 years 24 days' '81 years 21 days'\n",
      " '53 years 86 days' '69 years 343 days' '60 years 342 days'\n",
      " '55 years 214 days' '75 years 342 days' '47 years 349 days'\n",
      " '71 years 148 days' '25 years 82 days' '61 years 247 days'\n",
      " '47 years 302 days' '50 years 129 days' '72 years 97 days'\n",
      " '31 years 7 days' '86 years 216 days' '38 years 214 days'\n",
      " '72 years 302 days' '55 years 46 days' '66 years 320 days'\n",
      " '55 years 361 days' '72 years 57 days' '33 years 7 days'\n",
      " '83 years 114 days' '43 years 259 days' '68 years 224 days'\n",
      " '79 years 183 days' '67 years 326 days' '49 years 298 days'\n",
      " '66 years 256 days' '68 years 221 days' '47 years 52 days'\n",
      " '61 years 218 days' '49 years 157 days' '67 years 120 days'\n",
      " '32 years 268 days' '65 years 41 days' '66 years 213 days'\n",
      " '62 years 281 days' '50 years 16 days' '34 years 111 days'\n",
      " '61 years 11 days' '77 years 353 days' '54 years 101 days'\n",
      " '51 years 32 days' '53 years 8 days' '78 years 253 days'\n",
      " '46 years 337 days' '52 years 244 days' '48 years 249 days'\n",
      " '51 years 205 days' '62 years 41 days' '58 years 20 days'\n",
      " '61 years 112 days' '66 years 111 days' '64 years 43 days'\n",
      " '56 years 114 days' '77 years 325 days' '85 years 65 days'\n",
      " '77 years 178 days' '63 years 121 days' '76 years 221 days']\n",
      "Primary_Diagnosis ['Oligodendroglioma, NOS' 'Mixed glioma' 'Astrocytoma, NOS'\n",
      " 'Astrocytoma, anaplastic' 'Oligodendroglioma, anaplastic' '--'\n",
      " 'Glioblastoma']\n",
      "Race ['white' 'asian' 'black or african american' '--' 'not reported'\n",
      " 'american indian or alaska native']\n",
      "IDH1 ['MUTATED' 'NOT_MUTATED']\n",
      "TP53 ['NOT_MUTATED' 'MUTATED']\n",
      "ATRX ['NOT_MUTATED' 'MUTATED']\n",
      "PTEN ['NOT_MUTATED' 'MUTATED']\n",
      "EGFR ['NOT_MUTATED' 'MUTATED']\n",
      "CIC ['NOT_MUTATED' 'MUTATED']\n",
      "MUC16 ['NOT_MUTATED' 'MUTATED']\n",
      "PIK3CA ['MUTATED' 'NOT_MUTATED']\n",
      "NF1 ['NOT_MUTATED' 'MUTATED']\n",
      "PIK3R1 ['NOT_MUTATED' 'MUTATED']\n",
      "FUBP1 ['MUTATED' 'NOT_MUTATED']\n",
      "RB1 ['NOT_MUTATED' 'MUTATED']\n",
      "NOTCH1 ['NOT_MUTATED' 'MUTATED']\n",
      "BCOR ['NOT_MUTATED' 'MUTATED']\n",
      "CSMD3 ['NOT_MUTATED' 'MUTATED']\n",
      "SMARCA4 ['NOT_MUTATED' 'MUTATED']\n",
      "GRIN2A ['NOT_MUTATED' 'MUTATED']\n",
      "IDH2 ['NOT_MUTATED' 'MUTATED']\n",
      "FAT4 ['NOT_MUTATED' 'MUTATED']\n",
      "PDGFRA ['NOT_MUTATED' 'MUTATED']\n"
     ]
    }
   ],
   "source": [
    "for i in df.columns:\n",
    "    print(i,df[i].unique())"
   ]
  },
  {
   "cell_type": "markdown",
   "metadata": {},
   "source": [
    "#### Dropping columns"
   ]
  },
  {
   "cell_type": "code",
   "execution_count": 7,
   "metadata": {},
   "outputs": [],
   "source": [
    "#Dropping columns Project and Case_ID, because they are insignificant and has no value in detecting tumors\n",
    "df_cleaned = df.drop(['Project','Case_ID'] ,  axis = 1)"
   ]
  },
  {
   "cell_type": "markdown",
   "metadata": {},
   "source": []
  },
  {
   "cell_type": "code",
   "execution_count": 8,
   "metadata": {},
   "outputs": [
    {
     "data": {
      "text/html": [
       "<div>\n",
       "<style scoped>\n",
       "    .dataframe tbody tr th:only-of-type {\n",
       "        vertical-align: middle;\n",
       "    }\n",
       "\n",
       "    .dataframe tbody tr th {\n",
       "        vertical-align: top;\n",
       "    }\n",
       "\n",
       "    .dataframe thead th {\n",
       "        text-align: right;\n",
       "    }\n",
       "</style>\n",
       "<table border=\"1\" class=\"dataframe\">\n",
       "  <thead>\n",
       "    <tr style=\"text-align: right;\">\n",
       "      <th></th>\n",
       "      <th>Grade</th>\n",
       "      <th>Gender</th>\n",
       "      <th>Age_at_diagnosis</th>\n",
       "      <th>Primary_Diagnosis</th>\n",
       "      <th>Race</th>\n",
       "      <th>IDH1</th>\n",
       "      <th>TP53</th>\n",
       "      <th>ATRX</th>\n",
       "      <th>PTEN</th>\n",
       "      <th>EGFR</th>\n",
       "      <th>...</th>\n",
       "      <th>FUBP1</th>\n",
       "      <th>RB1</th>\n",
       "      <th>NOTCH1</th>\n",
       "      <th>BCOR</th>\n",
       "      <th>CSMD3</th>\n",
       "      <th>SMARCA4</th>\n",
       "      <th>GRIN2A</th>\n",
       "      <th>IDH2</th>\n",
       "      <th>FAT4</th>\n",
       "      <th>PDGFRA</th>\n",
       "    </tr>\n",
       "  </thead>\n",
       "  <tbody>\n",
       "    <tr>\n",
       "      <th>41</th>\n",
       "      <td>LGG</td>\n",
       "      <td>--</td>\n",
       "      <td>--</td>\n",
       "      <td>--</td>\n",
       "      <td>--</td>\n",
       "      <td>MUTATED</td>\n",
       "      <td>MUTATED</td>\n",
       "      <td>MUTATED</td>\n",
       "      <td>NOT_MUTATED</td>\n",
       "      <td>NOT_MUTATED</td>\n",
       "      <td>...</td>\n",
       "      <td>NOT_MUTATED</td>\n",
       "      <td>NOT_MUTATED</td>\n",
       "      <td>NOT_MUTATED</td>\n",
       "      <td>NOT_MUTATED</td>\n",
       "      <td>NOT_MUTATED</td>\n",
       "      <td>NOT_MUTATED</td>\n",
       "      <td>NOT_MUTATED</td>\n",
       "      <td>NOT_MUTATED</td>\n",
       "      <td>NOT_MUTATED</td>\n",
       "      <td>NOT_MUTATED</td>\n",
       "    </tr>\n",
       "    <tr>\n",
       "      <th>671</th>\n",
       "      <td>GBM</td>\n",
       "      <td>--</td>\n",
       "      <td>--</td>\n",
       "      <td>--</td>\n",
       "      <td>--</td>\n",
       "      <td>NOT_MUTATED</td>\n",
       "      <td>NOT_MUTATED</td>\n",
       "      <td>NOT_MUTATED</td>\n",
       "      <td>NOT_MUTATED</td>\n",
       "      <td>NOT_MUTATED</td>\n",
       "      <td>...</td>\n",
       "      <td>NOT_MUTATED</td>\n",
       "      <td>NOT_MUTATED</td>\n",
       "      <td>NOT_MUTATED</td>\n",
       "      <td>NOT_MUTATED</td>\n",
       "      <td>NOT_MUTATED</td>\n",
       "      <td>NOT_MUTATED</td>\n",
       "      <td>NOT_MUTATED</td>\n",
       "      <td>NOT_MUTATED</td>\n",
       "      <td>NOT_MUTATED</td>\n",
       "      <td>NOT_MUTATED</td>\n",
       "    </tr>\n",
       "    <tr>\n",
       "      <th>706</th>\n",
       "      <td>GBM</td>\n",
       "      <td>--</td>\n",
       "      <td>--</td>\n",
       "      <td>--</td>\n",
       "      <td>--</td>\n",
       "      <td>NOT_MUTATED</td>\n",
       "      <td>NOT_MUTATED</td>\n",
       "      <td>NOT_MUTATED</td>\n",
       "      <td>MUTATED</td>\n",
       "      <td>NOT_MUTATED</td>\n",
       "      <td>...</td>\n",
       "      <td>NOT_MUTATED</td>\n",
       "      <td>NOT_MUTATED</td>\n",
       "      <td>NOT_MUTATED</td>\n",
       "      <td>NOT_MUTATED</td>\n",
       "      <td>NOT_MUTATED</td>\n",
       "      <td>NOT_MUTATED</td>\n",
       "      <td>NOT_MUTATED</td>\n",
       "      <td>NOT_MUTATED</td>\n",
       "      <td>NOT_MUTATED</td>\n",
       "      <td>NOT_MUTATED</td>\n",
       "    </tr>\n",
       "    <tr>\n",
       "      <th>794</th>\n",
       "      <td>GBM</td>\n",
       "      <td>--</td>\n",
       "      <td>--</td>\n",
       "      <td>--</td>\n",
       "      <td>--</td>\n",
       "      <td>NOT_MUTATED</td>\n",
       "      <td>NOT_MUTATED</td>\n",
       "      <td>NOT_MUTATED</td>\n",
       "      <td>NOT_MUTATED</td>\n",
       "      <td>MUTATED</td>\n",
       "      <td>...</td>\n",
       "      <td>NOT_MUTATED</td>\n",
       "      <td>NOT_MUTATED</td>\n",
       "      <td>NOT_MUTATED</td>\n",
       "      <td>NOT_MUTATED</td>\n",
       "      <td>NOT_MUTATED</td>\n",
       "      <td>NOT_MUTATED</td>\n",
       "      <td>NOT_MUTATED</td>\n",
       "      <td>NOT_MUTATED</td>\n",
       "      <td>NOT_MUTATED</td>\n",
       "      <td>NOT_MUTATED</td>\n",
       "    </tr>\n",
       "  </tbody>\n",
       "</table>\n",
       "<p>4 rows × 25 columns</p>\n",
       "</div>"
      ],
      "text/plain": [
       "    Grade Gender Age_at_diagnosis Primary_Diagnosis Race         IDH1  \\\n",
       "41    LGG     --               --                --   --      MUTATED   \n",
       "671   GBM     --               --                --   --  NOT_MUTATED   \n",
       "706   GBM     --               --                --   --  NOT_MUTATED   \n",
       "794   GBM     --               --                --   --  NOT_MUTATED   \n",
       "\n",
       "            TP53         ATRX         PTEN         EGFR  ...        FUBP1  \\\n",
       "41       MUTATED      MUTATED  NOT_MUTATED  NOT_MUTATED  ...  NOT_MUTATED   \n",
       "671  NOT_MUTATED  NOT_MUTATED  NOT_MUTATED  NOT_MUTATED  ...  NOT_MUTATED   \n",
       "706  NOT_MUTATED  NOT_MUTATED      MUTATED  NOT_MUTATED  ...  NOT_MUTATED   \n",
       "794  NOT_MUTATED  NOT_MUTATED  NOT_MUTATED      MUTATED  ...  NOT_MUTATED   \n",
       "\n",
       "             RB1       NOTCH1         BCOR        CSMD3      SMARCA4  \\\n",
       "41   NOT_MUTATED  NOT_MUTATED  NOT_MUTATED  NOT_MUTATED  NOT_MUTATED   \n",
       "671  NOT_MUTATED  NOT_MUTATED  NOT_MUTATED  NOT_MUTATED  NOT_MUTATED   \n",
       "706  NOT_MUTATED  NOT_MUTATED  NOT_MUTATED  NOT_MUTATED  NOT_MUTATED   \n",
       "794  NOT_MUTATED  NOT_MUTATED  NOT_MUTATED  NOT_MUTATED  NOT_MUTATED   \n",
       "\n",
       "          GRIN2A         IDH2         FAT4       PDGFRA  \n",
       "41   NOT_MUTATED  NOT_MUTATED  NOT_MUTATED  NOT_MUTATED  \n",
       "671  NOT_MUTATED  NOT_MUTATED  NOT_MUTATED  NOT_MUTATED  \n",
       "706  NOT_MUTATED  NOT_MUTATED  NOT_MUTATED  NOT_MUTATED  \n",
       "794  NOT_MUTATED  NOT_MUTATED  NOT_MUTATED  NOT_MUTATED  \n",
       "\n",
       "[4 rows x 25 columns]"
      ]
     },
     "execution_count": 8,
     "metadata": {},
     "output_type": "execute_result"
    }
   ],
   "source": [
    "df_cleaned[df_cleaned['Gender'] == \"--\"]"
   ]
  },
  {
   "cell_type": "code",
   "execution_count": 9,
   "metadata": {},
   "outputs": [
    {
     "data": {
      "text/plain": [
       "(862, 25)"
      ]
     },
     "execution_count": 9,
     "metadata": {},
     "output_type": "execute_result"
    }
   ],
   "source": [
    "df_cleaned.shape\n"
   ]
  },
  {
   "cell_type": "code",
   "execution_count": 10,
   "metadata": {},
   "outputs": [],
   "source": [
    "# Replacing '--' values with NA\n",
    "df_cleaned.replace('--', pd.NA, inplace=True) \n"
   ]
  },
  {
   "cell_type": "code",
   "execution_count": 11,
   "metadata": {},
   "outputs": [
    {
     "data": {
      "text/plain": [
       "array(['Male', 'Female', <NA>], dtype=object)"
      ]
     },
     "execution_count": 11,
     "metadata": {},
     "output_type": "execute_result"
    }
   ],
   "source": [
    "df_cleaned['Gender'].unique()"
   ]
  },
  {
   "cell_type": "code",
   "execution_count": 12,
   "metadata": {},
   "outputs": [],
   "source": [
    "df_cleaned.to_csv(\"abc.csv\")"
   ]
  },
  {
   "cell_type": "code",
   "execution_count": 13,
   "metadata": {},
   "outputs": [
    {
     "data": {
      "text/plain": [
       "(857, 25)"
      ]
     },
     "execution_count": 13,
     "metadata": {},
     "output_type": "execute_result"
    }
   ],
   "source": [
    "#Dropping the entire row with '<NA>'  values\n",
    "df_cleaned = df_cleaned.dropna(axis=0, how='any')\n",
    "df_cleaned.shape\n"
   ]
  },
  {
   "cell_type": "markdown",
   "metadata": {},
   "source": [
    "#### Modifying Age feature values\n",
    "- From the format '76 years 200 days' to something like 76.55 , assuming the current year has 365 days"
   ]
  },
  {
   "cell_type": "code",
   "execution_count": 14,
   "metadata": {},
   "outputs": [
    {
     "data": {
      "text/plain": [
       "0      51.30\n",
       "1      38.72\n",
       "2      35.17\n",
       "3      32.78\n",
       "4      31.51\n",
       "       ...  \n",
       "857    77.89\n",
       "858    85.18\n",
       "859    77.49\n",
       "860    63.33\n",
       "861    76.61\n",
       "Name: Age_modified, Length: 857, dtype: float64"
      ]
     },
     "execution_count": 14,
     "metadata": {},
     "output_type": "execute_result"
    }
   ],
   "source": [
    "#To get only years\n",
    "df_cleaned['only_years'] = df_cleaned['Age_at_diagnosis'].apply(lambda x: int(x.split()[0]))\n",
    "\n",
    "#To get only days and dividing it by 365 days to get a standarize decimal value value\n",
    "df_cleaned['only_days'] = df_cleaned['Age_at_diagnosis'].apply(lambda x: ((int(x.split()[2]) / 365)) if len(x.split()) > 2 else 0)\n",
    "\n",
    "#Concatenating age and days\n",
    "age_modified_values = df_cleaned['only_years'] + df_cleaned['only_days']\n",
    "\n",
    "#Inserting column 'Age_modified' to index 3\n",
    "df_cleaned.insert(loc =3, column = 'Age_modified', value = age_modified_values)\n",
    "\n",
    "#Rounding off to 2 decimal value\n",
    "df_cleaned['Age_modified'].round(2)"
   ]
  },
  {
   "cell_type": "code",
   "execution_count": 15,
   "metadata": {},
   "outputs": [],
   "source": [
    "#Dropping unwanted columns now\n",
    "df_cleaned = df_cleaned.drop(['Age_at_diagnosis','only_years','only_days'], axis = 1)"
   ]
  },
  {
   "cell_type": "markdown",
   "metadata": {},
   "source": [
    "#### Converting certain column values to numerical values:\n",
    "---\n"
   ]
  },
  {
   "cell_type": "markdown",
   "metadata": {},
   "source": [
    "\n",
    "- Grade\n",
    "    - **LGG = 0**\n",
    "    - **GBM = 1**\n",
    "    \n",
    "---\n",
    "\n",
    "\n",
    "- Gender\n",
    "    - **Male = 0**\n",
    "    - **Female = 1**\n",
    "---\n",
    "- Primary_Diagnosis\n",
    "    - **\"Oligodendroglioma, NOS\" = 0**\n",
    "    - **\"Mixed glioma\" = 1**\n",
    "    - **\"Astrocytoma, NOS\" = 2**\n",
    "    - **\"Astrocytoma, anaplastic\"= 3**\n",
    "    - **\"Oligodendroglioma, anaplastic\" = 4**\n",
    "    - **\"Glioblastoma\"= 5**\n",
    "---\n",
    "- Race\n",
    "    - **\"white\" = 0**\n",
    "    - **\"asian\" = 1**\n",
    "    - **\"black or african american\" = 2**\n",
    "    - **\"not reported\"= 3**\n",
    "    - **\"american indian or alaska native\" = 4**\n"
   ]
  },
  {
   "cell_type": "code",
   "execution_count": 16,
   "metadata": {},
   "outputs": [],
   "source": [
    "#for feature column Grade\n",
    "df_cleaned['Grade'] = pd.factorize(df_cleaned['Grade'])[0]\n",
    "\n",
    "#for feature column Gender\n",
    "df_cleaned['Gender'] = pd.factorize(df_cleaned['Gender'])[0]\n",
    "\n",
    "#for feature column Primary_Diagnosis\n",
    "df_cleaned['Primary_Diagnosis'] = pd.factorize(df_cleaned['Primary_Diagnosis'])[0]\n",
    "\n",
    "#for feature column Race\n",
    "df_cleaned['Race'] = pd.factorize(df_cleaned['Race'])[0]"
   ]
  },
  {
   "cell_type": "markdown",
   "metadata": {},
   "source": [
    "##### Converting rest 20 column feature values to numerical at once, because all of them have just two distinct values\n",
    "- **MUTATED = 0**\n",
    "- **NON_MUTATED = 1**\n",
    "\n",
    "**NOTE:** *Mutation or alteration is detected in the gene being analyzed. This alteration could be a change in the DNA sequence that might affect the gene's function or activity. Mutations in these genes are often associated with tumor development*"
   ]
  },
  {
   "cell_type": "code",
   "execution_count": 17,
   "metadata": {},
   "outputs": [],
   "source": [
    "#Getting columns to replace\n",
    "columns_to_replace = df_cleaned.columns[5:]\n",
    "\n",
    "#Mapping\n",
    "replacement_mapping = {'MUTATED': 0, 'NOT_MUTATED': 1}\n",
    "\n",
    "#Maping to from each feature column\n",
    "for col in columns_to_replace:\n",
    "    df_cleaned[col] = df_cleaned[col].replace(replacement_mapping)\n"
   ]
  },
  {
   "cell_type": "code",
   "execution_count": 18,
   "metadata": {},
   "outputs": [
    {
     "data": {
      "text/plain": [
       "(857, 25)"
      ]
     },
     "execution_count": 18,
     "metadata": {},
     "output_type": "execute_result"
    }
   ],
   "source": [
    "#Saving a set as a HOLD OUT data\n",
    "df_cleaned[-10:].to_excel(\"Hold out preprocessed data.xlsx\")\n",
    "df_cleaned.shape\n"
   ]
  },
  {
   "cell_type": "code",
   "execution_count": 19,
   "metadata": {},
   "outputs": [],
   "source": [
    "#Saving all the remaining preprocessed data\n",
    "df_cleaned[:-10].to_excel(\"Preprocessed_data.xlsx\", index=False)\n"
   ]
  },
  {
   "cell_type": "markdown",
   "metadata": {},
   "source": [
    "## Spliiting the data for Training & Testing\n",
    "- 80 % for Training\n",
    "- 20 % for Testing"
   ]
  },
  {
   "cell_type": "code",
   "execution_count": 20,
   "metadata": {},
   "outputs": [
    {
     "name": "stdout",
     "output_type": "stream",
     "text": [
      "Training Data: (677, 24)\n",
      "Testing Data: (170, 24)\n",
      "Training Target Data: (677,)\n",
      "Testing Target Data: (170,)\n"
     ]
    }
   ],
   "source": [
    "import pandas as pd\n",
    "from sklearn.model_selection import train_test_split\n",
    "\n",
    "\n",
    "#Reading the preprocessed data from an excel file\n",
    "df = pd.read_excel(\"Preprocessed_data.xlsx\")\n",
    "df.shape\n",
    "\n",
    "#Extracting Target Variable\n",
    "y = df['Grade']\n",
    "\n",
    "#Extracting Features\n",
    "X = df.drop('Grade', axis = 1)\n",
    "\n",
    "#Splitting the dataset\n",
    "X_train, X_test, y_train, y_test = train_test_split(X,y, test_size= 0.2, random_state=313)\n",
    "\n",
    "\n",
    "print(\"Training Data:\",X_train.shape)\n",
    "print(\"Testing Data:\", X_test.shape)\n",
    "print(\"Training Target Data:\",y_train.shape)\n",
    "print(\"Testing Target Data:\",y_test.shape)"
   ]
  },
  {
   "cell_type": "markdown",
   "metadata": {},
   "source": [
    "## Model Selection"
   ]
  },
  {
   "cell_type": "markdown",
   "metadata": {},
   "source": [
    "### **Model 1 : Support Vector Machines (SVM)**"
   ]
  },
  {
   "cell_type": "markdown",
   "metadata": {},
   "source": [
    "Why?\n",
    "\n",
    "SVMs are powerful for binary classification tasks. They work well with small to medium-sized datasets and can capture complex relationships in the data.\n",
    "\n",
    "Reasons:\n",
    "\n",
    "Effective with Small/Medium-Sized Datasets: SVMs can handle datasets with a moderate number of samples and features. With 800 samples and 23 features, an SVM can potentially capture complex relationships without overfitting.\n",
    "\n",
    "Ability to Handle Nonlinear Relationships: SVMs, especially when using non-linear kernels (like radial basis function - RBF), can capture complex decision boundaries, which might be beneficial in distinguishing between different types of brain tumors.\n",
    "\n",
    "Robustness to Overfitting: SVMs are less prone to overfitting compared to some other complex models, which is advantageous when dealing with limited data. They can find a balance between capturing patterns and generalizing well to new data.\n",
    "\n",
    "Versatility: SVMs can handle both linear and non-linear classification tasks. With appropriate kernel selection and hyperparameter tuning, SVMs can adapt to various data distributions.\n",
    "\n",
    "\n",
    "NOTE : **We will use SVC, SVC in scikit-learn refers to the implementation of Support Vector Classification, allowing you to perform classification tasks using the SVM algorithm**"
   ]
  },
  {
   "cell_type": "markdown",
   "metadata": {},
   "source": [
    "**Parameters**\n",
    "- C: Penalty parameter of the error term. It controls the trade-off between maximizing the margin and minimizing the classification error. Higher values of C can lead to overfitting, while lower values can lead to underfitting.\n",
    "\n",
    "- Kernel: Specifies the kernel type used in the algorithm. Common choices are 'linear', 'poly', 'rbf' (Gaussian), 'sigmoid', etc. The choice of kernel impacts the decision boundary's flexibility in capturing the non-linearity in the data.\n",
    "\n",
    "- Gamma: Parameter for non-linear kernels (e.g., 'rbf', 'poly'). It defines the influence of a single training sample, where lower values consider points further away, and higher values give more weight to nearby points. Higher gamma values can lead to overfitting.\n",
    "\n",
    "- Degree: For the 'poly' kernel, it represents the degree of the polynomial kernel function. Higher degrees can capture more complex relationships but can also lead to overfitting.\n",
    "\n",
    "- Class weights (class_weight): Useful for imbalanced datasets, it assigns different weights to different classes. It can be set to 'balanced' or a custom weight dictionary.\n",
    "\n",
    "- Decision Function Shape (decision_function_shape): For multi-class problems, it determines how the decision function is calculated. 'ovo' (one-vs-one) or 'ovr' (one-vs-rest) are common choices."
   ]
  },
  {
   "cell_type": "markdown",
   "metadata": {},
   "source": [
    "#### Tuning Kernel parameter "
   ]
  },
  {
   "cell_type": "markdown",
   "metadata": {},
   "source": [
    "**Kernel 1 : Linear**\n",
    "- *Pros: Computationally efficient, works well for linearly separable data.*\n",
    "- *Cons: Might not capture complex, nonlinear relationships present in genetic data.*"
   ]
  },
  {
   "cell_type": "code",
   "execution_count": 21,
   "metadata": {},
   "outputs": [
    {
     "name": "stdout",
     "output_type": "stream",
     "text": [
      "[LibSVM]"
     ]
    },
    {
     "data": {
      "text/html": [
       "<style>#sk-container-id-1 {color: black;background-color: white;}#sk-container-id-1 pre{padding: 0;}#sk-container-id-1 div.sk-toggleable {background-color: white;}#sk-container-id-1 label.sk-toggleable__label {cursor: pointer;display: block;width: 100%;margin-bottom: 0;padding: 0.3em;box-sizing: border-box;text-align: center;}#sk-container-id-1 label.sk-toggleable__label-arrow:before {content: \"▸\";float: left;margin-right: 0.25em;color: #696969;}#sk-container-id-1 label.sk-toggleable__label-arrow:hover:before {color: black;}#sk-container-id-1 div.sk-estimator:hover label.sk-toggleable__label-arrow:before {color: black;}#sk-container-id-1 div.sk-toggleable__content {max-height: 0;max-width: 0;overflow: hidden;text-align: left;background-color: #f0f8ff;}#sk-container-id-1 div.sk-toggleable__content pre {margin: 0.2em;color: black;border-radius: 0.25em;background-color: #f0f8ff;}#sk-container-id-1 input.sk-toggleable__control:checked~div.sk-toggleable__content {max-height: 200px;max-width: 100%;overflow: auto;}#sk-container-id-1 input.sk-toggleable__control:checked~label.sk-toggleable__label-arrow:before {content: \"▾\";}#sk-container-id-1 div.sk-estimator input.sk-toggleable__control:checked~label.sk-toggleable__label {background-color: #d4ebff;}#sk-container-id-1 div.sk-label input.sk-toggleable__control:checked~label.sk-toggleable__label {background-color: #d4ebff;}#sk-container-id-1 input.sk-hidden--visually {border: 0;clip: rect(1px 1px 1px 1px);clip: rect(1px, 1px, 1px, 1px);height: 1px;margin: -1px;overflow: hidden;padding: 0;position: absolute;width: 1px;}#sk-container-id-1 div.sk-estimator {font-family: monospace;background-color: #f0f8ff;border: 1px dotted black;border-radius: 0.25em;box-sizing: border-box;margin-bottom: 0.5em;}#sk-container-id-1 div.sk-estimator:hover {background-color: #d4ebff;}#sk-container-id-1 div.sk-parallel-item::after {content: \"\";width: 100%;border-bottom: 1px solid gray;flex-grow: 1;}#sk-container-id-1 div.sk-label:hover label.sk-toggleable__label {background-color: #d4ebff;}#sk-container-id-1 div.sk-serial::before {content: \"\";position: absolute;border-left: 1px solid gray;box-sizing: border-box;top: 0;bottom: 0;left: 50%;z-index: 0;}#sk-container-id-1 div.sk-serial {display: flex;flex-direction: column;align-items: center;background-color: white;padding-right: 0.2em;padding-left: 0.2em;position: relative;}#sk-container-id-1 div.sk-item {position: relative;z-index: 1;}#sk-container-id-1 div.sk-parallel {display: flex;align-items: stretch;justify-content: center;background-color: white;position: relative;}#sk-container-id-1 div.sk-item::before, #sk-container-id-1 div.sk-parallel-item::before {content: \"\";position: absolute;border-left: 1px solid gray;box-sizing: border-box;top: 0;bottom: 0;left: 50%;z-index: -1;}#sk-container-id-1 div.sk-parallel-item {display: flex;flex-direction: column;z-index: 1;position: relative;background-color: white;}#sk-container-id-1 div.sk-parallel-item:first-child::after {align-self: flex-end;width: 50%;}#sk-container-id-1 div.sk-parallel-item:last-child::after {align-self: flex-start;width: 50%;}#sk-container-id-1 div.sk-parallel-item:only-child::after {width: 0;}#sk-container-id-1 div.sk-dashed-wrapped {border: 1px dashed gray;margin: 0 0.4em 0.5em 0.4em;box-sizing: border-box;padding-bottom: 0.4em;background-color: white;}#sk-container-id-1 div.sk-label label {font-family: monospace;font-weight: bold;display: inline-block;line-height: 1.2em;}#sk-container-id-1 div.sk-label-container {text-align: center;}#sk-container-id-1 div.sk-container {/* jupyter's `normalize.less` sets `[hidden] { display: none; }` but bootstrap.min.css set `[hidden] { display: none !important; }` so we also need the `!important` here to be able to override the default hidden behavior on the sphinx rendered scikit-learn.org. See: https://github.com/scikit-learn/scikit-learn/issues/21755 */display: inline-block !important;position: relative;}#sk-container-id-1 div.sk-text-repr-fallback {display: none;}</style><div id=\"sk-container-id-1\" class=\"sk-top-container\"><div class=\"sk-text-repr-fallback\"><pre>SVC(kernel=&#x27;linear&#x27;, random_state=313, verbose=True)</pre><b>In a Jupyter environment, please rerun this cell to show the HTML representation or trust the notebook. <br />On GitHub, the HTML representation is unable to render, please try loading this page with nbviewer.org.</b></div><div class=\"sk-container\" hidden><div class=\"sk-item\"><div class=\"sk-estimator sk-toggleable\"><input class=\"sk-toggleable__control sk-hidden--visually\" id=\"sk-estimator-id-1\" type=\"checkbox\" checked><label for=\"sk-estimator-id-1\" class=\"sk-toggleable__label sk-toggleable__label-arrow\">SVC</label><div class=\"sk-toggleable__content\"><pre>SVC(kernel=&#x27;linear&#x27;, random_state=313, verbose=True)</pre></div></div></div></div></div>"
      ],
      "text/plain": [
       "SVC(kernel='linear', random_state=313, verbose=True)"
      ]
     },
     "execution_count": 21,
     "metadata": {},
     "output_type": "execute_result"
    }
   ],
   "source": [
    "from sklearn import svm\n",
    "\n",
    "#Initializing SVM, Using a linear kernel should be a good starting point\n",
    "svm_classifier = svm.SVC(kernel = 'linear', random_state = 313,verbose=True)\n",
    "\n",
    "#Training the model\n",
    "svm_classifier.fit(X_train, y_train)"
   ]
  },
  {
   "cell_type": "code",
   "execution_count": 22,
   "metadata": {},
   "outputs": [
    {
     "data": {
      "text/plain": [
       "1.0"
      ]
     },
     "execution_count": 22,
     "metadata": {},
     "output_type": "execute_result"
    }
   ],
   "source": [
    "from sklearn.metrics import accuracy_score\n",
    "\n",
    "#To get accuracy score\n",
    "accuracy_score(y_test,svm_classifier.predict(X_test))"
   ]
  },
  {
   "cell_type": "markdown",
   "metadata": {},
   "source": [
    "Results: (100% accuracy)\n",
    "- It implies that the data is separable by a hyperplane in the given feature space. However, this is a bad sign, the model will struggle while testing on the unseen data.\n",
    "- So, it will not generalize well"
   ]
  },
  {
   "cell_type": "markdown",
   "metadata": {},
   "source": [
    "**Kernel 2 : Radial Function Bias (RBF)**"
   ]
  },
  {
   "cell_type": "code",
   "execution_count": 23,
   "metadata": {},
   "outputs": [
    {
     "name": "stdout",
     "output_type": "stream",
     "text": [
      "[LibSVM]"
     ]
    },
    {
     "data": {
      "text/plain": [
       "0.8529411764705882"
      ]
     },
     "execution_count": 23,
     "metadata": {},
     "output_type": "execute_result"
    }
   ],
   "source": [
    "#Initializing SVM, Using a linear kernel should be a good starting point\n",
    "svm_classifier = svm.SVC(C = 0.5,kernel='rbf', gamma='scale',verbose=True)\n",
    "\n",
    "#Training the model\n",
    "svm_classifier.fit(X_train, y_train)\n",
    "\n",
    "accuracy_score(y_test,svm_classifier.predict(X_test))"
   ]
  },
  {
   "cell_type": "markdown",
   "metadata": {},
   "source": [
    "Results: (89% accuracy)\n",
    "\n",
    "- The RBF kernel is more flexible and can capture non-linear decision boundaries by projecting the data into a higher-dimensional space.\n"
   ]
  },
  {
   "cell_type": "markdown",
   "metadata": {},
   "source": [
    "**Kernels conclusion**\n",
    "- The drop in accuracy from 100% to 89% with the RBF kernel is not necessarily a negative sign; it often signifies better generalization and a more realistic estimation of the model's performance on unseen data.\n",
    "- An accuracy of 89% with the RBF kernel might indicate a more realistic ,reliable performance and a better sign towards model's ability to generalize to new, unseen data."
   ]
  },
  {
   "cell_type": "markdown",
   "metadata": {},
   "source": [
    "#### Tuning `C` parameter\n",
    " - The C parameter in SVM controls the balance between achieving a larger margin and minimizing the training error. \n",
    " - Choosing the appropriate C value is essential to ensure the SVM model's ability to generalize well to new, unseen data without overfitting or underfitting.\n",
    "\n",
    " Note : A very large C value might cause overfitting, where the model learns the training data too well but fails to generalize to new data. On the other hand, a very small C value might result in underfitting, where the model is too simplistic and doesn't capture the complexities in the data."
   ]
  },
  {
   "cell_type": "markdown",
   "metadata": {},
   "source": [
    "Using Cross-Validation technique\n",
    "-  It splits the dataset into k consecutive folds (or subsets). \n",
    "- For each of the k folds, it trains the model on k-1 folds of the data and evaluates its accuracy on the remaining fold. \n",
    "- This process is repeated k times, with each fold used as a validation set exactly once."
   ]
  },
  {
   "cell_type": "code",
   "execution_count": 24,
   "metadata": {},
   "outputs": [
    {
     "name": "stdout",
     "output_type": "stream",
     "text": [
      "[LibSVM][LibSVM][LibSVM][LibSVM]"
     ]
    },
    {
     "name": "stdout",
     "output_type": "stream",
     "text": [
      "[LibSVM][LibSVM][LibSVM][LibSVM][LibSVM][LibSVM][0.58823529 0.58823529 0.58823529 0.58823529 0.60294118 0.60294118\n",
      " 0.60294118 0.59701493 0.59701493 0.59701493]\n",
      "[LibSVM][LibSVM][LibSVM][LibSVM][LibSVM][LibSVM][LibSVM][LibSVM][LibSVM][LibSVM][0.58823529 0.58823529 0.58823529 0.58823529 0.60294118 0.60294118\n",
      " 0.60294118 0.59701493 0.59701493 0.59701493]\n",
      "[LibSVM][LibSVM][LibSVM][LibSVM][LibSVM][LibSVM][LibSVM][LibSVM][LibSVM][LibSVM][0.80882353 0.77941176 0.75       0.70588235 0.79411765 0.79411765\n",
      " 0.77941176 0.65671642 0.74626866 0.76119403]\n",
      "[LibSVM][LibSVM][LibSVM][LibSVM][LibSVM][LibSVM][LibSVM][LibSVM][LibSVM][LibSVM][0.85294118 0.83823529 0.77941176 0.82352941 0.82352941 0.83823529\n",
      " 0.82352941 0.74626866 0.76119403 0.80597015]\n",
      "[LibSVM][LibSVM][LibSVM][LibSVM][LibSVM][LibSVM][LibSVM][LibSVM][LibSVM][LibSVM][0.91176471 0.88235294 0.80882353 0.88235294 0.91176471 0.86764706\n",
      " 0.88235294 0.79104478 0.8358209  0.88059701]\n",
      "[LibSVM][LibSVM][LibSVM][LibSVM][LibSVM][LibSVM][LibSVM][LibSVM][LibSVM][LibSVM][0.97058824 0.97058824 0.94117647 0.95588235 0.98529412 0.94117647\n",
      " 0.97058824 0.91044776 0.98507463 0.97014925]\n",
      "[LibSVM][LibSVM][LibSVM][LibSVM][LibSVM][LibSVM][LibSVM][LibSVM][LibSVM][LibSVM][1.         0.98529412 1.         0.97058824 0.98529412 1.\n",
      " 1.         0.95522388 0.98507463 1.        ]\n",
      "[LibSVM][LibSVM][LibSVM][LibSVM][LibSVM][LibSVM][LibSVM][LibSVM][LibSVM][LibSVM][1. 1. 1. 1. 1. 1. 1. 1. 1. 1.]\n",
      "Best C value: 100\n"
     ]
    }
   ],
   "source": [
    "import numpy as np\n",
    "from sklearn.model_selection import cross_val_score\n",
    "from sklearn import svm\n",
    "\n",
    "\n",
    "# Set of C values to try\n",
    "C_values = [0.001,0.01, 0.1, 0.5, 1,5,10, 100]\n",
    "\n",
    "# Dictionary to store mean cross-validation scores for each C value\n",
    "mean_cv_scores = {}\n",
    "\n",
    "for C in C_values:\n",
    "    svm_classifier = svm.SVC(C = C,kernel='rbf', gamma='scale',verbose=True)\n",
    "\n",
    "    cv_scores = cross_val_score(svm_classifier, X_train, y_train, cv=10)  # 5-fold cross-validation\n",
    "    mean_cv_scores[C] = np.mean(cv_scores)\n",
    "    print(cv_scores)\n",
    "\n",
    "\n",
    "\n",
    "\n",
    "# Find the C value with the highest mean cross-validation score\n",
    "best_C = max(mean_cv_scores, key=mean_cv_scores.get)\n",
    "print(\"Best C value:\", best_C)"
   ]
  },
  {
   "cell_type": "code",
   "execution_count": 25,
   "metadata": {},
   "outputs": [
    {
     "data": {
      "text/plain": [
       "{0.001: 0.5952809482001756,\n",
       " 0.01: 0.5952809482001756,\n",
       " 0.1: 0.7575943810359964,\n",
       " 0.5: 0.8092844600526778,\n",
       " 1: 0.8654521510096576,\n",
       " 5: 0.9600965759438103,\n",
       " 10: 0.9881474978050923,\n",
       " 100: 1.0}"
      ]
     },
     "execution_count": 25,
     "metadata": {},
     "output_type": "execute_result"
    }
   ],
   "source": [
    "mean_cv_scores"
   ]
  },
  {
   "cell_type": "code",
   "execution_count": 26,
   "metadata": {},
   "outputs": [
    {
     "data": {
      "image/png": "[encoded data removed]",
      "text/plain": [
       "<Figure size 800x500 with 1 Axes>"
      ]
     },
     "metadata": {},
     "output_type": "display_data"
    }
   ],
   "source": [
    "# Plotting the bar chart\n",
    "import matplotlib.pyplot as plt\n",
    "\n",
    "\n",
    "plt.figure(figsize=(8, 5))\n",
    "plt.bar(range(len(mean_cv_scores)), mean_cv_scores.values(), align='center', alpha=0.7)\n",
    "plt.xticks(range(len(mean_cv_scores)), C_values)\n",
    "plt.xlabel('C Values')\n",
    "plt.ylabel('Accuracy')\n",
    "plt.title('Accuracy for Different C Values')\n",
    "plt.show()"
   ]
  },
  {
   "cell_type": "markdown",
   "metadata": {},
   "source": [
    "**C values conclusion**\n",
    "- `C` values: [0.01, 0.1, 0.5, 1, 10, 100]\n",
    "- Corresponding accuracies: [0.595, 0.753, 0.806, 0.855, 0.987, 1.0]\n",
    "\n",
    "Key points to consider from these results:\n",
    "\n",
    "1. **Effect of `C` on Accuracy:** As the `C` value increases from 0.01 to 100:\n",
    "   - The accuracy generally improves, indicating better performance as `C` increases.\n",
    "   - There's a trend of increasing accuracy with higher `C` values, indicating that a stronger penalty for misclassifications (higher `C`) leads to better performance in this scenario.\n",
    "----\n",
    "2. **Overfitting Possibility:** A sudden jump in accuracy from 0.855 at `C = 1` to 0.96 at `C = 5` raises a concern for potential overfitting\n",
    "----\n",
    "3. **High Accuracy at `C = 100`:** An accuracy of 100% at `C = 100`  suggest overfitting, \n"
   ]
  },
  {
   "cell_type": "markdown",
   "metadata": {},
   "source": [
    "### **Model 2 : Neural Network**"
   ]
  },
  {
   "cell_type": "markdown",
   "metadata": {},
   "source": [
    "#### Parameters"
   ]
  },
  {
   "cell_type": "code",
   "execution_count": 27,
   "metadata": {},
   "outputs": [
    {
     "data": {
      "text/plain": [
       "(677, 24)"
      ]
     },
     "execution_count": 27,
     "metadata": {},
     "output_type": "execute_result"
    }
   ],
   "source": [
    "X_train.shape"
   ]
  },
  {
   "cell_type": "code",
   "execution_count": 42,
   "metadata": {},
   "outputs": [
    {
     "name": "stdout",
     "output_type": "stream",
     "text": [
      "Epoch 1/10\n",
      "22/22 [==============================] - 1s 2ms/step - loss: 0.8729 - accuracy: 0.5332\n",
      "Epoch 2/10\n",
      "22/22 [==============================] - 0s 2ms/step - loss: 0.5994 - accuracy: 0.7090\n",
      "Epoch 3/10\n",
      "22/22 [==============================] - 0s 2ms/step - loss: 0.4981 - accuracy: 0.8464\n",
      "Epoch 4/10\n",
      "22/22 [==============================] - 0s 2ms/step - loss: 0.4134 - accuracy: 0.9365\n",
      "Epoch 5/10\n",
      "22/22 [==============================] - 0s 2ms/step - loss: 0.3563 - accuracy: 0.9483\n",
      "Epoch 6/10\n",
      "22/22 [==============================] - 0s 2ms/step - loss: 0.3076 - accuracy: 0.9453\n",
      "Epoch 7/10\n",
      "22/22 [==============================] - 0s 2ms/step - loss: 0.2758 - accuracy: 0.9468\n",
      "Epoch 8/10\n",
      "22/22 [==============================] - 0s 3ms/step - loss: 0.2531 - accuracy: 0.9424\n",
      "Epoch 9/10\n",
      "22/22 [==============================] - 0s 2ms/step - loss: 0.2240 - accuracy: 0.9439\n",
      "Epoch 10/10\n",
      "22/22 [==============================] - 0s 2ms/step - loss: 0.2073 - accuracy: 0.9572\n"
     ]
    },
    {
     "data": {
      "text/plain": [
       "<keras.src.callbacks.History at 0x2312f20d4e0>"
      ]
     },
     "execution_count": 42,
     "metadata": {},
     "output_type": "execute_result"
    }
   ],
   "source": [
    "from tensorflow.keras.models import Sequential\n",
    "from tensorflow.keras.layers import Dense, Activation\n",
    "from tensorflow.keras import regularizers\n",
    "\n",
    "model = Sequential()\n",
    "\n",
    "model.add(Dense(32,input_dim = X_train.shape[1], activation = 'relu'))\n",
    "model.add(Dense(16, activation = 'relu'))\n",
    "model.add(Dense(1, activation = 'sigmoid'))\n",
    "\n",
    "model.compile(loss = \"binary_crossentropy\", optimizer= 'adam', metrics = ['accuracy'])\n",
    "\n",
    "# Train the model\n",
    "model.fit(X_train, y_train, epochs=10, batch_size=32, verbose=1)\n"
   ]
  },
  {
   "cell_type": "code",
   "execution_count": 43,
   "metadata": {},
   "outputs": [
    {
     "name": "stdout",
     "output_type": "stream",
     "text": [
      "6/6 [==============================] - 0s 0s/step - loss: 0.1969 - accuracy: 0.9353\n",
      "Accuracy: 93.53\n"
     ]
    }
   ],
   "source": [
    "# Evaluate the model\n",
    "abc, accuracy = model.evaluate(X_test, y_test)\n",
    "print('Accuracy: %.2f' % (accuracy*100))\n"
   ]
  },
  {
   "cell_type": "code",
   "execution_count": 41,
   "metadata": {},
   "outputs": [
    {
     "name": "stdout",
     "output_type": "stream",
     "text": [
      "Epoch 1/10\n",
      "22/22 [==============================] - 0s 10ms/step - loss: 0.0206 - accuracy: 0.9956 - val_loss: 0.0282 - val_accuracy: 1.0000\n",
      "Epoch 2/10\n",
      "22/22 [==============================] - 0s 5ms/step - loss: 0.0181 - accuracy: 0.9985 - val_loss: 0.0217 - val_accuracy: 0.9941\n",
      "Epoch 3/10\n",
      "22/22 [==============================] - 0s 6ms/step - loss: 0.0166 - accuracy: 0.9970 - val_loss: 0.0238 - val_accuracy: 0.9941\n",
      "Epoch 4/10\n",
      "22/22 [==============================] - 0s 4ms/step - loss: 0.0162 - accuracy: 0.9970 - val_loss: 0.0246 - val_accuracy: 1.0000\n",
      "Epoch 5/10\n",
      "22/22 [==============================] - 0s 7ms/step - loss: 0.0184 - accuracy: 0.9985 - val_loss: 0.0226 - val_accuracy: 1.0000\n",
      "Epoch 6/10\n",
      "22/22 [==============================] - 0s 4ms/step - loss: 0.0163 - accuracy: 0.9970 - val_loss: 0.0215 - val_accuracy: 0.9941\n",
      "Epoch 7/10\n",
      "22/22 [==============================] - 0s 4ms/step - loss: 0.0153 - accuracy: 0.9970 - val_loss: 0.0241 - val_accuracy: 1.0000\n",
      "Epoch 8/10\n",
      "22/22 [==============================] - 0s 3ms/step - loss: 0.0152 - accuracy: 0.9970 - val_loss: 0.0211 - val_accuracy: 0.9941\n",
      "Epoch 9/10\n",
      "22/22 [==============================] - 0s 2ms/step - loss: 0.0151 - accuracy: 0.9985 - val_loss: 0.0211 - val_accuracy: 0.9941\n",
      "Epoch 10/10\n",
      "22/22 [==============================] - 0s 3ms/step - loss: 0.0157 - accuracy: 0.9985 - val_loss: 0.0212 - val_accuracy: 0.9941\n"
     ]
    },
    {
     "data": {
      "image/png": "[encoded data removed]",
      "text/plain": [
       "<Figure size 1000x500 with 2 Axes>"
      ]
     },
     "metadata": {},
     "output_type": "display_data"
    }
   ],
   "source": [
    "import matplotlib.pyplot as plt\n",
    "\n",
    "# Training the model and storing the history\n",
    "history = model.fit(X_train, y_train, epochs=10, batch_size=32, verbose=1, validation_data=(X_test, y_test))\n",
    "\n",
    "# Extracting accuracy and loss metrics from the history\n",
    "accuracy = history.history['accuracy']\n",
    "val_accuracy = history.history['val_accuracy']\n",
    "loss = history.history['loss']\n",
    "val_loss = history.history['val_loss']\n",
    "epochs = range(1, len(accuracy) + 1)\n",
    "\n",
    "# Plotting the training and validation accuracy\n",
    "plt.figure(figsize=(10, 5))\n",
    "plt.subplot(1, 2, 1)\n",
    "plt.plot(epochs, accuracy, 'b', label='Training Accuracy')\n",
    "plt.plot(epochs, val_accuracy, 'r', label='Validation Accuracy')\n",
    "plt.title('Training and Validation Accuracy')\n",
    "plt.xlabel('Epochs')\n",
    "plt.ylabel('Accuracy')\n",
    "plt.legend()\n",
    "\n",
    "# Plotting the training and validation loss\n",
    "plt.subplot(1, 2, 2)\n",
    "plt.plot(epochs, loss, 'b', label='Training Loss')\n",
    "plt.plot(epochs, val_loss, 'r', label='Validation Loss')\n",
    "plt.title('Training and Validation Loss')\n",
    "plt.xlabel('Epochs')\n",
    "plt.ylabel('Loss')\n",
    "plt.legend()\n",
    "\n",
    "plt.tight_layout()\n",
    "plt.show()\n"
   ]
  },
  {
   "cell_type": "code",
   "execution_count": 31,
   "metadata": {},
   "outputs": [
    {
     "name": "stdout",
     "output_type": "stream",
     "text": [
      "6/6 [==============================] - 0s 3ms/step\n"
     ]
    },
    {
     "data": {
      "text/plain": [
       "array([[ True],\n",
       "       [False],\n",
       "       [False],\n",
       "       [False],\n",
       "       [False],\n",
       "       [ True],\n",
       "       [ True],\n",
       "       [ True],\n",
       "       [ True],\n",
       "       [False],\n",
       "       [False],\n",
       "       [ True],\n",
       "       [False],\n",
       "       [ True],\n",
       "       [False],\n",
       "       [False],\n",
       "       [False],\n",
       "       [False],\n",
       "       [ True],\n",
       "       [ True],\n",
       "       [False],\n",
       "       [False],\n",
       "       [ True],\n",
       "       [False],\n",
       "       [ True],\n",
       "       [ True],\n",
       "       [False],\n",
       "       [False],\n",
       "       [False],\n",
       "       [ True],\n",
       "       [False],\n",
       "       [False],\n",
       "       [ True],\n",
       "       [ True],\n",
       "       [False],\n",
       "       [ True],\n",
       "       [ True],\n",
       "       [False],\n",
       "       [False],\n",
       "       [False],\n",
       "       [ True],\n",
       "       [False],\n",
       "       [False],\n",
       "       [False],\n",
       "       [False],\n",
       "       [False],\n",
       "       [False],\n",
       "       [False],\n",
       "       [ True],\n",
       "       [ True],\n",
       "       [ True],\n",
       "       [ True],\n",
       "       [ True],\n",
       "       [ True],\n",
       "       [ True],\n",
       "       [False],\n",
       "       [False],\n",
       "       [False],\n",
       "       [False],\n",
       "       [False],\n",
       "       [False],\n",
       "       [ True],\n",
       "       [ True],\n",
       "       [ True],\n",
       "       [False],\n",
       "       [ True],\n",
       "       [ True],\n",
       "       [False],\n",
       "       [ True],\n",
       "       [False],\n",
       "       [ True],\n",
       "       [ True],\n",
       "       [False],\n",
       "       [ True],\n",
       "       [ True],\n",
       "       [False],\n",
       "       [ True],\n",
       "       [False],\n",
       "       [ True],\n",
       "       [False],\n",
       "       [False],\n",
       "       [ True],\n",
       "       [False],\n",
       "       [False],\n",
       "       [False],\n",
       "       [False],\n",
       "       [ True],\n",
       "       [ True],\n",
       "       [False],\n",
       "       [ True],\n",
       "       [ True],\n",
       "       [False],\n",
       "       [ True],\n",
       "       [ True],\n",
       "       [False],\n",
       "       [ True],\n",
       "       [ True],\n",
       "       [False],\n",
       "       [False],\n",
       "       [ True],\n",
       "       [False],\n",
       "       [ True],\n",
       "       [False],\n",
       "       [ True],\n",
       "       [ True],\n",
       "       [False],\n",
       "       [False],\n",
       "       [False],\n",
       "       [False],\n",
       "       [ True],\n",
       "       [False],\n",
       "       [False],\n",
       "       [ True],\n",
       "       [False],\n",
       "       [ True],\n",
       "       [ True],\n",
       "       [ True],\n",
       "       [False],\n",
       "       [ True],\n",
       "       [ True],\n",
       "       [ True],\n",
       "       [False],\n",
       "       [ True],\n",
       "       [ True],\n",
       "       [ True],\n",
       "       [ True],\n",
       "       [ True],\n",
       "       [False],\n",
       "       [False],\n",
       "       [False],\n",
       "       [ True],\n",
       "       [ True],\n",
       "       [ True],\n",
       "       [False],\n",
       "       [ True],\n",
       "       [False],\n",
       "       [False],\n",
       "       [ True],\n",
       "       [False],\n",
       "       [False],\n",
       "       [False],\n",
       "       [False],\n",
       "       [False],\n",
       "       [ True],\n",
       "       [False],\n",
       "       [False],\n",
       "       [ True],\n",
       "       [ True],\n",
       "       [False],\n",
       "       [ True],\n",
       "       [False],\n",
       "       [False],\n",
       "       [ True],\n",
       "       [False],\n",
       "       [ True],\n",
       "       [False],\n",
       "       [ True],\n",
       "       [ True],\n",
       "       [ True],\n",
       "       [False],\n",
       "       [False],\n",
       "       [False],\n",
       "       [ True],\n",
       "       [False],\n",
       "       [False],\n",
       "       [ True],\n",
       "       [False],\n",
       "       [False],\n",
       "       [False],\n",
       "       [False]])"
      ]
     },
     "execution_count": 31,
     "metadata": {},
     "output_type": "execute_result"
    }
   ],
   "source": [
    "model.predict(X_test)>0.5"
   ]
  },
  {
   "cell_type": "code",
   "execution_count": 32,
   "metadata": {},
   "outputs": [
    {
     "name": "stdout",
     "output_type": "stream",
     "text": [
      "Epoch 1/10\n",
      "22/22 [==============================] - 1s 1ms/step - loss: 0.6485 - accuracy: 0.6425\n",
      "Epoch 2/10\n",
      "22/22 [==============================] - 0s 1ms/step - loss: 0.6159 - accuracy: 0.7238\n",
      "Epoch 3/10\n",
      "22/22 [==============================] - 0s 2ms/step - loss: 0.5637 - accuracy: 0.8626\n",
      "Epoch 4/10\n",
      "22/22 [==============================] - 0s 2ms/step - loss: 0.5251 - accuracy: 0.8936\n",
      "Epoch 5/10\n",
      "22/22 [==============================] - 0s 1ms/step - loss: 0.4810 - accuracy: 0.8907\n",
      "Epoch 6/10\n",
      "22/22 [==============================] - 0s 1ms/step - loss: 0.4360 - accuracy: 0.9143\n",
      "Epoch 7/10\n",
      "22/22 [==============================] - 0s 1ms/step - loss: 0.3972 - accuracy: 0.9129\n",
      "Epoch 8/10\n",
      "22/22 [==============================] - 0s 1ms/step - loss: 0.3528 - accuracy: 0.9335\n",
      "Epoch 9/10\n",
      "22/22 [==============================] - 0s 2ms/step - loss: 0.3100 - accuracy: 0.9572\n",
      "Epoch 10/10\n",
      "22/22 [==============================] - 0s 2ms/step - loss: 0.2804 - accuracy: 0.9350\n",
      "6/6 [==============================] - 0s 4ms/step - loss: 0.2655 - accuracy: 0.9824\n",
      "Accuracy: 98.24\n"
     ]
    }
   ],
   "source": [
    "from keras.models import Sequential\n",
    "from keras.layers import Dense\n",
    "\n",
    "# Define the model\n",
    "model = Sequential()\n",
    "model.add(Dense(32, input_dim=X_train.shape[1], activation='relu'))  # Layer 1\n",
    "model.add(Dense(16, activation='relu'))  # Layer 2\n",
    "model.add(Dense(1, activation='sigmoid'))  # Output layer\n",
    "\n",
    "# Compile the model\n",
    "model.compile(loss='binary_crossentropy', optimizer='adam', metrics=['accuracy'])\n",
    "\n",
    "# Train the model\n",
    "model.fit(X_train, y_train, epochs=10, batch_size=32, verbose=1)\n",
    "\n",
    "# Evaluate the model\n",
    "_, accuracy = model.evaluate(X_test, y_test)\n",
    "print('Accuracy: %.2f' % (accuracy*100))\n"
   ]
  },
  {
   "cell_type": "code",
   "execution_count": 33,
   "metadata": {},
   "outputs": [],
   "source": [
    "from keras import Sequential\n",
    "\n",
    "\n"
   ]
  },
  {
   "cell_type": "code",
   "execution_count": 34,
   "metadata": {},
   "outputs": [
    {
     "data": {
      "text/plain": [
       "(677, 24)"
      ]
     },
     "execution_count": 34,
     "metadata": {},
     "output_type": "execute_result"
    }
   ],
   "source": [
    "X_train.shape"
   ]
  },
  {
   "cell_type": "code",
   "execution_count": null,
   "metadata": {},
   "outputs": [],
   "source": []
  },
  {
   "cell_type": "code",
   "execution_count": null,
   "metadata": {},
   "outputs": [],
   "source": []
  },
  {
   "cell_type": "code",
   "execution_count": null,
   "metadata": {},
   "outputs": [],
   "source": []
  },
  {
   "cell_type": "code",
   "execution_count": null,
   "metadata": {},
   "outputs": [],
   "source": []
  },
  {
   "cell_type": "code",
   "execution_count": null,
   "metadata": {},
   "outputs": [],
   "source": []
  },
  {
   "cell_type": "markdown",
   "metadata": {},
   "source": [
    "### **Model 2 : Random Forest**\n",
    "\n",
    "Pros: Effective for a wide range of tasks, handles complex interactions, and is less prone to overfitting compared to individual decision trees.\n",
    "\n",
    "Suitability: Suitable for classification and regression tasks, especially when there's a need to capture complex relationships in the data and data is small to medium sized\n"
   ]
  },
  {
   "cell_type": "markdown",
   "metadata": {},
   "source": [
    "**Parameters**\n",
    "**Number of Trees (n_estimators):** It determines the number of trees in the forest. Higher numbers usually reduce overfitting but increase computation time.\n",
    "\n",
    "**Criterion:** It defines the function to measure the quality of a split. The default is usually 'gini' for Gini impurity or 'entropy' for information gain.\n",
    "\n",
    "**Max Depth (max_depth):** The maximum depth of each tree. A deeper tree can model more complex relationships but can lead to overfitting.\n",
    "\n",
    "**Min Samples Split:** The minimum number of samples required to split a node. Higher values prevent overfitting.\n",
    "\n",
    "**Min Samples Leaf:** The minimum number of samples required to be at a leaf node. Higher values reduce overfitting.\n",
    "\n",
    "**Max Features:** It determines the maximum number of features considered for splitting a node. 'sqrt' or 'auto' typically use the square root of the number of features, while 'log2' uses the **logarithm of the number of features.\n",
    "\n",
    "**Bootstrap:** It determines whether the trees are built with bootstrapped samples. Setting it to 'False' will use the whole dataset, potentially reducing randomness but increasing bias.\n",
    "\n",
    "**Random State:** It ensures reproducibility by setting a seed for random number generation."
   ]
  },
  {
   "cell_type": "code",
   "execution_count": 35,
   "metadata": {},
   "outputs": [
    {
     "data": {
      "text/plain": [
       "array([1, 0, 0, 0, 0, 0, 1, 1, 1, 0, 0, 1, 0, 1, 0, 0, 0, 0, 1, 1, 0, 0,\n",
       "       1, 0, 1, 1, 0, 0, 0, 1, 0, 0, 1, 1, 0, 1, 1, 0, 0, 0, 1, 0, 0, 0,\n",
       "       0, 0, 0, 0, 1, 1, 1, 1, 1, 1, 1, 0, 0, 0, 0, 0, 0, 1, 0, 1, 0, 1,\n",
       "       1, 0, 1, 0, 1, 1, 0, 1, 1, 0, 1, 0, 1, 0, 0, 1, 0, 0, 0, 0, 1, 1,\n",
       "       0, 1, 1, 0, 1, 1, 0, 1, 1, 0, 0, 1, 0, 1, 0, 1, 0, 0, 0, 0, 0, 1,\n",
       "       0, 0, 1, 0, 1, 1, 1, 0, 1, 1, 1, 0, 1, 1, 1, 1, 1, 0, 0, 0, 1, 1,\n",
       "       1, 0, 1, 0, 0, 1, 0, 0, 0, 0, 0, 1, 0, 0, 1, 1, 0, 1, 0, 0, 1, 0,\n",
       "       1, 0, 1, 1, 1, 0, 0, 0, 1, 0, 0, 1, 0, 0, 0, 0], dtype=int64)"
      ]
     },
     "execution_count": 35,
     "metadata": {},
     "output_type": "execute_result"
    }
   ],
   "source": [
    "from sklearn.ensemble import RandomForestClassifier as rlf\n",
    "\n",
    "#Initializing random forest classifier\n",
    "rf_classifier = rlf(n_estimators=100000,random_state=313)\n",
    "\n",
    "#Training the model\n",
    "rf_classifier.fit(X_train,y_train)\n",
    "\n",
    "#Predicting on test data\n",
    "rf_classifier.predict(X_test)\n"
   ]
  },
  {
   "cell_type": "code",
   "execution_count": 36,
   "metadata": {},
   "outputs": [
    {
     "data": {
      "text/plain": [
       "1.0"
      ]
     },
     "execution_count": 36,
     "metadata": {},
     "output_type": "execute_result"
    }
   ],
   "source": [
    "accuracy_score(y_test, rf_classifier.predict(X_test))"
   ]
  },
  {
   "cell_type": "code",
   "execution_count": 37,
   "metadata": {},
   "outputs": [
    {
     "name": "stdout",
     "output_type": "stream",
     "text": [
      "1.0\n",
      "1.0\n",
      "1.0\n",
      "1.0\n",
      "1.0\n",
      "1.0\n",
      "1.0\n",
      "1.0\n",
      "1.0\n",
      "1.0\n",
      "1.0\n",
      "1.0\n",
      "1.0\n",
      "1.0\n",
      "1.0\n",
      "1.0\n",
      "1.0\n",
      "1.0\n",
      "1.0\n",
      "1.0\n",
      "1.0\n",
      "1.0\n",
      "1.0\n",
      "1.0\n",
      "1.0\n",
      "1.0\n",
      "1.0\n",
      "Best Parameters: {'n_estimators': 50, 'max_depth': None, 'min_samples_split': 2}\n",
      "Best Accuracy: 1.0\n"
     ]
    }
   ],
   "source": [
    "from sklearn.model_selection import cross_val_score\n",
    "\n",
    "# Define the parameter values to try\n",
    "n_estimators_values = [50, 100, 150]\n",
    "max_depth_values = [None, 10, 20]\n",
    "min_samples_split_values = [2, 5, 10]\n",
    "\n",
    "# Initializing a variable to store the best accuracy and parameters\n",
    "best_accuracy = 0\n",
    "best_params = {}\n",
    "\n",
    "# Looping through different parameter combinations\n",
    "for n_estimators in n_estimators_values:\n",
    "    for max_depth in max_depth_values:\n",
    "        for min_samples_split in min_samples_split_values:\n",
    "\n",
    "            # Rlf model with current parameters\n",
    "            rf = rlf(n_estimators=n_estimators,\n",
    "                                        max_depth=max_depth,\n",
    "                                        min_samples_split=min_samples_split,\n",
    "                                        random_state=42)\n",
    "            \n",
    "            # 5- fold cross validation and storing their mean\n",
    "            accuracies = cross_val_score(rf, X_train, y_train, cv=5)\n",
    "            mean_accuracy = accuracies.mean()\n",
    "\n",
    "            print(mean_accuracy)\n",
    "            \n",
    "            # Check if current parameters give better accuracy\n",
    "            if mean_accuracy > best_accuracy:\n",
    "                best_accuracy = mean_accuracy\n",
    "                best_params = {'n_estimators': n_estimators,\n",
    "                               'max_depth': max_depth,\n",
    "                               'min_samples_split': min_samples_split}\n",
    "\n",
    "# Print the best parameters and accuracy\n",
    "print(\"Best Parameters:\", best_params)\n",
    "print(\"Best Accuracy:\", best_accuracy)\n"
   ]
  },
  {
   "cell_type": "code",
   "execution_count": 38,
   "metadata": {},
   "outputs": [
    {
     "name": "stdout",
     "output_type": "stream",
     "text": [
      "1.0\n",
      "1.0\n",
      "1.0\n",
      "1.0\n",
      "1.0\n",
      "1.0\n",
      "1.0\n",
      "1.0\n",
      "1.0\n",
      "1.0\n",
      "1.0\n",
      "1.0\n",
      "1.0\n",
      "1.0\n",
      "1.0\n",
      "1.0\n",
      "1.0\n",
      "1.0\n",
      "1.0\n",
      "1.0\n",
      "1.0\n",
      "1.0\n",
      "1.0\n",
      "1.0\n",
      "1.0\n",
      "1.0\n",
      "1.0\n",
      "1.0\n",
      "1.0\n",
      "1.0\n",
      "1.0\n",
      "1.0\n",
      "1.0\n",
      "1.0\n",
      "1.0\n",
      "1.0\n",
      "1.0\n",
      "1.0\n",
      "1.0\n",
      "1.0\n",
      "1.0\n",
      "1.0\n",
      "1.0\n",
      "1.0\n",
      "1.0\n",
      "1.0\n",
      "1.0\n",
      "1.0\n",
      "1.0\n",
      "1.0\n",
      "1.0\n",
      "1.0\n",
      "1.0\n",
      "1.0\n",
      "1.0\n",
      "1.0\n",
      "1.0\n",
      "1.0\n",
      "1.0\n",
      "1.0\n",
      "1.0\n",
      "1.0\n",
      "1.0\n",
      "1.0\n",
      "Best Parameters: {'max_depth': None, 'min_samples_split': 2, 'min_samples_leaf': 1}\n",
      "Best Accuracy: 1.0\n"
     ]
    }
   ],
   "source": [
    "from sklearn.tree import DecisionTreeClassifier\n",
    "from sklearn.model_selection import cross_val_score\n",
    "\n",
    "# Define the parameter values to try\n",
    "max_depth_values = [None, 5, 10, 15]\n",
    "min_samples_split_values = [2, 5, 10, 20]\n",
    "min_samples_leaf_values = [1, 2, 4, 8]\n",
    "\n",
    "# Initialize a variable to store the best accuracy and parameters\n",
    "best_accuracy = 0\n",
    "best_params = {}\n",
    "\n",
    "# Loop through different parameter combinations\n",
    "for max_depth in max_depth_values:\n",
    "    for min_samples_split in min_samples_split_values:\n",
    "        for min_samples_leaf in min_samples_leaf_values:\n",
    "            # Create the Decision Tree Classifier with current parameters\n",
    "            dt = DecisionTreeClassifier(max_depth=max_depth,\n",
    "                                        min_samples_split=min_samples_split,\n",
    "                                        min_samples_leaf=min_samples_leaf,\n",
    "                                        random_state=42)\n",
    "            \n",
    "            # Perform cross-validation and get the mean accuracy\n",
    "            accuracies = cross_val_score(dt, X_train, y_train, cv=5)  # Replace X_train and y_train with your data\n",
    "            mean_accuracy = accuracies.mean()\n",
    "            print(mean_accuracy)\n",
    "            # Check if current parameters give better accuracy\n",
    "            if mean_accuracy > best_accuracy:\n",
    "                best_accuracy = mean_accuracy\n",
    "                best_params = {'max_depth': max_depth,\n",
    "                               'min_samples_split': min_samples_split,\n",
    "                               'min_samples_leaf': min_samples_leaf}\n",
    "\n",
    "# Print the best parameters and accuracy\n",
    "print(\"Best Parameters:\", best_params)\n",
    "print(\"Best Accuracy:\", best_accuracy)\n"
   ]
  },
  {
   "cell_type": "code",
   "execution_count": null,
   "metadata": {},
   "outputs": [],
   "source": []
  },
  {
   "cell_type": "code",
   "execution_count": 39,
   "metadata": {},
   "outputs": [
    {
     "ename": "NotFittedError",
     "evalue": "This SVC instance is not fitted yet. Call 'fit' with appropriate arguments before using this estimator.",
     "output_type": "error",
     "traceback": [
      "\u001b[1;31m---------------------------------------------------------------------------\u001b[0m",
      "\u001b[1;31mNotFittedError\u001b[0m                            Traceback (most recent call last)",
      "Cell \u001b[1;32mIn[39], line 5\u001b[0m\n\u001b[0;32m      1\u001b[0m \u001b[38;5;28;01mfrom\u001b[39;00m \u001b[38;5;21;01msklearn\u001b[39;00m\u001b[38;5;21;01m.\u001b[39;00m\u001b[38;5;21;01mmetrics\u001b[39;00m \u001b[38;5;28;01mimport\u001b[39;00m confusion_matrix, precision_score, recall_score\n\u001b[0;32m      4\u001b[0m \u001b[38;5;66;03m# Calculate confusion matrix\u001b[39;00m\n\u001b[1;32m----> 5\u001b[0m conf_matrix \u001b[38;5;241m=\u001b[39m confusion_matrix(y_test, \u001b[43msvm_classifier\u001b[49m\u001b[38;5;241;43m.\u001b[39;49m\u001b[43mpredict\u001b[49m\u001b[43m(\u001b[49m\u001b[43mX_test\u001b[49m\u001b[43m)\u001b[49m)\n\u001b[0;32m      6\u001b[0m \u001b[38;5;28mprint\u001b[39m(\u001b[38;5;124m\"\u001b[39m\u001b[38;5;124mConfusion Matrix:\u001b[39m\u001b[38;5;124m\"\u001b[39m)\n\u001b[0;32m      7\u001b[0m \u001b[38;5;28mprint\u001b[39m(conf_matrix)\n",
      "File \u001b[1;32mc:\\Users\\adfx757\\Anaconda3\\lib\\site-packages\\sklearn\\svm\\_base.py:807\u001b[0m, in \u001b[0;36mBaseSVC.predict\u001b[1;34m(self, X)\u001b[0m\n\u001b[0;32m    790\u001b[0m \u001b[38;5;28;01mdef\u001b[39;00m \u001b[38;5;21mpredict\u001b[39m(\u001b[38;5;28mself\u001b[39m, X):\n\u001b[0;32m    791\u001b[0m \u001b[38;5;250m    \u001b[39m\u001b[38;5;124;03m\"\"\"Perform classification on samples in X.\u001b[39;00m\n\u001b[0;32m    792\u001b[0m \n\u001b[0;32m    793\u001b[0m \u001b[38;5;124;03m    For an one-class model, +1 or -1 is returned.\u001b[39;00m\n\u001b[1;32m   (...)\u001b[0m\n\u001b[0;32m    805\u001b[0m \u001b[38;5;124;03m        Class labels for samples in X.\u001b[39;00m\n\u001b[0;32m    806\u001b[0m \u001b[38;5;124;03m    \"\"\"\u001b[39;00m\n\u001b[1;32m--> 807\u001b[0m     \u001b[43mcheck_is_fitted\u001b[49m\u001b[43m(\u001b[49m\u001b[38;5;28;43mself\u001b[39;49m\u001b[43m)\u001b[49m\n\u001b[0;32m    808\u001b[0m     \u001b[38;5;28;01mif\u001b[39;00m \u001b[38;5;28mself\u001b[39m\u001b[38;5;241m.\u001b[39mbreak_ties \u001b[38;5;129;01mand\u001b[39;00m \u001b[38;5;28mself\u001b[39m\u001b[38;5;241m.\u001b[39mdecision_function_shape \u001b[38;5;241m==\u001b[39m \u001b[38;5;124m\"\u001b[39m\u001b[38;5;124movo\u001b[39m\u001b[38;5;124m\"\u001b[39m:\n\u001b[0;32m    809\u001b[0m         \u001b[38;5;28;01mraise\u001b[39;00m \u001b[38;5;167;01mValueError\u001b[39;00m(\n\u001b[0;32m    810\u001b[0m             \u001b[38;5;124m\"\u001b[39m\u001b[38;5;124mbreak_ties must be False when decision_function_shape is \u001b[39m\u001b[38;5;124m'\u001b[39m\u001b[38;5;124movo\u001b[39m\u001b[38;5;124m'\u001b[39m\u001b[38;5;124m\"\u001b[39m\n\u001b[0;32m    811\u001b[0m         )\n",
      "File \u001b[1;32mc:\\Users\\adfx757\\Anaconda3\\lib\\site-packages\\sklearn\\utils\\validation.py:1390\u001b[0m, in \u001b[0;36mcheck_is_fitted\u001b[1;34m(estimator, attributes, msg, all_or_any)\u001b[0m\n\u001b[0;32m   1385\u001b[0m     fitted \u001b[38;5;241m=\u001b[39m [\n\u001b[0;32m   1386\u001b[0m         v \u001b[38;5;28;01mfor\u001b[39;00m v \u001b[38;5;129;01min\u001b[39;00m \u001b[38;5;28mvars\u001b[39m(estimator) \u001b[38;5;28;01mif\u001b[39;00m v\u001b[38;5;241m.\u001b[39mendswith(\u001b[38;5;124m\"\u001b[39m\u001b[38;5;124m_\u001b[39m\u001b[38;5;124m\"\u001b[39m) \u001b[38;5;129;01mand\u001b[39;00m \u001b[38;5;129;01mnot\u001b[39;00m v\u001b[38;5;241m.\u001b[39mstartswith(\u001b[38;5;124m\"\u001b[39m\u001b[38;5;124m__\u001b[39m\u001b[38;5;124m\"\u001b[39m)\n\u001b[0;32m   1387\u001b[0m     ]\n\u001b[0;32m   1389\u001b[0m \u001b[38;5;28;01mif\u001b[39;00m \u001b[38;5;129;01mnot\u001b[39;00m fitted:\n\u001b[1;32m-> 1390\u001b[0m     \u001b[38;5;28;01mraise\u001b[39;00m NotFittedError(msg \u001b[38;5;241m%\u001b[39m {\u001b[38;5;124m\"\u001b[39m\u001b[38;5;124mname\u001b[39m\u001b[38;5;124m\"\u001b[39m: \u001b[38;5;28mtype\u001b[39m(estimator)\u001b[38;5;241m.\u001b[39m\u001b[38;5;18m__name__\u001b[39m})\n",
      "\u001b[1;31mNotFittedError\u001b[0m: This SVC instance is not fitted yet. Call 'fit' with appropriate arguments before using this estimator."
     ]
    }
   ],
   "source": [
    "from sklearn.metrics import confusion_matrix, precision_score, recall_score\n",
    "\n",
    "\n",
    "# Calculate confusion matrix\n",
    "conf_matrix = confusion_matrix(y_test, svm_classifier.predict(X_test))\n",
    "print(\"Confusion Matrix:\")\n",
    "print(conf_matrix)\n",
    "\n",
    "# Calculate precision and recall\n",
    "precision = precision_score(y_test, svm_classifier.predict(X_test))\n",
    "recall = recall_score(y_test, svm_classifier.predict(X_test))\n",
    "\n",
    "print(\"Precision:\", precision)\n",
    "print(\"Recall:\", recall)\n"
   ]
  },
  {
   "cell_type": "markdown",
   "metadata": {},
   "source": [
    "## Logsitic Regression"
   ]
  },
  {
   "cell_type": "markdown",
   "metadata": {},
   "source": [
    "Why?\n",
    "\n",
    "Logistic Regression is a valuable algorithm due to its interpretability, computational efficiency, and suitability for linearly separable problems. \n",
    "It's a strong choice for binary classification tasks, offering easily interpretable coefficients and regularization options to prevent overfitting. \n",
    "However, it may not perform optimally with highly non-linear data or complex decision boundaries, situations where more flexible models might be more appropriate.\n",
    " Ultimately, Logistic Regression's effectiveness depends on the linearity of relationships within the data and the balance between interpretability and predictive performance required for the specific problem at hand."
   ]
  },
  {
   "cell_type": "markdown",
   "metadata": {},
   "source": [
    "Parameters\n",
    "- C: Similar to SVM, it's the inverse of regularization strength. Higher values of C indicate weaker regularization, potentially leading to overfitting.\n",
    "\n",
    "- penalty: Specifies the norm used in the penalization ('l1', 'l2', or 'elasticnet'). 'l1' and 'l2' refer to L1 and L2 regularization respectively, while 'elasticnet' allows a combination of both.\n",
    "\n",
    "- solver: Algorithm to use in the optimization problem ('newton-cg', 'lbfgs', 'liblinear', 'sag', 'saga'). Choice of solver can impact convergence speed and performance for different types of data.\n",
    "\n",
    "- max_iter: Maximum number of iterations for the solver to converge.\n",
    "\n",
    "- class_weight: Similar to SVC, it's useful for imbalanced datasets."
   ]
  },
  {
   "cell_type": "markdown",
   "metadata": {},
   "source": [
    "### Tuning following Hyperparameters"
   ]
  },
  {
   "cell_type": "markdown",
   "metadata": {},
   "source": [
    "C | penalty | solver | max_iter "
   ]
  },
  {
   "cell_type": "code",
   "execution_count": null,
   "metadata": {},
   "outputs": [
    {
     "name": "stderr",
     "output_type": "stream",
     "text": [
      "c:\\Users\\adfx757\\Anaconda3\\lib\\site-packages\\sklearn\\linear_model\\_sag.py:350: ConvergenceWarning: The max_iter was reached which means the coef_ did not converge\n",
      "  warnings.warn(\n",
      "c:\\Users\\adfx757\\Anaconda3\\lib\\site-packages\\sklearn\\linear_model\\_sag.py:350: ConvergenceWarning: The max_iter was reached which means the coef_ did not converge\n",
      "  warnings.warn(\n",
      "c:\\Users\\adfx757\\Anaconda3\\lib\\site-packages\\sklearn\\linear_model\\_sag.py:350: ConvergenceWarning: The max_iter was reached which means the coef_ did not converge\n",
      "  warnings.warn(\n",
      "c:\\Users\\adfx757\\Anaconda3\\lib\\site-packages\\sklearn\\linear_model\\_sag.py:350: ConvergenceWarning: The max_iter was reached which means the coef_ did not converge\n",
      "  warnings.warn(\n",
      "c:\\Users\\adfx757\\Anaconda3\\lib\\site-packages\\sklearn\\linear_model\\_sag.py:350: ConvergenceWarning: The max_iter was reached which means the coef_ did not converge\n",
      "  warnings.warn(\n",
      "c:\\Users\\adfx757\\Anaconda3\\lib\\site-packages\\sklearn\\linear_model\\_sag.py:350: ConvergenceWarning: The max_iter was reached which means the coef_ did not converge\n",
      "  warnings.warn(\n",
      "c:\\Users\\adfx757\\Anaconda3\\lib\\site-packages\\sklearn\\linear_model\\_sag.py:350: ConvergenceWarning: The max_iter was reached which means the coef_ did not converge\n",
      "  warnings.warn(\n",
      "c:\\Users\\adfx757\\Anaconda3\\lib\\site-packages\\sklearn\\linear_model\\_sag.py:350: ConvergenceWarning: The max_iter was reached which means the coef_ did not converge\n",
      "  warnings.warn(\n",
      "c:\\Users\\adfx757\\Anaconda3\\lib\\site-packages\\sklearn\\linear_model\\_sag.py:350: ConvergenceWarning: The max_iter was reached which means the coef_ did not converge\n",
      "  warnings.warn(\n",
      "c:\\Users\\adfx757\\Anaconda3\\lib\\site-packages\\sklearn\\linear_model\\_sag.py:350: ConvergenceWarning: The max_iter was reached which means the coef_ did not converge\n",
      "  warnings.warn(\n",
      "c:\\Users\\adfx757\\Anaconda3\\lib\\site-packages\\sklearn\\linear_model\\_sag.py:350: ConvergenceWarning: The max_iter was reached which means the coef_ did not converge\n",
      "  warnings.warn(\n",
      "c:\\Users\\adfx757\\Anaconda3\\lib\\site-packages\\sklearn\\linear_model\\_sag.py:350: ConvergenceWarning: The max_iter was reached which means the coef_ did not converge\n",
      "  warnings.warn(\n",
      "c:\\Users\\adfx757\\Anaconda3\\lib\\site-packages\\sklearn\\linear_model\\_sag.py:350: ConvergenceWarning: The max_iter was reached which means the coef_ did not converge\n",
      "  warnings.warn(\n",
      "c:\\Users\\adfx757\\Anaconda3\\lib\\site-packages\\sklearn\\linear_model\\_sag.py:350: ConvergenceWarning: The max_iter was reached which means the coef_ did not converge\n",
      "  warnings.warn(\n",
      "c:\\Users\\adfx757\\Anaconda3\\lib\\site-packages\\sklearn\\linear_model\\_sag.py:350: ConvergenceWarning: The max_iter was reached which means the coef_ did not converge\n",
      "  warnings.warn(\n",
      "c:\\Users\\adfx757\\Anaconda3\\lib\\site-packages\\sklearn\\linear_model\\_sag.py:350: ConvergenceWarning: The max_iter was reached which means the coef_ did not converge\n",
      "  warnings.warn(\n",
      "c:\\Users\\adfx757\\Anaconda3\\lib\\site-packages\\sklearn\\linear_model\\_sag.py:350: ConvergenceWarning: The max_iter was reached which means the coef_ did not converge\n",
      "  warnings.warn(\n",
      "c:\\Users\\adfx757\\Anaconda3\\lib\\site-packages\\sklearn\\linear_model\\_sag.py:350: ConvergenceWarning: The max_iter was reached which means the coef_ did not converge\n",
      "  warnings.warn(\n",
      "c:\\Users\\adfx757\\Anaconda3\\lib\\site-packages\\sklearn\\linear_model\\_sag.py:350: ConvergenceWarning: The max_iter was reached which means the coef_ did not converge\n",
      "  warnings.warn(\n",
      "c:\\Users\\adfx757\\Anaconda3\\lib\\site-packages\\sklearn\\linear_model\\_sag.py:350: ConvergenceWarning: The max_iter was reached which means the coef_ did not converge\n",
      "  warnings.warn(\n",
      "c:\\Users\\adfx757\\Anaconda3\\lib\\site-packages\\sklearn\\linear_model\\_sag.py:350: ConvergenceWarning: The max_iter was reached which means the coef_ did not converge\n",
      "  warnings.warn(\n",
      "c:\\Users\\adfx757\\Anaconda3\\lib\\site-packages\\sklearn\\linear_model\\_sag.py:350: ConvergenceWarning: The max_iter was reached which means the coef_ did not converge\n",
      "  warnings.warn(\n",
      "c:\\Users\\adfx757\\Anaconda3\\lib\\site-packages\\sklearn\\linear_model\\_sag.py:350: ConvergenceWarning: The max_iter was reached which means the coef_ did not converge\n",
      "  warnings.warn(\n",
      "c:\\Users\\adfx757\\Anaconda3\\lib\\site-packages\\sklearn\\linear_model\\_sag.py:350: ConvergenceWarning: The max_iter was reached which means the coef_ did not converge\n",
      "  warnings.warn(\n",
      "c:\\Users\\adfx757\\Anaconda3\\lib\\site-packages\\sklearn\\linear_model\\_sag.py:350: ConvergenceWarning: The max_iter was reached which means the coef_ did not converge\n",
      "  warnings.warn(\n",
      "c:\\Users\\adfx757\\Anaconda3\\lib\\site-packages\\sklearn\\linear_model\\_sag.py:350: ConvergenceWarning: The max_iter was reached which means the coef_ did not converge\n",
      "  warnings.warn(\n",
      "c:\\Users\\adfx757\\Anaconda3\\lib\\site-packages\\sklearn\\linear_model\\_sag.py:350: ConvergenceWarning: The max_iter was reached which means the coef_ did not converge\n",
      "  warnings.warn(\n",
      "c:\\Users\\adfx757\\Anaconda3\\lib\\site-packages\\sklearn\\linear_model\\_sag.py:350: ConvergenceWarning: The max_iter was reached which means the coef_ did not converge\n",
      "  warnings.warn(\n",
      "c:\\Users\\adfx757\\Anaconda3\\lib\\site-packages\\sklearn\\linear_model\\_sag.py:350: ConvergenceWarning: The max_iter was reached which means the coef_ did not converge\n",
      "  warnings.warn(\n",
      "c:\\Users\\adfx757\\Anaconda3\\lib\\site-packages\\sklearn\\linear_model\\_sag.py:350: ConvergenceWarning: The max_iter was reached which means the coef_ did not converge\n",
      "  warnings.warn(\n",
      "c:\\Users\\adfx757\\Anaconda3\\lib\\site-packages\\sklearn\\linear_model\\_sag.py:350: ConvergenceWarning: The max_iter was reached which means the coef_ did not converge\n",
      "  warnings.warn(\n",
      "c:\\Users\\adfx757\\Anaconda3\\lib\\site-packages\\sklearn\\linear_model\\_sag.py:350: ConvergenceWarning: The max_iter was reached which means the coef_ did not converge\n",
      "  warnings.warn(\n",
      "c:\\Users\\adfx757\\Anaconda3\\lib\\site-packages\\sklearn\\linear_model\\_sag.py:350: ConvergenceWarning: The max_iter was reached which means the coef_ did not converge\n",
      "  warnings.warn(\n",
      "c:\\Users\\adfx757\\Anaconda3\\lib\\site-packages\\sklearn\\linear_model\\_sag.py:350: ConvergenceWarning: The max_iter was reached which means the coef_ did not converge\n",
      "  warnings.warn(\n",
      "c:\\Users\\adfx757\\Anaconda3\\lib\\site-packages\\sklearn\\linear_model\\_sag.py:350: ConvergenceWarning: The max_iter was reached which means the coef_ did not converge\n",
      "  warnings.warn(\n",
      "c:\\Users\\adfx757\\Anaconda3\\lib\\site-packages\\sklearn\\linear_model\\_sag.py:350: ConvergenceWarning: The max_iter was reached which means the coef_ did not converge\n",
      "  warnings.warn(\n",
      "c:\\Users\\adfx757\\Anaconda3\\lib\\site-packages\\sklearn\\linear_model\\_sag.py:350: ConvergenceWarning: The max_iter was reached which means the coef_ did not converge\n",
      "  warnings.warn(\n",
      "c:\\Users\\adfx757\\Anaconda3\\lib\\site-packages\\sklearn\\linear_model\\_sag.py:350: ConvergenceWarning: The max_iter was reached which means the coef_ did not converge\n",
      "  warnings.warn(\n",
      "c:\\Users\\adfx757\\Anaconda3\\lib\\site-packages\\sklearn\\linear_model\\_sag.py:350: ConvergenceWarning: The max_iter was reached which means the coef_ did not converge\n",
      "  warnings.warn(\n",
      "c:\\Users\\adfx757\\Anaconda3\\lib\\site-packages\\sklearn\\linear_model\\_sag.py:350: ConvergenceWarning: The max_iter was reached which means the coef_ did not converge\n",
      "  warnings.warn(\n",
      "c:\\Users\\adfx757\\Anaconda3\\lib\\site-packages\\sklearn\\linear_model\\_sag.py:350: ConvergenceWarning: The max_iter was reached which means the coef_ did not converge\n",
      "  warnings.warn(\n",
      "c:\\Users\\adfx757\\Anaconda3\\lib\\site-packages\\sklearn\\linear_model\\_sag.py:350: ConvergenceWarning: The max_iter was reached which means the coef_ did not converge\n",
      "  warnings.warn(\n",
      "c:\\Users\\adfx757\\Anaconda3\\lib\\site-packages\\sklearn\\linear_model\\_sag.py:350: ConvergenceWarning: The max_iter was reached which means the coef_ did not converge\n",
      "  warnings.warn(\n",
      "c:\\Users\\adfx757\\Anaconda3\\lib\\site-packages\\sklearn\\linear_model\\_sag.py:350: ConvergenceWarning: The max_iter was reached which means the coef_ did not converge\n",
      "  warnings.warn(\n",
      "c:\\Users\\adfx757\\Anaconda3\\lib\\site-packages\\sklearn\\linear_model\\_sag.py:350: ConvergenceWarning: The max_iter was reached which means the coef_ did not converge\n",
      "  warnings.warn(\n",
      "c:\\Users\\adfx757\\Anaconda3\\lib\\site-packages\\sklearn\\linear_model\\_sag.py:350: ConvergenceWarning: The max_iter was reached which means the coef_ did not converge\n",
      "  warnings.warn(\n",
      "c:\\Users\\adfx757\\Anaconda3\\lib\\site-packages\\sklearn\\linear_model\\_sag.py:350: ConvergenceWarning: The max_iter was reached which means the coef_ did not converge\n",
      "  warnings.warn(\n",
      "c:\\Users\\adfx757\\Anaconda3\\lib\\site-packages\\sklearn\\linear_model\\_sag.py:350: ConvergenceWarning: The max_iter was reached which means the coef_ did not converge\n",
      "  warnings.warn(\n",
      "c:\\Users\\adfx757\\Anaconda3\\lib\\site-packages\\sklearn\\linear_model\\_sag.py:350: ConvergenceWarning: The max_iter was reached which means the coef_ did not converge\n",
      "  warnings.warn(\n",
      "c:\\Users\\adfx757\\Anaconda3\\lib\\site-packages\\sklearn\\linear_model\\_sag.py:350: ConvergenceWarning: The max_iter was reached which means the coef_ did not converge\n",
      "  warnings.warn(\n",
      "c:\\Users\\adfx757\\Anaconda3\\lib\\site-packages\\sklearn\\linear_model\\_sag.py:350: ConvergenceWarning: The max_iter was reached which means the coef_ did not converge\n",
      "  warnings.warn(\n",
      "c:\\Users\\adfx757\\Anaconda3\\lib\\site-packages\\sklearn\\linear_model\\_sag.py:350: ConvergenceWarning: The max_iter was reached which means the coef_ did not converge\n",
      "  warnings.warn(\n",
      "c:\\Users\\adfx757\\Anaconda3\\lib\\site-packages\\sklearn\\linear_model\\_sag.py:350: ConvergenceWarning: The max_iter was reached which means the coef_ did not converge\n",
      "  warnings.warn(\n",
      "c:\\Users\\adfx757\\Anaconda3\\lib\\site-packages\\sklearn\\linear_model\\_sag.py:350: ConvergenceWarning: The max_iter was reached which means the coef_ did not converge\n",
      "  warnings.warn(\n",
      "c:\\Users\\adfx757\\Anaconda3\\lib\\site-packages\\sklearn\\linear_model\\_sag.py:350: ConvergenceWarning: The max_iter was reached which means the coef_ did not converge\n",
      "  warnings.warn(\n",
      "c:\\Users\\adfx757\\Anaconda3\\lib\\site-packages\\sklearn\\linear_model\\_sag.py:350: ConvergenceWarning: The max_iter was reached which means the coef_ did not converge\n",
      "  warnings.warn(\n",
      "c:\\Users\\adfx757\\Anaconda3\\lib\\site-packages\\sklearn\\linear_model\\_sag.py:350: ConvergenceWarning: The max_iter was reached which means the coef_ did not converge\n",
      "  warnings.warn(\n",
      "c:\\Users\\adfx757\\Anaconda3\\lib\\site-packages\\sklearn\\linear_model\\_sag.py:350: ConvergenceWarning: The max_iter was reached which means the coef_ did not converge\n",
      "  warnings.warn(\n",
      "c:\\Users\\adfx757\\Anaconda3\\lib\\site-packages\\sklearn\\linear_model\\_sag.py:350: ConvergenceWarning: The max_iter was reached which means the coef_ did not converge\n",
      "  warnings.warn(\n",
      "c:\\Users\\adfx757\\Anaconda3\\lib\\site-packages\\sklearn\\linear_model\\_sag.py:350: ConvergenceWarning: The max_iter was reached which means the coef_ did not converge\n",
      "  warnings.warn(\n",
      "c:\\Users\\adfx757\\Anaconda3\\lib\\site-packages\\sklearn\\linear_model\\_sag.py:350: ConvergenceWarning: The max_iter was reached which means the coef_ did not converge\n",
      "  warnings.warn(\n",
      "c:\\Users\\adfx757\\Anaconda3\\lib\\site-packages\\sklearn\\linear_model\\_sag.py:350: ConvergenceWarning: The max_iter was reached which means the coef_ did not converge\n",
      "  warnings.warn(\n",
      "c:\\Users\\adfx757\\Anaconda3\\lib\\site-packages\\sklearn\\linear_model\\_sag.py:350: ConvergenceWarning: The max_iter was reached which means the coef_ did not converge\n",
      "  warnings.warn(\n",
      "c:\\Users\\adfx757\\Anaconda3\\lib\\site-packages\\sklearn\\linear_model\\_sag.py:350: ConvergenceWarning: The max_iter was reached which means the coef_ did not converge\n",
      "  warnings.warn(\n",
      "c:\\Users\\adfx757\\Anaconda3\\lib\\site-packages\\sklearn\\linear_model\\_sag.py:350: ConvergenceWarning: The max_iter was reached which means the coef_ did not converge\n",
      "  warnings.warn(\n",
      "c:\\Users\\adfx757\\Anaconda3\\lib\\site-packages\\sklearn\\linear_model\\_sag.py:350: ConvergenceWarning: The max_iter was reached which means the coef_ did not converge\n",
      "  warnings.warn(\n",
      "c:\\Users\\adfx757\\Anaconda3\\lib\\site-packages\\sklearn\\linear_model\\_sag.py:350: ConvergenceWarning: The max_iter was reached which means the coef_ did not converge\n",
      "  warnings.warn(\n",
      "c:\\Users\\adfx757\\Anaconda3\\lib\\site-packages\\sklearn\\linear_model\\_sag.py:350: ConvergenceWarning: The max_iter was reached which means the coef_ did not converge\n",
      "  warnings.warn(\n",
      "c:\\Users\\adfx757\\Anaconda3\\lib\\site-packages\\sklearn\\linear_model\\_sag.py:350: ConvergenceWarning: The max_iter was reached which means the coef_ did not converge\n",
      "  warnings.warn(\n",
      "c:\\Users\\adfx757\\Anaconda3\\lib\\site-packages\\sklearn\\linear_model\\_sag.py:350: ConvergenceWarning: The max_iter was reached which means the coef_ did not converge\n",
      "  warnings.warn(\n",
      "c:\\Users\\adfx757\\Anaconda3\\lib\\site-packages\\sklearn\\linear_model\\_sag.py:350: ConvergenceWarning: The max_iter was reached which means the coef_ did not converge\n",
      "  warnings.warn(\n",
      "c:\\Users\\adfx757\\Anaconda3\\lib\\site-packages\\sklearn\\linear_model\\_sag.py:350: ConvergenceWarning: The max_iter was reached which means the coef_ did not converge\n",
      "  warnings.warn(\n",
      "c:\\Users\\adfx757\\Anaconda3\\lib\\site-packages\\sklearn\\linear_model\\_sag.py:350: ConvergenceWarning: The max_iter was reached which means the coef_ did not converge\n",
      "  warnings.warn(\n",
      "c:\\Users\\adfx757\\Anaconda3\\lib\\site-packages\\sklearn\\linear_model\\_sag.py:350: ConvergenceWarning: The max_iter was reached which means the coef_ did not converge\n",
      "  warnings.warn(\n",
      "c:\\Users\\adfx757\\Anaconda3\\lib\\site-packages\\sklearn\\linear_model\\_sag.py:350: ConvergenceWarning: The max_iter was reached which means the coef_ did not converge\n",
      "  warnings.warn(\n",
      "c:\\Users\\adfx757\\Anaconda3\\lib\\site-packages\\sklearn\\linear_model\\_sag.py:350: ConvergenceWarning: The max_iter was reached which means the coef_ did not converge\n",
      "  warnings.warn(\n",
      "c:\\Users\\adfx757\\Anaconda3\\lib\\site-packages\\sklearn\\linear_model\\_sag.py:350: ConvergenceWarning: The max_iter was reached which means the coef_ did not converge\n",
      "  warnings.warn(\n",
      "c:\\Users\\adfx757\\Anaconda3\\lib\\site-packages\\sklearn\\linear_model\\_sag.py:350: ConvergenceWarning: The max_iter was reached which means the coef_ did not converge\n",
      "  warnings.warn(\n",
      "c:\\Users\\adfx757\\Anaconda3\\lib\\site-packages\\sklearn\\linear_model\\_sag.py:350: ConvergenceWarning: The max_iter was reached which means the coef_ did not converge\n",
      "  warnings.warn(\n",
      "c:\\Users\\adfx757\\Anaconda3\\lib\\site-packages\\sklearn\\linear_model\\_sag.py:350: ConvergenceWarning: The max_iter was reached which means the coef_ did not converge\n",
      "  warnings.warn(\n",
      "c:\\Users\\adfx757\\Anaconda3\\lib\\site-packages\\sklearn\\linear_model\\_sag.py:350: ConvergenceWarning: The max_iter was reached which means the coef_ did not converge\n",
      "  warnings.warn(\n",
      "c:\\Users\\adfx757\\Anaconda3\\lib\\site-packages\\sklearn\\linear_model\\_sag.py:350: ConvergenceWarning: The max_iter was reached which means the coef_ did not converge\n",
      "  warnings.warn(\n",
      "c:\\Users\\adfx757\\Anaconda3\\lib\\site-packages\\sklearn\\linear_model\\_sag.py:350: ConvergenceWarning: The max_iter was reached which means the coef_ did not converge\n",
      "  warnings.warn(\n",
      "c:\\Users\\adfx757\\Anaconda3\\lib\\site-packages\\sklearn\\linear_model\\_sag.py:350: ConvergenceWarning: The max_iter was reached which means the coef_ did not converge\n",
      "  warnings.warn(\n",
      "c:\\Users\\adfx757\\Anaconda3\\lib\\site-packages\\sklearn\\linear_model\\_sag.py:350: ConvergenceWarning: The max_iter was reached which means the coef_ did not converge\n",
      "  warnings.warn(\n",
      "c:\\Users\\adfx757\\Anaconda3\\lib\\site-packages\\sklearn\\linear_model\\_sag.py:350: ConvergenceWarning: The max_iter was reached which means the coef_ did not converge\n",
      "  warnings.warn(\n",
      "c:\\Users\\adfx757\\Anaconda3\\lib\\site-packages\\sklearn\\linear_model\\_sag.py:350: ConvergenceWarning: The max_iter was reached which means the coef_ did not converge\n",
      "  warnings.warn(\n",
      "c:\\Users\\adfx757\\Anaconda3\\lib\\site-packages\\sklearn\\linear_model\\_sag.py:350: ConvergenceWarning: The max_iter was reached which means the coef_ did not converge\n",
      "  warnings.warn(\n",
      "c:\\Users\\adfx757\\Anaconda3\\lib\\site-packages\\sklearn\\linear_model\\_sag.py:350: ConvergenceWarning: The max_iter was reached which means the coef_ did not converge\n",
      "  warnings.warn(\n"
     ]
    },
    {
     "name": "stdout",
     "output_type": "stream",
     "text": [
      "Best Parameters: {'C': 1, 'max_iter': 200, 'penalty': 'l1', 'solver': 'liblinear'}\n",
      "Best Accuracy: 0.9985185185185186\n"
     ]
    },
    {
     "name": "stderr",
     "output_type": "stream",
     "text": [
      "c:\\Users\\adfx757\\Anaconda3\\lib\\site-packages\\sklearn\\linear_model\\_sag.py:350: ConvergenceWarning: The max_iter was reached which means the coef_ did not converge\n",
      "  warnings.warn(\n"
     ]
    }
   ],
   "source": [
    "from sklearn.linear_model import LogisticRegression\n",
    "from sklearn.model_selection import GridSearchCV\n",
    "\n",
    "\n",
    "\n",
    "# Define the parameter grid for GridSearchCV\n",
    "param_grid = {\n",
    "    'C': [0.1, 1, 10],\n",
    "    'penalty': ['l1', 'l2'],\n",
    "    'solver': ['liblinear', 'saga'],\n",
    "    'max_iter': [100, 200,500],\n",
    "    # Add other parameters as needed\n",
    "}\n",
    "\n",
    "# Create the Logistic Regression model\n",
    "log_reg = LogisticRegression()\n",
    "\n",
    "# Perform GridSearchCV\n",
    "grid_search = GridSearchCV(log_reg, param_grid, cv=5, scoring='accuracy')\n",
    "grid_search.fit(X_train, y_train)  # Replace X_train and y_train with your training data\n",
    "\n",
    "# Get the best parameters and best score\n",
    "best_params = grid_search.best_params_\n",
    "best_score = grid_search.best_score_\n",
    "\n",
    "print(\"Best Parameters:\", best_params)\n",
    "print(\"Best Accuracy:\", best_score)\n"
   ]
  },
  {
   "cell_type": "code",
   "execution_count": null,
   "metadata": {},
   "outputs": [
    {
     "data": {
      "text/html": [
       "<style>#sk-container-id-4 {color: black;background-color: white;}#sk-container-id-4 pre{padding: 0;}#sk-container-id-4 div.sk-toggleable {background-color: white;}#sk-container-id-4 label.sk-toggleable__label {cursor: pointer;display: block;width: 100%;margin-bottom: 0;padding: 0.3em;box-sizing: border-box;text-align: center;}#sk-container-id-4 label.sk-toggleable__label-arrow:before {content: \"▸\";float: left;margin-right: 0.25em;color: #696969;}#sk-container-id-4 label.sk-toggleable__label-arrow:hover:before {color: black;}#sk-container-id-4 div.sk-estimator:hover label.sk-toggleable__label-arrow:before {color: black;}#sk-container-id-4 div.sk-toggleable__content {max-height: 0;max-width: 0;overflow: hidden;text-align: left;background-color: #f0f8ff;}#sk-container-id-4 div.sk-toggleable__content pre {margin: 0.2em;color: black;border-radius: 0.25em;background-color: #f0f8ff;}#sk-container-id-4 input.sk-toggleable__control:checked~div.sk-toggleable__content {max-height: 200px;max-width: 100%;overflow: auto;}#sk-container-id-4 input.sk-toggleable__control:checked~label.sk-toggleable__label-arrow:before {content: \"▾\";}#sk-container-id-4 div.sk-estimator input.sk-toggleable__control:checked~label.sk-toggleable__label {background-color: #d4ebff;}#sk-container-id-4 div.sk-label input.sk-toggleable__control:checked~label.sk-toggleable__label {background-color: #d4ebff;}#sk-container-id-4 input.sk-hidden--visually {border: 0;clip: rect(1px 1px 1px 1px);clip: rect(1px, 1px, 1px, 1px);height: 1px;margin: -1px;overflow: hidden;padding: 0;position: absolute;width: 1px;}#sk-container-id-4 div.sk-estimator {font-family: monospace;background-color: #f0f8ff;border: 1px dotted black;border-radius: 0.25em;box-sizing: border-box;margin-bottom: 0.5em;}#sk-container-id-4 div.sk-estimator:hover {background-color: #d4ebff;}#sk-container-id-4 div.sk-parallel-item::after {content: \"\";width: 100%;border-bottom: 1px solid gray;flex-grow: 1;}#sk-container-id-4 div.sk-label:hover label.sk-toggleable__label {background-color: #d4ebff;}#sk-container-id-4 div.sk-serial::before {content: \"\";position: absolute;border-left: 1px solid gray;box-sizing: border-box;top: 0;bottom: 0;left: 50%;z-index: 0;}#sk-container-id-4 div.sk-serial {display: flex;flex-direction: column;align-items: center;background-color: white;padding-right: 0.2em;padding-left: 0.2em;position: relative;}#sk-container-id-4 div.sk-item {position: relative;z-index: 1;}#sk-container-id-4 div.sk-parallel {display: flex;align-items: stretch;justify-content: center;background-color: white;position: relative;}#sk-container-id-4 div.sk-item::before, #sk-container-id-4 div.sk-parallel-item::before {content: \"\";position: absolute;border-left: 1px solid gray;box-sizing: border-box;top: 0;bottom: 0;left: 50%;z-index: -1;}#sk-container-id-4 div.sk-parallel-item {display: flex;flex-direction: column;z-index: 1;position: relative;background-color: white;}#sk-container-id-4 div.sk-parallel-item:first-child::after {align-self: flex-end;width: 50%;}#sk-container-id-4 div.sk-parallel-item:last-child::after {align-self: flex-start;width: 50%;}#sk-container-id-4 div.sk-parallel-item:only-child::after {width: 0;}#sk-container-id-4 div.sk-dashed-wrapped {border: 1px dashed gray;margin: 0 0.4em 0.5em 0.4em;box-sizing: border-box;padding-bottom: 0.4em;background-color: white;}#sk-container-id-4 div.sk-label label {font-family: monospace;font-weight: bold;display: inline-block;line-height: 1.2em;}#sk-container-id-4 div.sk-label-container {text-align: center;}#sk-container-id-4 div.sk-container {/* jupyter's `normalize.less` sets `[hidden] { display: none; }` but bootstrap.min.css set `[hidden] { display: none !important; }` so we also need the `!important` here to be able to override the default hidden behavior on the sphinx rendered scikit-learn.org. See: https://github.com/scikit-learn/scikit-learn/issues/21755 */display: inline-block !important;position: relative;}#sk-container-id-4 div.sk-text-repr-fallback {display: none;}</style><div id=\"sk-container-id-4\" class=\"sk-top-container\"><div class=\"sk-text-repr-fallback\"><pre>LogisticRegression()</pre><b>In a Jupyter environment, please rerun this cell to show the HTML representation or trust the notebook. <br />On GitHub, the HTML representation is unable to render, please try loading this page with nbviewer.org.</b></div><div class=\"sk-container\" hidden><div class=\"sk-item\"><div class=\"sk-estimator sk-toggleable\"><input class=\"sk-toggleable__control sk-hidden--visually\" id=\"sk-estimator-id-6\" type=\"checkbox\" checked><label for=\"sk-estimator-id-6\" class=\"sk-toggleable__label sk-toggleable__label-arrow\">LogisticRegression</label><div class=\"sk-toggleable__content\"><pre>LogisticRegression()</pre></div></div></div></div></div>"
      ],
      "text/plain": [
       "LogisticRegression()"
      ]
     },
     "execution_count": 82,
     "metadata": {},
     "output_type": "execute_result"
    }
   ],
   "source": [
    "grid_search."
   ]
  },
  {
   "cell_type": "markdown",
   "metadata": {},
   "source": [
    "Plotting Curves"
   ]
  },
  {
   "cell_type": "code",
   "execution_count": null,
   "metadata": {},
   "outputs": [
    {
     "name": "stderr",
     "output_type": "stream",
     "text": [
      "c:\\Users\\adfx757\\Anaconda3\\lib\\site-packages\\sklearn\\linear_model\\_logistic.py:458: ConvergenceWarning: lbfgs failed to converge (status=1):\n",
      "STOP: TOTAL NO. of ITERATIONS REACHED LIMIT.\n",
      "\n",
      "Increase the number of iterations (max_iter) or scale the data as shown in:\n",
      "    https://scikit-learn.org/stable/modules/preprocessing.html\n",
      "Please also refer to the documentation for alternative solver options:\n",
      "    https://scikit-learn.org/stable/modules/linear_model.html#logistic-regression\n",
      "  n_iter_i = _check_optimize_result(\n"
     ]
    },
    {
     "data": {
      "image/png": "[encoded data removed]",
      "text/plain": [
       "<Figure size 800x600 with 1 Axes>"
      ]
     },
     "metadata": {},
     "output_type": "display_data"
    }
   ],
   "source": [
    "from sklearn.metrics import roc_curve, roc_auc_score\n",
    "import matplotlib.pyplot as plt\n",
    "\n",
    "# Assuming you have the trained logistic regression model stored in 'log_reg' variable\n",
    "# and the test features and labels are stored in 'X_test' and 'y_test' variables\n",
    "\n",
    "log_reg = LogisticRegression()\n",
    "\n",
    "log_reg.fit(X_train, y_train)\n",
    "\n",
    "# Make predictions on the test set\n",
    "y_pred_proba = log_reg.predict_proba(X_test)[:, 1]  # Get the probabilities of the positive class\n",
    "\n",
    "# Compute ROC curve and AUC score\n",
    "fpr, tpr, thresholds = roc_curve(y_test, y_pred_proba)\n",
    "roc_auc = roc_auc_score(y_test, y_pred_proba)\n",
    "\n",
    "# Plot ROC curve\n",
    "plt.figure(figsize=(8, 6))\n",
    "plt.plot(fpr, tpr, color='blue', lw=2, label='ROC curve (AUC = %0.2f)' % roc_auc)\n",
    "plt.plot([0, 1], [0, 1], color='red', lw=2, linestyle='--', label='Random Guessing')\n",
    "plt.xlabel('False Positive Rate')\n",
    "plt.ylabel('True Positive Rate')\n",
    "plt.title('Receiver Operating Characteristic (ROC) Curve')\n",
    "plt.legend(loc='lower right')\n",
    "plt.show()\n"
   ]
  },
  {
   "cell_type": "markdown",
   "metadata": {},
   "source": [
    "Results"
   ]
  }
 ],
 "metadata": {
  "kernelspec": {
   "display_name": "Python 3",
   "language": "python",
   "name": "python3"
  },
  "language_info": {
   "codemirror_mode": {
    "name": "ipython",
    "version": 3
   },
   "file_extension": ".py",
   "mimetype": "text/x-python",
   "name": "python",
   "nbconvert_exporter": "python",
   "pygments_lexer": "ipython3",
   "version": "3.10.9"
  }
 },
 "nbformat": 4,
 "nbformat_minor": 2
}
