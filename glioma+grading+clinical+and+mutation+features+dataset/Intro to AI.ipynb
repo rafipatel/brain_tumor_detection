{
 "cells": [
  {
   "cell_type": "code",
   "execution_count": 16,
   "metadata": {},
   "outputs": [
    {
     "data": {
      "text/plain": [
       "Grade\n",
       "0    487\n",
       "1    352\n",
       "Name: count, dtype: int64"
      ]
     },
     "execution_count": 16,
     "metadata": {},
     "output_type": "execute_result"
    }
   ],
   "source": [
    "import pandas as pd\n",
    "\n",
    "df = pd.read_csv(\"TCGA_InfoWithGrade.csv\")\n",
    "df['Grade'].value_counts()"
   ]
  },
  {
   "cell_type": "code",
   "execution_count": 17,
   "metadata": {},
   "outputs": [
    {
     "name": "stdout",
     "output_type": "stream",
     "text": [
      "<class 'pandas.core.frame.DataFrame'>\n",
      "RangeIndex: 839 entries, 0 to 838\n",
      "Data columns (total 24 columns):\n",
      " #   Column            Non-Null Count  Dtype  \n",
      "---  ------            --------------  -----  \n",
      " 0   Grade             839 non-null    int64  \n",
      " 1   Gender            839 non-null    int64  \n",
      " 2   Age_at_diagnosis  839 non-null    float64\n",
      " 3   Race              839 non-null    int64  \n",
      " 4   IDH1              839 non-null    int64  \n",
      " 5   TP53              839 non-null    int64  \n",
      " 6   ATRX              839 non-null    int64  \n",
      " 7   PTEN              839 non-null    int64  \n",
      " 8   EGFR              839 non-null    int64  \n",
      " 9   CIC               839 non-null    int64  \n",
      " 10  MUC16             839 non-null    int64  \n",
      " 11  PIK3CA            839 non-null    int64  \n",
      " 12  NF1               839 non-null    int64  \n",
      " 13  PIK3R1            839 non-null    int64  \n",
      " 14  FUBP1             839 non-null    int64  \n",
      " 15  RB1               839 non-null    int64  \n",
      " 16  NOTCH1            839 non-null    int64  \n",
      " 17  BCOR              839 non-null    int64  \n",
      " 18  CSMD3             839 non-null    int64  \n",
      " 19  SMARCA4           839 non-null    int64  \n",
      " 20  GRIN2A            839 non-null    int64  \n",
      " 21  IDH2              839 non-null    int64  \n",
      " 22  FAT4              839 non-null    int64  \n",
      " 23  PDGFRA            839 non-null    int64  \n",
      "dtypes: float64(1), int64(23)\n",
      "memory usage: 157.4 KB\n"
     ]
    }
   ],
   "source": [
    "df.info()"
   ]
  },
  {
   "cell_type": "code",
   "execution_count": null,
   "metadata": {},
   "outputs": [],
   "source": []
  },
  {
   "cell_type": "code",
   "execution_count": null,
   "metadata": {},
   "outputs": [],
   "source": []
  },
  {
   "cell_type": "code",
   "execution_count": null,
   "metadata": {},
   "outputs": [],
   "source": []
  },
  {
   "cell_type": "code",
   "execution_count": null,
   "metadata": {},
   "outputs": [],
   "source": []
  },
  {
   "cell_type": "code",
   "execution_count": null,
   "metadata": {},
   "outputs": [],
   "source": []
  },
  {
   "cell_type": "code",
   "execution_count": null,
   "metadata": {},
   "outputs": [],
   "source": []
  },
  {
   "cell_type": "code",
   "execution_count": null,
   "metadata": {},
   "outputs": [],
   "source": []
  },
  {
   "cell_type": "code",
   "execution_count": null,
   "metadata": {},
   "outputs": [],
   "source": []
  },
  {
   "cell_type": "code",
   "execution_count": null,
   "metadata": {},
   "outputs": [],
   "source": []
  },
  {
   "cell_type": "code",
   "execution_count": null,
   "metadata": {},
   "outputs": [],
   "source": []
  },
  {
   "cell_type": "code",
   "execution_count": null,
   "metadata": {},
   "outputs": [],
   "source": []
  },
  {
   "cell_type": "code",
   "execution_count": null,
   "metadata": {},
   "outputs": [],
   "source": []
  },
  {
   "cell_type": "code",
   "execution_count": null,
   "metadata": {},
   "outputs": [],
   "source": []
  },
  {
   "cell_type": "code",
   "execution_count": null,
   "metadata": {},
   "outputs": [],
   "source": []
  },
  {
   "cell_type": "code",
   "execution_count": null,
   "metadata": {},
   "outputs": [],
   "source": []
  },
  {
   "cell_type": "code",
   "execution_count": null,
   "metadata": {},
   "outputs": [],
   "source": []
  },
  {
   "cell_type": "code",
   "execution_count": null,
   "metadata": {},
   "outputs": [],
   "source": []
  }
 ],
 "metadata": {
  "kernelspec": {
   "display_name": "Python 3",
   "language": "python",
   "name": "python3"
  },
  "language_info": {
   "codemirror_mode": {
    "name": "ipython",
    "version": 3
   },
   "file_extension": ".py",
   "mimetype": "text/x-python",
   "name": "python",
   "nbconvert_exporter": "python",
   "pygments_lexer": "ipython3",
   "version": "3.11.5"
  }
 },
 "nbformat": 4,
 "nbformat_minor": 2
}
