{
 "cells": [
  {
   "cell_type": "markdown",
   "metadata": {},
   "source": [
    "# Brain Tumor Classification"
   ]
  },
  {
<<<<<<< HEAD
=======
   "cell_type": "code",
   "execution_count": 2,
   "metadata": {},
   "outputs": [
    {
     "name": "stdout",
     "output_type": "stream",
     "text": [
      "[1, 6, 1, 11, 8, 3]\n"
     ]
    }
   ],
   "source": [
    "import random\n",
    "c = [random.randint(0,10) for i in range(5)]\n",
    "\n",
    "c.insert(3,11)\n",
    "\n",
    "print(c)"
   ]
  },
  {
   "cell_type": "code",
   "execution_count": 3,
   "metadata": {},
   "outputs": [
    {
     "name": "stdout",
     "output_type": "stream",
     "text": [
      "0\n",
      "1\n",
      "2\n",
      "3\n",
      "4\n"
     ]
    }
   ],
   "source": [
    "for i in range(0,5):\n",
    "\n",
    "    print(i)"
   ]
  },
  {
>>>>>>> dc1afd1146a4ea237734a85a2e7caa43cce8c7e5
   "cell_type": "markdown",
   "metadata": {},
   "source": [
    "Why the dataset was created?\n",
    "\n",
    "Gliomas are the most common primary tumors of the brain. They can be graded as LGG (Lower-Grade Glioma) or GBM (Glioblastoma Multiforme) depending on the histological/imaging criteria. Clinical and molecular/mutation factors are also very crucial for the grading process. Molecular tests are expensive to help accurately diagnose glioma patients.  \n",
    "\n",
    "In this dataset, the most frequently mutated 20 genes and 3 clinical features are considered from TCGA-LGG and TCGA-GBM brain glioma projects.\n",
    "\n",
    "The prediction task is to determine whether a patient is LGG or GBM with a given clinical and molecular/mutation features. The main objective is to find the optimal subset of mutation genes and clinical features for the glioma grading process to improve performance and reduce costs.\n",
    "\n",
    "https://archive.ics.uci.edu/dataset/759/glioma+grading+clinical+and+mutation+features+dataset"
   ]
  },
  {
   "cell_type": "markdown",
   "metadata": {},
   "source": [
    "## Features Information"
   ]
  },
  {
   "cell_type": "markdown",
   "metadata": {},
   "source": [
    "- **Project:**  This feature denotes the project or study from which the data is sourced. It can help differentiate data sources or cohorts, potentially capturing variations or biases from different studies. Understanding the source can aid in assessing the generalizability of findings.\n",
    "\n",
    "- **Case_ID:** Unique identifier for each patient\n",
    "\n",
    "- **Gender:** Indicates the gender of the patient. In some medical studies, certain types of tumors might show a slight prevalence in one gender over another, hence it might have some relevance in understanding tumor occurrences.\n",
    "\n",
    "- **Age_at_diagnosis:** This feature represents the age of the patient at the time of diagnosis. Age can be a crucial factor as different types of brain tumors might occur more frequently in particular age groups.\n",
    "\n",
    "- **Primary_Diagnosis**: Describes the primary diagnosis of the brain tumor. This could include specific types or categories of tumors, providing important information about the nature or classification of the tumor itself.\n",
    "These primary diagnosis values can provide valuable insights into the type of brain tumor. However, the exact relationship between these values and the type of brain tumor would require further research and clinical studies.\n",
    "    - *Glioblastoma*:  Astrocytomas are the most common type of glioma1. They can develop in most parts of the brain and sometimes in the spinal cord1. This type of tumor can be associated with both LGG and GBM, depending on the grade of the tumor,\n",
    "    - 'Astrocytoma, anaplastic' : Anaplastic astrocytoma is a grade 3 astrocytoma. While they’re rare, they can be very serious if left untreated. Anaplastic astrocytomas grow quickly and can spread to nearby brain tissue. This type of tumor is usually associated with GBM.,\n",
    "\n",
    "    - *Mixed glioma* : The behavior of a mixed glioma appears to depend on the grade of the tumor1. In terms of detecting Lower Grade Glioma (LGG) or Glioblastoma Multiforme (GBM), it’s important to note that LGG tumors can dedifferentiate into anaplastic oligodendroglioma or astrocytoma and subsequent secondary GBM2. Therefore, a mixed glioma could potentially be associated with either LGG or GBM, depending on its composition and behavior.,\n",
    "\n",
    "    - *Oligodendroglioma, NOS* :  Oligodendrogliomas are a type of brain tumor that develops from a type of glial cell called an oligodendrocyte1. They are characterized by IDH mutation and 1p19q codeletion and can be WHO CNS grade 2 or 31. This type of tumor is usually associated with LGG1. The term “NOS” stands for “Not Otherwise Specified”, which means that the testing for a mutation in IDH and 1p19q co-deletion cannot be performed or the testing is inconclusive, but the tumor has the microscopic features of an oligodendroglioma1\n",
    "    , \n",
    "    - *Oligodendroglioma, anaplastic* : In terms of detecting Lower Grade Glioma (LGG) or Glioblastoma Multiforme (GBM), it’s important to note that LGG tumors can dedifferentiate into anaplastic oligodendroglioma or astrocytoma and subsequent secondary GBM3. Therefore, anaplastic oligodendroglioma could potentially be associated with either LGG or GBM, depending on its composition and behavior.,\n",
    "\n",
    "\n",
    "    - *Astrocytoma, NOS* : Astrocytomas are a type of brain tumor that develops from star-shaped glial cells called astrocytes1. They belong to a group of tumors called gliomas1. Astrocytomas are the most common type of glioma1. They can develop in most parts of the brain and sometimes in the spinal cord1. This type of tumor can be associated with both LGG and GBM, depending on the grade of the tumor1.,\n",
    "\n",
    "\n",
    "- **Race:** Indicates the race or ethnicity of the patient. However, in medical datasets, race is sometimes collected to understand disparities in healthcare outcomes rather than directly relating to tumor classification.\n",
    "\n",
    "- **IDH1 and IDH2:** Mutations in these genes are commonly found in gliomas. IDH mutations are **especially prevalent in lower-grade gliomas (LGG)** and can help distinguish them from glioblastomas (GBM).\n",
    "\n",
    "- **TP53:** A tumor suppressor gene, mutations in TP53 are associated with several cancers, including some types of gliomas.\n",
    "\n",
    "- **ATRX:** The ATRX gene is frequently mutated in a variety of tumors, **including lower-grade gliomas (LGG), glioblastoma multiforme (GBM)**\n",
    "\n",
    "- **PTEN:** Mutations or deletions in PTEN are associated with various cancers, including gliomas.\n",
    "\n",
    "- **EGFR:** Epidermal Growth Factor Receptor gene mutations are often associated with certain types of brain tumors, **particularly GBM.**\n",
    "\n",
    "\n",
    "- **CIC:** .In the context of brain tumors, a study reported on the effects of the CIC mutation biomarker alongside radiomics features on the predictive ability of CIC **mutation status in lower-grade gliomas (LGG)**. Therefore, the presence of CIC mutations can be a significant factor in detecting LGG. However, the exact relationship between CIC mutations and the type of brain tumor would require further research and clinical studies1. \n",
    "\n",
    "\n",
    "- **MUC16:** It was found that LGG and GBM have low expression of MUC16, but it is **frequently mutated in GBM**. (https://www.medrxiv.org/content/10.1101/2022.02.10.22270821v2.full.pdf)\n",
    "\n",
    "\n",
    "\n",
    "- **PIK3CA:** Therefore, the presence of PIK3CA mutations can be a **significant factor in detecting both Lower Grade Glioma (LGG) and GBM**\n",
    "\n",
    "- **NF1:** The NF1 gene, which encodes the neurofibromin protein, is a negative regulator of the RAS/MAPK pathway1. Mutations in the NF1 gene have been associated with various types of cancers, including gliomas23. The presence of NF1 mutations can be a **significant factor in detecting both Lower Grade Glioma (LGG) and Glioblastoma Multiforme (GBM)**.\n",
    "\n",
    "- **PIK3R1:** The PIK3R1 gene provides instructions for making a protein that is involved in signaling pathways that control cell growth and division1.In the context of brain tumors, PIK3R1 mutations have been identified among all glioma subgroups2.PIK3R1 **could potentially be a factor in detecting both LGG and GBM**, the exact relationship would require further research and clinical studies2.\n",
    "\n",
    "\n",
    "- **FUBP1:**  In the context of brain tumors, FUBP1 mutations have been detected in oligodendrogliomas but not in oligoastrocytomas.the presence of FUBP1 mutations can be a **significant factor in detecting Lower Grade Glioma (LGG)**. However, the exact relationship between FUBP1 mutations and the type of brain tumor would require further research and clinical studies21\n",
    "\n",
    "- **RB1:** . The presence of RB1 mutations could **potentially be a factor in detecting both LGG and GBM**, but the exact relationship would require further research and clinical studies1.\n",
    "\n",
    "- **NOTCH1:** On the other hand, NOTCH1 is deemed to be activated in primary glioblastoma, whereas low-grade astrocytomas, which are a type of Lower Grade Glioma (LGG), seem to show an inactive Notch signaling2. Therefore, the activity of **NOTCH1 could potentially also be a factor in detecting LGG**\n",
    "\n",
    "- **BCOR:** The BCL6 corepressor gene (BCOR) is a tumor suppressor gene located on human chromosome X that regulates cell differentiation and body structure development1.However, the specific role of BCOR in Lower Grade Glioma (LGG) or Glioblastoma Multiforme (GBM) is not well-studied. Therefore, while **BCOR could potentially be a factor in detecting both LGG and GBM**, the exact relationship would require further research and clinical studies1.\n",
    "\n",
    "- **CSMD3:** The CSMD3 gene, also known as CUB And Sushi Multiple Domains 3, is a protein-coding gene1. The specific role of CSMD3 in Lower Grade Glioma (LGG) or Glioblastoma Multiforme (GBM) is not well-studied. Therefore, while **CSMD3 could potentially be a factor in detecting both LGG and GBM**, the exact relationship would require further research and clinical studies\n",
    "\n",
    "- **SMARCA4:** SMARCA4 expression has been linked to various types of brain tumors, including low-grade gliomas such as oligodendroglioma, and high-grade gliomas such as glioblastoma2.  Therefore, the presence of SMARCA4 mutations can be a **significant factor in detecting both Lower Grade Glioma (LGG) and Glioblastoma Multiforme (GBM)**\n",
    "\n",
    "- **GRIN2A:** The GRIN2A gene provides instructions for making a protein called GluN2A, which is found in nerve cells (neurons) in the brain and spinal cord, including regions of the brain involved in speech and language1.However, the specific role of GRIN2A in Lower Grade Glioma (LGG) or Glioblastoma Multiforme (GBM) is not well-studied. Therefore, while GRIN2A could **potentially be a factor in detecting both LGG and GBM**, the exact relationship would require further research and clinical studies34\n",
    "\n",
    "- **FAT4:** The FAT4 gene provides instructions for making a protein that is found in most tissues1. However, the specific role of FAT4 in Lower Grade Glioma (LGG) or Glioblastoma Multiforme (GBM) is not well-studied. Therefore, while FAT4 **could potentially be a factor in detecting both LGG and GBM**, the exact relationship would require further research and clinical studies1\n",
    "\n",
    "\n",
    "- **PDGFRA:** Platelet-Derived Growth Factor Receptor Alpha gene alterations are seen in some gliomas and may influence tumor behavior."
   ]
  },
  {
   "cell_type": "markdown",
   "metadata": {},
   "source": [
    "## Exploratory Data Analysis"
   ]
  },
  {
   "cell_type": "code",
<<<<<<< HEAD
   "execution_count": 389,
=======
   "execution_count": 4,
>>>>>>> dc1afd1146a4ea237734a85a2e7caa43cce8c7e5
   "metadata": {},
   "outputs": [
    {
     "data": {
      "text/plain": [
       "(862, 27)"
      ]
     },
<<<<<<< HEAD
     "execution_count": 389,
=======
     "execution_count": 4,
>>>>>>> dc1afd1146a4ea237734a85a2e7caa43cce8c7e5
     "metadata": {},
     "output_type": "execute_result"
    }
   ],
   "source": [
    "import pandas as pd\n",
    "df = pd.read_csv(\"TCGA_GBM_LGG_Mutations_all.csv\")\n",
    "df.shape"
   ]
  },
  {
   "cell_type": "code",
   "execution_count": 390,
   "metadata": {},
   "outputs": [
    {
     "data": {
      "text/plain": [
       "Index(['Grade', 'Project', 'Case_ID', 'Gender', 'Age_at_diagnosis',\n",
       "       'Primary_Diagnosis', 'Race', 'IDH1', 'TP53', 'ATRX', 'PTEN', 'EGFR',\n",
       "       'CIC', 'MUC16', 'PIK3CA', 'NF1', 'PIK3R1', 'FUBP1', 'RB1', 'NOTCH1',\n",
       "       'BCOR', 'CSMD3', 'SMARCA4', 'GRIN2A', 'IDH2', 'FAT4', 'PDGFRA'],\n",
       "      dtype='object')"
      ]
     },
     "execution_count": 390,
     "metadata": {},
     "output_type": "execute_result"
    }
   ],
   "source": [
    "df.columns"
   ]
  },
  {
   "cell_type": "markdown",
   "metadata": {},
   "source": [
    "#### To check number of entries, type of data & number of empty data"
   ]
  },
  {
   "cell_type": "code",
<<<<<<< HEAD
   "execution_count": 391,
=======
   "execution_count": 5,
>>>>>>> dc1afd1146a4ea237734a85a2e7caa43cce8c7e5
   "metadata": {},
   "outputs": [
    {
     "name": "stdout",
     "output_type": "stream",
     "text": [
      "<class 'pandas.core.frame.DataFrame'>\n",
      "RangeIndex: 862 entries, 0 to 861\n",
      "Data columns (total 27 columns):\n",
      " #   Column             Non-Null Count  Dtype \n",
      "---  ------             --------------  ----- \n",
      " 0   Grade              862 non-null    object\n",
      " 1   Project            862 non-null    object\n",
      " 2   Case_ID            862 non-null    object\n",
      " 3   Gender             862 non-null    object\n",
      " 4   Age_at_diagnosis   862 non-null    object\n",
      " 5   Primary_Diagnosis  862 non-null    object\n",
      " 6   Race               862 non-null    object\n",
      " 7   IDH1               862 non-null    object\n",
      " 8   TP53               862 non-null    object\n",
      " 9   ATRX               862 non-null    object\n",
      " 10  PTEN               862 non-null    object\n",
      " 11  EGFR               862 non-null    object\n",
      " 12  CIC                862 non-null    object\n",
      " 13  MUC16              862 non-null    object\n",
      " 14  PIK3CA             862 non-null    object\n",
      " 15  NF1                862 non-null    object\n",
      " 16  PIK3R1             862 non-null    object\n",
      " 17  FUBP1              862 non-null    object\n",
      " 18  RB1                862 non-null    object\n",
      " 19  NOTCH1             862 non-null    object\n",
      " 20  BCOR               862 non-null    object\n",
      " 21  CSMD3              862 non-null    object\n",
      " 22  SMARCA4            862 non-null    object\n",
      " 23  GRIN2A             862 non-null    object\n",
      " 24  IDH2               862 non-null    object\n",
      " 25  FAT4               862 non-null    object\n",
      " 26  PDGFRA             862 non-null    object\n",
      "dtypes: object(27)\n",
      "memory usage: 182.0+ KB\n"
     ]
    }
   ],
   "source": [
    "df.info()"
   ]
  },
  {
   "cell_type": "markdown",
   "metadata": {},
   "source": [
    "#### Checking for unique values in each column"
   ]
  },
  {
   "cell_type": "code",
<<<<<<< HEAD
   "execution_count": 392,
=======
   "execution_count": 6,
>>>>>>> dc1afd1146a4ea237734a85a2e7caa43cce8c7e5
   "metadata": {},
   "outputs": [
    {
     "name": "stdout",
     "output_type": "stream",
     "text": [
      "Grade ['LGG' 'GBM']\n",
      "Project ['TCGA-LGG' 'TCGA-GBM']\n",
      "Case_ID ['TCGA-DU-8164' 'TCGA-QH-A6CY' 'TCGA-HW-A5KM' 'TCGA-E1-A7YE'\n",
      " 'TCGA-S9-A6WG' 'TCGA-DB-A4X9' 'TCGA-P5-A5F4' 'TCGA-FG-A4MY'\n",
      " 'TCGA-HT-A5R5' 'TCGA-DU-A76K' 'TCGA-QH-A6CV' 'TCGA-FG-5962'\n",
      " 'TCGA-DU-6402' 'TCGA-DB-A75M' 'TCGA-DB-A4XG' 'TCGA-DU-5851'\n",
      " 'TCGA-DB-A4XH' 'TCGA-HT-7874' 'TCGA-DH-A66D' 'TCGA-DU-5871'\n",
      " 'TCGA-FG-A60J' 'TCGA-E1-A7Z3' 'TCGA-DU-7011' 'TCGA-VW-A8FI'\n",
      " 'TCGA-DU-A7TB' 'TCGA-HT-7856' 'TCGA-TQ-A7RU' 'TCGA-HW-7486'\n",
      " 'TCGA-DU-6399' 'TCGA-DU-A7TA' 'TCGA-HT-A5RA' 'TCGA-DB-5280'\n",
      " 'TCGA-DU-6405' 'TCGA-S9-A7J1' 'TCGA-S9-A7J2' 'TCGA-HW-7495'\n",
      " 'TCGA-FG-A710' 'TCGA-P5-A5ET' 'TCGA-DU-7300' 'TCGA-DU-A5TY'\n",
      " 'TCGA-VM-A8CH' 'TCGA-R8-A6YH' 'TCGA-S9-A6WE' 'TCGA-HT-7681'\n",
      " 'TCGA-KT-A7W1' 'TCGA-FG-5964' 'TCGA-S9-A6TX' 'TCGA-P5-A5F2'\n",
      " 'TCGA-DU-5874' 'TCGA-DU-A5TT' 'TCGA-CS-5396' 'TCGA-DU-7302'\n",
      " 'TCGA-S9-A6TW' 'TCGA-RY-A845' 'TCGA-HT-A61A' 'TCGA-DU-7018'\n",
      " 'TCGA-HW-7489' 'TCGA-R8-A6ML' 'TCGA-DH-5144' 'TCGA-DU-7013'\n",
      " 'TCGA-CS-4941' 'TCGA-WY-A85E' 'TCGA-DH-A7UR' 'TCGA-HT-7689'\n",
      " 'TCGA-S9-A7R7' 'TCGA-HT-A619' 'TCGA-DU-7012' 'TCGA-S9-A6UB'\n",
      " 'TCGA-DB-5281' 'TCGA-QH-A6CX' 'TCGA-E1-5318' 'TCGA-CS-6290'\n",
      " 'TCGA-S9-A6U2' 'TCGA-HT-A74J' 'TCGA-WY-A859' 'TCGA-HT-A5RB'\n",
      " 'TCGA-DU-8168' 'TCGA-QH-A6X3' 'TCGA-DU-5853' 'TCGA-CS-6667'\n",
      " 'TCGA-S9-A89V' 'TCGA-HT-8012' 'TCGA-S9-A7IY' 'TCGA-TQ-A7RS'\n",
      " 'TCGA-QH-A6XC' 'TCGA-CS-6668' 'TCGA-DB-5277' 'TCGA-CS-6186'\n",
      " 'TCGA-HT-A4DS' 'TCGA-DU-8165' 'TCGA-HT-7605' 'TCGA-DU-6410'\n",
      " 'TCGA-RY-A83Z' 'TCGA-HW-8321' 'TCGA-S9-A7QW' 'TCGA-S9-A6WL'\n",
      " 'TCGA-DU-A5TW' 'TCGA-HW-A5KL' 'TCGA-WY-A85A' 'TCGA-P5-A72Z'\n",
      " 'TCGA-DU-8163' 'TCGA-DB-5275' 'TCGA-FG-8187' 'TCGA-P5-A5EU'\n",
      " 'TCGA-HT-7478' 'TCGA-QH-A65S' 'TCGA-HT-7881' 'TCGA-TQ-A7RO'\n",
      " 'TCGA-FG-8188' 'TCGA-FG-8182' 'TCGA-HT-A5R7' 'TCGA-DB-5276'\n",
      " 'TCGA-HT-8113' 'TCGA-S9-A7R2' 'TCGA-HT-7483' 'TCGA-S9-A7IS'\n",
      " 'TCGA-QH-A6X4' 'TCGA-DU-A5TP' 'TCGA-FG-6692' 'TCGA-HT-A74H'\n",
      " 'TCGA-DU-A6S2' 'TCGA-DU-6394' 'TCGA-R8-A6MO' 'TCGA-S9-A7IQ'\n",
      " 'TCGA-FG-8189' 'TCGA-FG-A70Z' 'TCGA-HT-7474' 'TCGA-HT-8010'\n",
      " 'TCGA-P5-A72U' 'TCGA-HT-8018' 'TCGA-HW-8320' 'TCGA-DU-6542'\n",
      " 'TCGA-E1-A7YN' 'TCGA-CS-5394' 'TCGA-FG-A4MX' 'TCGA-S9-A6WH'\n",
      " 'TCGA-WY-A85B' 'TCGA-S9-A7IZ' 'TCGA-S9-A7QZ' 'TCGA-DB-A75L'\n",
      " 'TCGA-E1-A7YO' 'TCGA-P5-A5EZ' 'TCGA-S9-A7R8' 'TCGA-E1-A7YY'\n",
      " 'TCGA-HT-7604' 'TCGA-E1-5304' 'TCGA-S9-A89Z' 'TCGA-E1-5307'\n",
      " 'TCGA-FG-A711' 'TCGA-TM-A84R' 'TCGA-HW-7490' 'TCGA-HT-8564'\n",
      " 'TCGA-HT-7875' 'TCGA-DH-5140' 'TCGA-WY-A85D' 'TCGA-TQ-A7RK'\n",
      " 'TCGA-FG-6688' 'TCGA-HT-7479' 'TCGA-DU-8167' 'TCGA-E1-A7YM'\n",
      " 'TCGA-QH-A6CW' 'TCGA-DU-8162' 'TCGA-P5-A5EV' 'TCGA-DB-A64Q'\n",
      " 'TCGA-DU-A5TR' 'TCGA-TM-A7CF' 'TCGA-FG-A6IZ' 'TCGA-HT-7687'\n",
      " 'TCGA-TM-A84J' 'TCGA-HT-A61C' 'TCGA-DU-A76R' 'TCGA-HT-7481'\n",
      " 'TCGA-DB-A4XB' 'TCGA-FG-A87N' 'TCGA-S9-A7J0' 'TCGA-CS-5397'\n",
      " 'TCGA-WY-A85C' 'TCGA-CS-6188' 'TCGA-HT-7690' 'TCGA-TQ-A7RN'\n",
      " 'TCGA-FG-A6J1' 'TCGA-TM-A7C5' 'TCGA-DU-5854' 'TCGA-TM-A84T'\n",
      " 'TCGA-DH-A669' 'TCGA-FG-A4MW' 'TCGA-E1-5302' 'TCGA-HT-7603'\n",
      " 'TCGA-S9-A6WP' 'TCGA-HT-A4DV' 'TCGA-DB-5270' 'TCGA-E1-A7YW'\n",
      " 'TCGA-DU-7009' 'TCGA-HT-8108' 'TCGA-DU-7306' 'TCGA-DB-A64P'\n",
      " 'TCGA-HT-7688' 'TCGA-VM-A8CD' 'TCGA-DB-A64X' 'TCGA-HT-7877'\n",
      " 'TCGA-DH-A66F' 'TCGA-P5-A77W' 'TCGA-HT-A5R9' 'TCGA-E1-A7YS'\n",
      " 'TCGA-TM-A7C3' 'TCGA-DU-A6S7' 'TCGA-TQ-A7RJ' 'TCGA-RY-A843'\n",
      " 'TCGA-RY-A840' 'TCGA-DU-6395' 'TCGA-FG-8191' 'TCGA-HT-7606'\n",
      " 'TCGA-HT-7857' 'TCGA-DU-7015' 'TCGA-HT-7609' 'TCGA-S9-A6WI'\n",
      " 'TCGA-S9-A6TZ' 'TCGA-FG-6691' 'TCGA-DU-6401' 'TCGA-DB-5278'\n",
      " 'TCGA-HT-8109' 'TCGA-FG-A4MT' 'TCGA-DU-7292' 'TCGA-CS-4943'\n",
      " 'TCGA-VV-A829' 'TCGA-FN-7833' 'TCGA-HT-7695' 'TCGA-DB-A4XC'\n",
      " 'TCGA-CS-5390' 'TCGA-HT-7855' 'TCGA-DU-A6S6' 'TCGA-VM-A8CB'\n",
      " 'TCGA-FG-A713' 'TCGA-DH-A7US' 'TCGA-WH-A86K' 'TCGA-DU-6403'\n",
      " 'TCGA-DU-5870' 'TCGA-P5-A736' 'TCGA-P5-A72X' 'TCGA-HT-8011'\n",
      " 'TCGA-CS-6670' 'TCGA-HT-8114' 'TCGA-FG-6690' 'TCGA-DU-6408'\n",
      " 'TCGA-IK-7675' 'TCGA-TM-A84I' 'TCGA-DB-A64U' 'TCGA-DU-5847'\n",
      " 'TCGA-E1-A7YJ' 'TCGA-DB-A4XA' 'TCGA-DU-5852' 'TCGA-TM-A7CA'\n",
      " 'TCGA-DU-6407' 'TCGA-HW-A5KJ' 'TCGA-TM-A84H' 'TCGA-HT-7472'\n",
      " 'TCGA-VV-A86M' 'TCGA-DU-A7TD' 'TCGA-S9-A7QX' 'TCGA-E1-A7YI'\n",
      " 'TCGA-HT-7860' 'TCGA-P5-A780' 'TCGA-E1-A7YQ' 'TCGA-S9-A6U5'\n",
      " 'TCGA-HT-8107' 'TCGA-CS-4942' 'TCGA-S9-A6U9' 'TCGA-HT-7686'\n",
      " 'TCGA-DB-A75P' 'TCGA-P5-A5EW' 'TCGA-HT-7607' 'TCGA-DU-7309'\n",
      " 'TCGA-P5-A737' 'TCGA-S9-A6WM' 'TCGA-FG-7636' 'TCGA-E1-5322'\n",
      " 'TCGA-TQ-A7RF' 'TCGA-DU-7010' 'TCGA-QH-A6CS' 'TCGA-HT-7476'\n",
      " 'TCGA-HT-7884' 'TCGA-DU-A7TC' 'TCGA-CS-6666' 'TCGA-HT-7610'\n",
      " 'TCGA-FG-A60K' 'TCGA-S9-A6U8' 'TCGA-HT-8563' 'TCGA-TQ-A7RH'\n",
      " 'TCGA-S9-A6U1' 'TCGA-DU-7301' 'TCGA-FG-6689' 'TCGA-HT-8013'\n",
      " 'TCGA-HT-A616' 'TCGA-DU-7008' 'TCGA-E1-A7YD' 'TCGA-E1-A7YK'\n",
      " 'TCGA-TM-A84Q' 'TCGA-WY-A858' 'TCGA-F6-A8O4' 'TCGA-R8-A6MK'\n",
      " 'TCGA-VM-A8CF' 'TCGA-FG-5965' 'TCGA-HT-7854' 'TCGA-RY-A847'\n",
      " 'TCGA-DU-5849' 'TCGA-FG-7637' 'TCGA-QH-A65R' 'TCGA-S9-A7R3'\n",
      " 'TCGA-P5-A735' 'TCGA-HT-A618' 'TCGA-E1-A7Z2' 'TCGA-TQ-A7RM'\n",
      " 'TCGA-HT-7694' 'TCGA-VM-A8C8' 'TCGA-HT-7616' 'TCGA-CS-5395'\n",
      " 'TCGA-S9-A7J3' 'TCGA-E1-5303' 'TCGA-CS-4944' 'TCGA-HT-7882'\n",
      " 'TCGA-DH-A7UT' 'TCGA-DB-A64O' 'TCGA-VW-A7QS' 'TCGA-QH-A870'\n",
      " 'TCGA-DU-A5TS' 'TCGA-P5-A731' 'TCGA-KT-A74X' 'TCGA-FG-A4MU'\n",
      " 'TCGA-E1-5311' 'TCGA-HT-7902' 'TCGA-DU-7290' 'TCGA-DB-5274'\n",
      " 'TCGA-FG-A60L' 'TCGA-P5-A781' 'TCGA-DB-A4XD' 'TCGA-DU-6393'\n",
      " 'TCGA-S9-A6U0' 'TCGA-DU-7298' 'TCGA-DU-7299' 'TCGA-DU-A7TG'\n",
      " 'TCGA-FG-A6J3' 'TCGA-DB-5279' 'TCGA-QH-A6X5' 'TCGA-CS-4938'\n",
      " 'TCGA-DU-5872' 'TCGA-DU-7007' 'TCGA-P5-A77X' 'TCGA-DU-7304'\n",
      " 'TCGA-DU-A6S3' 'TCGA-QH-A86X' 'TCGA-E1-5319' 'TCGA-HT-A5RC'\n",
      " 'TCGA-HT-8106' 'TCGA-S9-A6UA' 'TCGA-TM-A84S' 'TCGA-HT-7620'\n",
      " 'TCGA-DU-A7T6' 'TCGA-HT-7611' 'TCGA-DU-A6S8' 'TCGA-QH-A65V'\n",
      " 'TCGA-TM-A84B' 'TCGA-QH-A6CZ' 'TCGA-TM-A84G' 'TCGA-DU-8161'\n",
      " 'TCGA-HT-7477' 'TCGA-DU-6392' 'TCGA-CS-5393' 'TCGA-S9-A6WO'\n",
      " 'TCGA-S9-A7R4' 'TCGA-RY-A83X' 'TCGA-HT-7693' 'TCGA-HT-7467'\n",
      " 'TCGA-FG-8186' 'TCGA-HW-A5KK' 'TCGA-DB-A75O' 'TCGA-DB-A64W'\n",
      " 'TCGA-DB-A4XF' 'TCGA-FG-7638' 'TCGA-HT-A74K' 'TCGA-HT-8105'\n",
      " 'TCGA-S9-A6U6' 'TCGA-FG-A70Y' 'TCGA-F6-A8O3' 'TCGA-QH-A65Z'\n",
      " 'TCGA-DU-6397' 'TCGA-S9-A6TS' 'TCGA-DH-5142' 'TCGA-P5-A730'\n",
      " 'TCGA-TM-A84C' 'TCGA-TM-A84M' 'TCGA-TM-A84O' 'TCGA-S9-A7IX'\n",
      " 'TCGA-DU-A76L' 'TCGA-QH-A6X8' 'TCGA-HW-8319' 'TCGA-DB-A4XE'\n",
      " 'TCGA-VM-A8C9' 'TCGA-HT-7677' 'TCGA-DH-A7UU' 'TCGA-E1-A7Z6'\n",
      " 'TCGA-P5-A5F0' 'TCGA-DU-7019' 'TCGA-HT-7879' 'TCGA-DB-A64L'\n",
      " 'TCGA-HT-7469' 'TCGA-TM-A84F' 'TCGA-S9-A6TY' 'TCGA-RY-A83Y'\n",
      " 'TCGA-E1-A7YH' 'TCGA-DH-5141' 'TCGA-HT-A615' 'TCGA-HT-7676'\n",
      " 'TCGA-HT-7873' 'TCGA-HT-7473' 'TCGA-DU-6400' 'TCGA-HW-8322'\n",
      " 'TCGA-HT-7480' 'TCGA-DU-7006' 'TCGA-P5-A72W' 'TCGA-S9-A7R1'\n",
      " 'TCGA-HT-7684' 'TCGA-E1-A7YV' 'TCGA-P5-A5F1' 'TCGA-S9-A6WN'\n",
      " 'TCGA-DU-A7T8' 'TCGA-HW-7487' 'TCGA-DU-A7TJ' 'TCGA-DU-5855'\n",
      " 'TCGA-S9-A6TV' 'TCGA-DH-A66B' 'TCGA-HT-8104' 'TCGA-FG-A87Q'\n",
      " 'TCGA-P5-A733' 'TCGA-E1-A7Z4' 'TCGA-EZ-7264' 'TCGA-S9-A7QY'\n",
      " 'TCGA-DU-6396' 'TCGA-W9-A837' 'TCGA-FG-7641' 'TCGA-HT-7471'\n",
      " 'TCGA-HT-7470' 'TCGA-QH-A6CU' 'TCGA-HT-7485' 'TCGA-TQ-A7RW'\n",
      " 'TCGA-HT-7608' 'TCGA-R8-A73M' 'TCGA-HT-A74O' 'TCGA-HT-7468'\n",
      " 'TCGA-HT-7880' 'TCGA-HT-7858' 'TCGA-HT-A614' 'TCGA-HW-7491'\n",
      " 'TCGA-FG-5963' 'TCGA-DH-A7UV' 'TCGA-TQ-A7RG' 'TCGA-VM-A8CA'\n",
      " 'TCGA-HT-A61B' 'TCGA-E1-A7YU' 'TCGA-QH-A65X' 'TCGA-VM-A8CE'\n",
      " 'TCGA-TQ-A7RP' 'TCGA-E1-A7YL' 'TCGA-DU-8158' 'TCGA-HT-7692'\n",
      " 'TCGA-FG-7643' 'TCGA-DB-5273' 'TCGA-TQ-A7RV' 'TCGA-DU-A5TU'\n",
      " 'TCGA-DB-A75K' 'TCGA-TQ-A7RI' 'TCGA-FG-8185' 'TCGA-HT-8111'\n",
      " 'TCGA-TQ-A7RR' 'TCGA-TQ-A8XE' 'TCGA-HT-A617' 'TCGA-DB-A64V'\n",
      " 'TCGA-DU-8166' 'TCGA-TM-A7C4' 'TCGA-FG-7634' 'TCGA-QH-A6XA'\n",
      " 'TCGA-HT-7602' 'TCGA-S9-A6TU' 'TCGA-DH-A66G' 'TCGA-TQ-A7RQ'\n",
      " 'TCGA-HT-A74L' 'TCGA-HT-7475' 'TCGA-QH-A6X9' 'TCGA-IK-8125'\n",
      " 'TCGA-S9-A6WQ' 'TCGA-DH-5143' 'TCGA-DB-A64R' 'TCGA-DB-A64S'\n",
      " 'TCGA-P5-A5EX' 'TCGA-DU-7294' 'TCGA-E1-5305' 'TCGA-CS-6665'\n",
      " 'TCGA-HT-7601' 'TCGA-HT-8110' 'TCGA-TM-A84L' 'TCGA-14-1450'\n",
      " 'TCGA-12-0819' 'TCGA-32-1991' 'TCGA-76-6660' 'TCGA-76-6285'\n",
      " 'TCGA-74-6575' 'TCGA-81-5911' 'TCGA-28-5220' 'TCGA-06-0876'\n",
      " 'TCGA-14-0787' 'TCGA-06-0939' 'TCGA-06-0152' 'TCGA-32-1982'\n",
      " 'TCGA-32-2634' 'TCGA-76-4927' 'TCGA-19-5950' 'TCGA-06-1804'\n",
      " 'TCGA-19-2631' 'TCGA-12-3649' 'TCGA-14-1829' 'TCGA-27-1833'\n",
      " 'TCGA-76-6282' 'TCGA-06-6388' 'TCGA-32-1979' 'TCGA-32-5222'\n",
      " 'TCGA-02-0033' 'TCGA-14-1034' 'TCGA-12-0818' 'TCGA-27-1837'\n",
      " 'TCGA-12-0618' 'TCGA-28-2513' 'TCGA-06-5408' 'TCGA-76-6662'\n",
      " 'TCGA-12-3648' 'TCGA-81-5910' 'TCGA-15-0742' 'TCGA-06-5415'\n",
      " 'TCGA-12-1088' 'TCGA-19-A60I' 'TCGA-12-1092' 'TCGA-19-1790'\n",
      " 'TCGA-14-0812' 'TCGA-16-1460' 'TCGA-28-5204' 'TCGA-41-3915'\n",
      " 'TCGA-14-1451' 'TCGA-06-1084' 'TCGA-06-0125' 'TCGA-76-6656'\n",
      " 'TCGA-14-2554' 'TCGA-06-A7TK' 'TCGA-41-2571' 'TCGA-76-6661'\n",
      " 'TCGA-28-6450' 'TCGA-28-2509' 'TCGA-14-0862' 'TCGA-32-2632'\n",
      " 'TCGA-19-2624' 'TCGA-06-0686' 'TCGA-06-0750' 'TCGA-14-3476'\n",
      " 'TCGA-06-0209' 'TCGA-06-0132' 'TCGA-12-0656' 'TCGA-26-1799'\n",
      " 'TCGA-14-0871' 'TCGA-12-0657' 'TCGA-19-1786' 'TCGA-06-6390'\n",
      " 'TCGA-28-5219' 'TCGA-14-1455' 'TCGA-41-2575' 'TCGA-28-5216'\n",
      " 'TCGA-26-A7UX' 'TCGA-06-A5U0' 'TCGA-32-1980' 'TCGA-19-4068'\n",
      " 'TCGA-06-0744' 'TCGA-76-4935' 'TCGA-26-5133' 'TCGA-41-5651'\n",
      " 'TCGA-19-1787' 'TCGA-28-1745' 'TCGA-28-5213' 'TCGA-74-6577'\n",
      " 'TCGA-32-2638' 'TCGA-19-1791' 'TCGA-06-6693' 'TCGA-06-1087'\n",
      " 'TCGA-76-4928' 'TCGA-32-4210' 'TCGA-06-5412' 'TCGA-06-5417'\n",
      " 'TCGA-28-1752' 'TCGA-06-0747' 'TCGA-06-0169' 'TCGA-26-1442'\n",
      " 'TCGA-28-2499' 'TCGA-27-2518' 'TCGA-06-0216' 'TCGA-28-1750'\n",
      " 'TCGA-06-0137' 'TCGA-06-0184' 'TCGA-19-2620' 'TCGA-41-2573'\n",
      " 'TCGA-27-2524' 'TCGA-06-0190' 'TCGA-12-0773' 'TCGA-06-2563'\n",
      " 'TCGA-74-6573' 'TCGA-06-0185' 'TCGA-06-0140' 'TCGA-27-2528'\n",
      " 'TCGA-41-4097' 'TCGA-14-1823' 'TCGA-12-0619' 'TCGA-06-0219'\n",
      " 'TCGA-14-1456' 'TCGA-06-0192' 'TCGA-02-2486' 'TCGA-16-0861'\n",
      " 'TCGA-06-0875' 'TCGA-06-0879' 'TCGA-74-6581' 'TCGA-74-6578'\n",
      " 'TCGA-14-1396' 'TCGA-06-0195' 'TCGA-28-5218' 'TCGA-06-5416'\n",
      " 'TCGA-19-2623' 'TCGA-02-0003' 'TCGA-06-0189' 'TCGA-76-6286'\n",
      " 'TCGA-12-1597' 'TCGA-14-1453' 'TCGA-19-5960' 'TCGA-76-4929'\n",
      " 'TCGA-76-4925' 'TCGA-12-1600' 'TCGA-19-1789' 'TCGA-12-5301'\n",
      " 'TCGA-12-1598' 'TCGA-02-2470' 'TCGA-19-1385' 'TCGA-06-5858'\n",
      " 'TCGA-06-1806' 'TCGA-12-0688' 'TCGA-12-3652' 'TCGA-14-0813'\n",
      " 'TCGA-32-1970' 'TCGA-06-2570' 'TCGA-27-2527' 'TCGA-14-0740'\n",
      " 'TCGA-02-0055' 'TCGA-06-5418' 'TCGA-06-6701' 'TCGA-19-1390'\n",
      " 'TCGA-06-1800' 'TCGA-32-4213' 'TCGA-06-6694' 'TCGA-06-0122'\n",
      " 'TCGA-12-3651' 'TCGA-19-0957' 'TCGA-14-0817' 'TCGA-19-5958'\n",
      " 'TCGA-19-2625' 'TCGA-14-1825' 'TCGA-27-2521' 'TCGA-OX-A56R'\n",
      " 'TCGA-16-0849' 'TCGA-76-6657' 'TCGA-06-0158' 'TCGA-28-2501'\n",
      " 'TCGA-76-6280' 'TCGA-28-1747' 'TCGA-06-2559' 'TCGA-06-0878'\n",
      " 'TCGA-06-0166' 'TCGA-28-5208' 'TCGA-28-1749' 'TCGA-19-1387'\n",
      " 'TCGA-12-0615' 'TCGA-27-1830' 'TCGA-06-2561' 'TCGA-14-0786'\n",
      " 'TCGA-06-A5U1' 'TCGA-19-5951' 'TCGA-76-6191' 'TCGA-19-4065'\n",
      " 'TCGA-RR-A6KA' 'TCGA-06-0221' 'TCGA-28-2502' 'TCGA-06-5859'\n",
      " 'TCGA-06-6389' 'TCGA-32-2495' 'TCGA-06-0743' 'TCGA-12-0821'\n",
      " 'TCGA-28-1755' 'TCGA-32-4211' 'TCGA-06-2562' 'TCGA-32-4209'\n",
      " 'TCGA-41-3393' 'TCGA-76-4932' 'TCGA-12-0826' 'TCGA-27-2519'\n",
      " 'TCGA-RR-A6KB' 'TCGA-27-1831' 'TCGA-28-2510' 'TCGA-06-0644'\n",
      " 'TCGA-06-2569' 'TCGA-32-1977' 'TCGA-06-0187' 'TCGA-26-5136'\n",
      " 'TCGA-06-0882' 'TCGA-16-0850' 'TCGA-32-1976' 'TCGA-06-0877'\n",
      " 'TCGA-4W-AA9R' 'TCGA-06-2564' 'TCGA-19-1788' 'TCGA-12-0707'\n",
      " 'TCGA-06-0214' 'TCGA-14-0781' 'TCGA-4W-AA9T' 'TCGA-06-5856'\n",
      " 'TCGA-41-6646' 'TCGA-06-0145' 'TCGA-26-1439' 'TCGA-12-1093'\n",
      " 'TCGA-14-0736' 'TCGA-06-0745' 'TCGA-14-0789' 'TCGA-26-6173'\n",
      " 'TCGA-27-1838' 'TCGA-76-6663' 'TCGA-32-2494' 'TCGA-06-2567'\n",
      " 'TCGA-41-2572' 'TCGA-12-0775' 'TCGA-41-3392' 'TCGA-14-3477'\n",
      " 'TCGA-06-A6S1' 'TCGA-12-0692' 'TCGA-14-1795' 'TCGA-19-1386'\n",
      " 'TCGA-19-A6J5' 'TCGA-06-6699' 'TCGA-16-0848' 'TCGA-74-6584'\n",
      " 'TCGA-12-0820' 'TCGA-14-4157' 'TCGA-06-0130' 'TCGA-02-2485'\n",
      " 'TCGA-12-5299' 'TCGA-12-3646' 'TCGA-06-2558' 'TCGA-06-2565'\n",
      " 'TCGA-06-6391' 'TCGA-06-0238' 'TCGA-76-4926' 'TCGA-06-A7TL'\n",
      " 'TCGA-14-0790' 'TCGA-12-0616' 'TCGA-02-0047' 'TCGA-19-5955'\n",
      " 'TCGA-14-1827' 'TCGA-06-0157' 'TCGA-06-0168' 'TCGA-26-5135'\n",
      " 'TCGA-06-6698' 'TCGA-26-5134' 'TCGA-12-5295' 'TCGA-06-0154'\n",
      " 'TCGA-12-0691' 'TCGA-12-1602' 'TCGA-12-0670' 'TCGA-28-1757'\n",
      " 'TCGA-12-0829' 'TCGA-06-0749' 'TCGA-06-5413' 'TCGA-06-0646'\n",
      " 'TCGA-26-6174' 'TCGA-12-0662' 'TCGA-28-2514' 'TCGA-06-0650'\n",
      " 'TCGA-76-4931' 'TCGA-06-0649' 'TCGA-06-0241' 'TCGA-19-5956'\n",
      " 'TCGA-06-0173' 'TCGA-02-2466' 'TCGA-06-6697' 'TCGA-06-0129'\n",
      " 'TCGA-06-6695' 'TCGA-15-1446' 'TCGA-16-1048' 'TCGA-27-2526'\n",
      " 'TCGA-76-6192' 'TCGA-27-2523' 'TCGA-06-0119' 'TCGA-27-1835'\n",
      " 'TCGA-4W-AA9S' 'TCGA-19-2629' 'TCGA-RR-A6KC' 'TCGA-06-0237'\n",
      " 'TCGA-06-0211' 'TCGA-76-6283' 'TCGA-06-0188' 'TCGA-32-4208'\n",
      " 'TCGA-06-5414' 'TCGA-12-3644' 'TCGA-87-5896' 'TCGA-06-5410'\n",
      " 'TCGA-14-1821' 'TCGA-06-0126' 'TCGA-12-0827' 'TCGA-06-0210'\n",
      " 'TCGA-06-0213' 'TCGA-14-1037' 'TCGA-06-0645' 'TCGA-06-0171'\n",
      " 'TCGA-19-5954' 'TCGA-27-1836' 'TCGA-19-2621' 'TCGA-02-2483'\n",
      " 'TCGA-32-1986' 'TCGA-12-1599' 'TCGA-06-A6S0' 'TCGA-14-0865'\n",
      " 'TCGA-16-1045' 'TCGA-28-5209' 'TCGA-19-A6J4' 'TCGA-19-5947'\n",
      " 'TCGA-06-0155' 'TCGA-76-6664' 'TCGA-06-0124' 'TCGA-06-0151'\n",
      " 'TCGA-26-5139' 'TCGA-76-4934' 'TCGA-06-0141' 'TCGA-06-0881'\n",
      " 'TCGA-12-3653' 'TCGA-28-1751' 'TCGA-06-0648' 'TCGA-06-0174'\n",
      " 'TCGA-19-1389' 'TCGA-28-1753' 'TCGA-76-6193' 'TCGA-12-3650'\n",
      " 'TCGA-14-1395' 'TCGA-32-2616' 'TCGA-06-5411' 'TCGA-28-5215'\n",
      " 'TCGA-19-5953' 'TCGA-14-1043' 'TCGA-06-0128' 'TCGA-12-1089'\n",
      " 'TCGA-27-1834' 'TCGA-19-5959' 'TCGA-16-0846' 'TCGA-28-1746'\n",
      " 'TCGA-32-2491' 'TCGA-06-2557']\n",
      "Gender ['Male' 'Female' '--']\n",
      "Age_at_diagnosis ['51 years 108 days' '38 years 261 days' '35 years 62 days'\n",
      " '32 years 283 days' '31 years 187 days' '33 years 78 days'\n",
      " '35 years 68 days' '44 years 239 days' '33 years 350 days' '87 years'\n",
      " '51 years 328 days' '54 years 95 days' '52 years 214 days'\n",
      " '47 years 123 days' '34 years 132 days' '40 years 192 days'\n",
      " '53 years 352 days' '41 years 70 days' '43 years 161 days'\n",
      " '37 years 159 days' '47 years 173 days' '31 years 8 days'\n",
      " '25 years 191 days' '66 years 305 days' '56 years 250 days'\n",
      " '35 years 362 days' '51 years 363 days' '37 years 32 days'\n",
      " '54 years 183 days' '32 years 76 days' '65 years 28 days'\n",
      " '43 years 131 days' '51 years 59 days' '43 years 221 days'\n",
      " '25 years 214 days' '45 years 24 days' '50 years 153 days'\n",
      " '27 years 166 days' '53 years 252 days' '46 years 144 days'\n",
      " '24 years 239 days' '--' '34 years 70 days' '29 years 198 days'\n",
      " '45 years 124 days' '62 years 90 days' '46 years 224 days'\n",
      " '36 years 247 days' '62 years 202 days' '70 years 159 days'\n",
      " '53 years 41 days' '48 years 124 days' '40 years 69 days'\n",
      " '40 years 7 days' '20 years 359 days' '57 years 200 days'\n",
      " '38 years 322 days' '52 years 192 days' '56 years 104 days'\n",
      " '59 years 275 days' '67 years 107 days' '48 years 346 days'\n",
      " '59 years 254 days' '58 years 147 days' '27 years 247 days'\n",
      " '51 years 230 days' '74 years 11 days' '52 years 230 days'\n",
      " '61 years 62 days' '66 years 146 days' '42 years 32 days'\n",
      " '31 years 344 days' '48 years 268 days' '33 years 340 days'\n",
      " '34 years 213 days' '24 years 54 days' '55 years 48 days'\n",
      " '27 years 323 days' '29 years 32 days' '39 years 131 days'\n",
      " '70 years 3 days' '30 years 338 days' '39 years 178 days'\n",
      " '25 years 41 days' '48 years 160 days' '57 years 17 days'\n",
      " '34 years 307 days' '58 years 137 days' '55 years 208 days'\n",
      " '60 years 49 days' '38 years 13 days' '56 years 113 days'\n",
      " '54 years 180 days' '31 years 152 days' '54 years 146 days'\n",
      " '52 years 241 days' '33 years 54 days' '42 years 173 days'\n",
      " '20 years 75 days' '64 years 106 days' '29 years 232 days'\n",
      " '36 years 222 days' '31 years 362 days' '36 years 67 days'\n",
      " '32 years 173 days' '38 years 292 days' '29 years 298 days'\n",
      " '41 years 76 days' '35 years 189 days' '33 years 39 days'\n",
      " '32 years 50 days' '49 years 276 days' '69 years 217 days'\n",
      " '14 years 154 days' '33 years 349 days' '47 years 92 days'\n",
      " '33 years 58 days' '63 years 364 days' '62 years 205 days'\n",
      " '37 years 83 days' '53 years 183 days' '53 years 74 days'\n",
      " '45 years 76 days' '33 years 331 days' '53 years 359 days'\n",
      " '52 years 156 days' '64 years 304 days' '71 years 70 days'\n",
      " '40 years 300 days' '36 years 354 days' '25 years 249 days'\n",
      " '63 years 170 days' '40 years 310 days' '47 years 215 days'\n",
      " '73 years 241 days' '24 years 51 days' '48 years 342 days'\n",
      " '41 years 325 days' '36 years 189 days' '45 years 334 days'\n",
      " '44 years 204 days' '27 years 6 days' '50 years 181 days'\n",
      " '42 years 141 days' '40 years 248 days' '62 years 192 days'\n",
      " '33 years 195 days' '46 years 42 days' '41 years 117 days'\n",
      " '47 years 333 days' '56 years 159 days' '38 years 64 days'\n",
      " '60 years 64 days' '29 years 150 days' '59 years 196 days'\n",
      " '44 years 66 days' '69 years 60 days' '63 years 253 days'\n",
      " '43 years 142 days' '61 years 316 days' '39 years 66 days'\n",
      " '31 years 315 days' '51 years 164 days' '41 years 203 days'\n",
      " '60 years 360 days' '74 years 158 days' '63 years 81 days'\n",
      " '66 years 170 days' '51 years 312 days' '39 years 62 days'\n",
      " '38 years 111 days' '37 years 92 days' '30 years 32 days'\n",
      " '54 years 143 days' '36 years 357 days' '48 years 197 days'\n",
      " '29 years 81 days' '32 years 135 days' '44 years 35 days'\n",
      " '30 years 329 days' '57 years 287 days' '19 years 55 days'\n",
      " '70 years 242 days' '63 years 67 days' '41 years 255 days'\n",
      " '29 years 291 days' '42 years 318 days' '51 years 172 days'\n",
      " '38 years 25 days' '28 years 344 days' '32 years 166 days'\n",
      " '26 years 43 days' '67 years 329 days' '40 years 326 days'\n",
      " '59 years 295 days' '58 years 16 days' '56 years 171 days'\n",
      " '20 years 276 days' '49 years 296 days' '37 years 31 days'\n",
      " '48 years 243 days' '71 years 227 days' '43 years 316 days'\n",
      " '27 years 309 days' '25 years 78 days' '30 years 126 days'\n",
      " '47 years 335 days' '31 years 262 days' '30 years 295 days'\n",
      " '30 years 276 days' '24 years 146 days' '41 years 66 days'\n",
      " '34 years 189 days' '56 years 155 days' '39 years 348 days'\n",
      " '23 years 3 days' '31 years 273 days' '17 years 271 days'\n",
      " '64 years 110 days' '27 years 221 days' '69 years 64 days'\n",
      " '37 years 51 days' '44 years 92 days' '25 years 97 days'\n",
      " '29 years 235 days' '26 years 209 days' '47 years 294 days'\n",
      " '39 years 252 days' '35 years 26 days' '33 years 287 days'\n",
      " '74 years 204 days' '50 years 167 days' '65 years 314 days'\n",
      " '60 years 116 days' '34 years 346 days' '44 years 229 days'\n",
      " '21 years 243 days' '55 years 87 days' '43 years 361 days'\n",
      " '36 years 49 days' '70 years 100 days' '23 years 352 days'\n",
      " '43 years 195 days' '30 years 264 days' '38 years 140 days'\n",
      " '34 years 188 days' '55 years 92 days' '30 years 238 days'\n",
      " '61 years 68 days' '44 years 344 days' '35 years 238 days'\n",
      " '68 years 129 days' '44 years 206 days' '38 years 89 days'\n",
      " '36 years 304 days' '52 years 32 days' '36 years 183 days'\n",
      " '33 years 176 days' '60 years 119 days' '44 years 90 days'\n",
      " '58 years 157 days' '33 years 364 days' '62 years 235 days'\n",
      " '44 years 226 days' '36 years 311 days' '29 years 132 days'\n",
      " '25 years 282 days' '20 years 307 days' '61 years 305 days'\n",
      " '41 years 222 days' '47 years 224 days' '59 years 212 days'\n",
      " '48 years 311 days' '38 years 24 days' '27 years 58 days'\n",
      " '58 years 15 days' '26 years 118 days' '44 years 209 days'\n",
      " '32 years 196 days' '22 years 305 days' '25 years 316 days'\n",
      " '34 years 27 days' '24 years 278 days' '30 years 348 days'\n",
      " '39 years 280 days' '22 years 236 days' '53 years 286 days'\n",
      " '30 years 355 days' '37 years 239 days' '36 years 73 days'\n",
      " '41 years 314 days' '57 years 201 days' '52 years 243 days'\n",
      " '31 years 346 days' '32 years 167 days' '44 years 131 days'\n",
      " '40 years 106 days' '44 years 263 days' '39 years 5 days'\n",
      " '62 years 93 days' '45 years 296 days' '48 years 131 days'\n",
      " '49 years 187 days' '38 years 194 days' '28 years 115 days'\n",
      " '38 years 273 days' '37 years 81 days' '41 years 179 days'\n",
      " '60 years 15 days' '50 years 232 days' '75 years 292 days'\n",
      " '43 years 143 days' '52 years 63 days' '38 years 333 days'\n",
      " '66 years 344 days' '30 years 57 days' '59 years 262 days'\n",
      " '35 years 37 days' '38 years 203 days' '42 years 310 days'\n",
      " '59 years 166 days' '26 years 94 days' '58 years 266 days'\n",
      " '31 years 10 days' '30 years 161 days' '45 years 231 days'\n",
      " '37 years 166 days' '34 years 162 days' '34 years 339 days'\n",
      " '32 years 53 days' '66 years 176 days' '46 years 89 days'\n",
      " '38 years 326 days' '33 years 213 days' '40 years 61 days'\n",
      " '52 years 145 days' '59 years 359 days' '58 years 55 days'\n",
      " '43 years 281 days' '33 years 192 days' '55 years 40 days'\n",
      " '43 years 226 days' '60 years 123 days' '33 years 332 days'\n",
      " '48 years 80 days' '70 years 205 days' '53 years 197 days'\n",
      " '66 years 136 days' '36 years 275 days' '40 years 49 days'\n",
      " '73 years 103 days' '36 years 165 days' '74 years 56 days'\n",
      " '43 years 145 days' '40 years 323 days' '38 years 128 days'\n",
      " '54 years 291 days' '63 years 54 days' '62 years 303 days'\n",
      " '35 years 53 days' '39 years 174 days' '29 years 341 days'\n",
      " '46 years 333 days' '46 years 110 days' '51 years 329 days'\n",
      " '54 years 221 days' '42 years 91 days' '64 years 108 days'\n",
      " '29 years 220 days' '65 years 195 days' '41 years 91 days'\n",
      " '31 years 206 days' '58 years 5 days' '54 years 318 days'\n",
      " '28 years 26 days' '20 years 116 days' '34 years 160 days'\n",
      " '54 years 198 days' '45 years 259 days' '48 years 325 days'\n",
      " '29 years 86 days' '22 years 8 days' '32 years 161 days'\n",
      " '40 years 50 days' '61 years 47 days' '57 years 276 days'\n",
      " '54 years 100 days' '56 years 317 days' '34 years 139 days'\n",
      " '27 years 289 days' '37 years 149 days' '43 years 332 days'\n",
      " '41 years 10 days' '33 years 104 days' '39 years 35 days'\n",
      " '31 years 300 days' '67 years 219 days' '30 years 140 days'\n",
      " '48 years 212 days' '50 years 302 days' '45 years 34 days'\n",
      " '47 years 299 days' '32 years 158 days' '26 years 171 days'\n",
      " '29 years 213 days' '28 years 79 days' '66 years 16 days'\n",
      " '39 years 304 days' '33 years 238 days' '60 years 75 days'\n",
      " '35 years 65 days' '35 years 45 days' '58 years 168 days'\n",
      " '26 years 50 days' '30 years 113 days' '38 years 82 days'\n",
      " '35 years 325 days' '39 years 291 days' '55 years 306 days'\n",
      " '49 years 337 days' '50 years 59 days' '52 years 163 days'\n",
      " '51 years 121 days' '61 years 285 days' '52 years 149 days'\n",
      " '35 years 66 days' '47 years 266 days' '35 years 70 days'\n",
      " '31 years 105 days' '31 years 35 days' '37 years 50 days'\n",
      " '37 years 97 days' '42 years 249 days' '32 years 116 days'\n",
      " '61 years 22 days' '48 years 78 days' '34 years 42 days'\n",
      " '30 years 252 days' '30 years 86 days' '28 years 195 days'\n",
      " '47 years 226 days' '35 years 91 days' '23 years 171 days'\n",
      " '49 years 264 days' '36 years 78 days' '54 years 268 days'\n",
      " '22 years 300 days' '42 years 5 days' '28 years 213 days'\n",
      " '25 years 232 days' '66 years 3 days' '46 years 181 days'\n",
      " '57 years 310 days' '43 years 22 days' '49 years 309 days'\n",
      " '33 years 99 days' '27 years 306 days' '62 years 166 days'\n",
      " '55 years 153 days' '37 years 285 days' '37 years 107 days'\n",
      " '32 years 122 days' '38 years 143 days' '42 years 289 days'\n",
      " '47 years 165 days' '54 years 227 days' '29 years 49 days'\n",
      " '39 years 359 days' '28 years 249 days' '23 years 108 days'\n",
      " '21 years 276 days' '38 years 229 days' '49 years 302 days'\n",
      " '38 years 308 days' '22 years 205 days' '67 years 215 days'\n",
      " '73 years 329 days' '62 years 100 days' '57 years 314 days'\n",
      " '30 years 334 days' '24 years 181 days' '20 years 84 days'\n",
      " '41 years 116 days' '53 years 258 days' '34 years 237 days'\n",
      " '51 years 350 days' '57 years 364 days' '31 years 176 days'\n",
      " '57 years 141 days' '49 years 263 days' '60 years 106 days'\n",
      " '73 years 250 days' '64 years 298 days' '73 years 164 days'\n",
      " '33 years 239 days' '67 years 151 days' '72 years 74 days'\n",
      " '69 years 124 days' '79 years 39 days' '68 years 7 days'\n",
      " '76 years 5 days' '82 years 14 days' '58 years 9 days'\n",
      " '52 years 251 days' '81 years 217 days' '74 years 172 days'\n",
      " '76 years 87 days' '57 years 110 days' '67 years 121 days'\n",
      " '63 years 313 days' '64 years 143 days' '69 years 50 days'\n",
      " '66 years 28 days' '54 years 347 days' '60 years 114 days'\n",
      " '45 years 230 days' '36 years 219 days' '49 years 174 days'\n",
      " '69 years 219 days' '54 years 340 days' '58 years 327 days'\n",
      " '61 years 183 days' '64 years 191 days' '65 years 309 days'\n",
      " '60 years 298 days' '53 years 309 days' '39 years 193 days'\n",
      " '58 years 227 days' '56 years 172 days' '65 years 344 days'\n",
      " '36 years 59 days' '72 years 192 days' '48 years 348 days'\n",
      " '39 years 157 days' '54 years 176 days' '63 years 333 days'\n",
      " '66 years 159 days' '52 years 97 days' '89 years 105 days'\n",
      " '54 years 242 days' '60 years 262 days' '77 years 116 days'\n",
      " '60 years 264 days' '80 years 61 days' '51 years 264 days'\n",
      " '53 years 145 days' '43 years 313 days' '74 years 144 days'\n",
      " '76 years 118 days' '49 years 228 days' '48 years 333 days'\n",
      " '68 years 334 days' '74 years 359 days' '69 years 211 days'\n",
      " '64 years 192 days' '58 years 144 days' '47 years 88 days'\n",
      " '61 years 282 days' '75 years 194 days' '52 years 246 days'\n",
      " '47 years 199 days' '21 years 288 days' '72 years 169 days'\n",
      " '68 years 108 days' '67 years' '52 years 238 days' '59 years 11 days'\n",
      " '59 years 149 days' '48 years 362 days' '76 years 58 days'\n",
      " '72 years 193 days' '51 years 113 days' '67 years 187 days'\n",
      " '82 years 115 days' '64 years 209 days' '75 years 265 days'\n",
      " '85 years 221 days' '73 years 105 days' '78 years 273 days'\n",
      " '45 years 136 days' '42 years 225 days' '53 years 299 days'\n",
      " '68 years 290 days' '43 years 245 days' '59 years 289 days'\n",
      " '52 years 137 days' '61 years 244 days' '40 years 207 days'\n",
      " '63 years 263 days' '63 years 307 days' '70 years 98 days'\n",
      " '59 years 362 days' '56 years 101 days' '62 years 190 days'\n",
      " '24 years 83 days' '72 years 345 days' '67 years 161 days'\n",
      " '54 years 200 days' '86 years 155 days' '62 years 222 days'\n",
      " '63 years 97 days' '58 years 200 days' '60 years 5 days'\n",
      " '67 years 17 days' '23 years 310 days' '58 years 59 days'\n",
      " '64 years 18 days' '65 years 37 days' '61 years 32 days'\n",
      " '52 years 161 days' '77 years 139 days' '58 years 280 days'\n",
      " '78 years 264 days' '63 years 122 days' '63 years 86 days'\n",
      " '23 years 133 days' '65 years 94 days' '50 years 79 days'\n",
      " '55 years 209 days' '60 years 258 days' '62 years 220 days'\n",
      " '69 years 95 days' '56 years 187 days' '76 years 72 days'\n",
      " '76 years 252 days' '86 years 8 days' '69 years 80 days'\n",
      " '59 years 219 days' '75 years 337 days' '57 years 202 days'\n",
      " '69 years 257 days' '45 years 226 days' '47 years 130 days'\n",
      " '74 years 57 days' '78 years 93 days' '59 years 64 days'\n",
      " '21 years 266 days' '81 years 34 days' '70 years 60 days'\n",
      " '62 years 153 days' '75 years 191 days' '60 years 136 days'\n",
      " '63 years 53 days' '61 years 52 days' '47 years 71 days'\n",
      " '76 years 150 days' '84 years 287 days' '77 years 153 days'\n",
      " '48 years 182 days' '69 years 223 days' '56 years 12 days'\n",
      " '76 years 171 days' '70 years 117 days' '34 years 267 days'\n",
      " '68 years 341 days' '54 years 216 days' '74 years 313 days'\n",
      " '73 years 193 days' '57 years 112 days' '44 years 230 days'\n",
      " '83 years 265 days' '74 years 291 days' '51 years 275 days'\n",
      " '52 years 60 days' '73 years 102 days' '81 years 307 days'\n",
      " '78 years 94 days' '57 years 312 days' '53 years 147 days'\n",
      " '50 years 330 days' '78 years 56 days' '76 years 236 days'\n",
      " '57 years 118 days' '36 years 108 days' '72 years 284 days'\n",
      " '31 years 11 days' '65 years 66 days' '63 years 201 days'\n",
      " '49 years 351 days' '59 years 311 days' '69 years 232 days'\n",
      " '62 years 304 days' '52 years 270 days' '56 years 294 days'\n",
      " '81 years 168 days' '40 years 293 days' '81 years 319 days'\n",
      " '50 years 171 days' '38 years 8 days' '48 years 183 days'\n",
      " '51 years 86 days' '66 years 341 days' '71 years 315 days'\n",
      " '24 years 156 days' '63 years 195 days' '69 years 116 days'\n",
      " '78 years 7 days' '30 years 155 days' '52 years 288 days'\n",
      " '65 years 57 days' '78 years 271 days' '61 years 37 days'\n",
      " '50 years 173 days' '39 years 57 days' '66 years 81 days'\n",
      " '49 years 6 days' '54 years 78 days' '58 years 48 days' '73 years 4 days'\n",
      " '53 years 303 days' '63 years 292 days' '66 years 191 days'\n",
      " '49 years 322 days' '59 years 335 days' '54 years 327 days'\n",
      " '57 years 274 days' '59 years 157 days' '44 years 55 days'\n",
      " '58 years 14 days' '65 years 18 days' '67 years 34 days'\n",
      " '75 years 172 days' '88 years 209 days' '53 years 85 days'\n",
      " '75 years 126 days' '66 years 269 days' '51 years 51 days'\n",
      " '40 years 360 days' '58 years 6 days' '57 years 29 days'\n",
      " '55 years 144 days' '40 years 268 days' '40 years 206 days'\n",
      " '54 years 89 days' '53 years 136 days' '56 years 9 days'\n",
      " '59 years 306 days' '75 years 118 days' '59 years 10 days'\n",
      " '44 years 135 days' '46 years 236 days' '68 years 248 days'\n",
      " '30 years 340 days' '36 years 302 days' '78 years 270 days'\n",
      " '83 years 235 days' '51 years 201 days' '63 years 118 days'\n",
      " '59 years 227 days' '53 years 233 days' '74 years 83 days'\n",
      " '60 years 246 days' '54 years 295 days' '63 years 9 days'\n",
      " '58 years 308 days' '60 years 274 days' '71 years 257 days'\n",
      " '75 years 78 days' '50 years 309 days' '67 years 6 days'\n",
      " '60 years 358 days' '65 years 143 days' '51 years 90 days'\n",
      " '45 years 301 days' '39 years 316 days' '70 years 245 days'\n",
      " '73 years 133 days' '65 years 360 days' '72 years 251 days'\n",
      " '61 years 177 days' '65 years 22 days' '30 years 327 days'\n",
      " '64 years 50 days' '55 years 267 days' '79 years 123 days'\n",
      " '74 years 294 days' '63 years 24 days' '81 years 21 days'\n",
      " '53 years 86 days' '69 years 343 days' '60 years 342 days'\n",
      " '55 years 214 days' '75 years 342 days' '47 years 349 days'\n",
      " '71 years 148 days' '25 years 82 days' '61 years 247 days'\n",
      " '47 years 302 days' '50 years 129 days' '72 years 97 days'\n",
      " '31 years 7 days' '86 years 216 days' '38 years 214 days'\n",
      " '72 years 302 days' '55 years 46 days' '66 years 320 days'\n",
      " '55 years 361 days' '72 years 57 days' '33 years 7 days'\n",
      " '83 years 114 days' '43 years 259 days' '68 years 224 days'\n",
      " '79 years 183 days' '67 years 326 days' '49 years 298 days'\n",
      " '66 years 256 days' '68 years 221 days' '47 years 52 days'\n",
      " '61 years 218 days' '49 years 157 days' '67 years 120 days'\n",
      " '32 years 268 days' '65 years 41 days' '66 years 213 days'\n",
      " '62 years 281 days' '50 years 16 days' '34 years 111 days'\n",
      " '61 years 11 days' '77 years 353 days' '54 years 101 days'\n",
      " '51 years 32 days' '53 years 8 days' '78 years 253 days'\n",
      " '46 years 337 days' '52 years 244 days' '48 years 249 days'\n",
      " '51 years 205 days' '62 years 41 days' '58 years 20 days'\n",
      " '61 years 112 days' '66 years 111 days' '64 years 43 days'\n",
      " '56 years 114 days' '77 years 325 days' '85 years 65 days'\n",
      " '77 years 178 days' '63 years 121 days' '76 years 221 days']\n",
      "Primary_Diagnosis ['Oligodendroglioma, NOS' 'Mixed glioma' 'Astrocytoma, NOS'\n",
      " 'Astrocytoma, anaplastic' 'Oligodendroglioma, anaplastic' '--'\n",
      " 'Glioblastoma']\n",
      "Race ['white' 'asian' 'black or african american' '--' 'not reported'\n",
      " 'american indian or alaska native']\n",
      "IDH1 ['MUTATED' 'NOT_MUTATED']\n",
      "TP53 ['NOT_MUTATED' 'MUTATED']\n",
      "ATRX ['NOT_MUTATED' 'MUTATED']\n",
      "PTEN ['NOT_MUTATED' 'MUTATED']\n",
      "EGFR ['NOT_MUTATED' 'MUTATED']\n",
      "CIC ['NOT_MUTATED' 'MUTATED']\n",
      "MUC16 ['NOT_MUTATED' 'MUTATED']\n",
      "PIK3CA ['MUTATED' 'NOT_MUTATED']\n",
      "NF1 ['NOT_MUTATED' 'MUTATED']\n",
      "PIK3R1 ['NOT_MUTATED' 'MUTATED']\n",
      "FUBP1 ['MUTATED' 'NOT_MUTATED']\n",
      "RB1 ['NOT_MUTATED' 'MUTATED']\n",
      "NOTCH1 ['NOT_MUTATED' 'MUTATED']\n",
      "BCOR ['NOT_MUTATED' 'MUTATED']\n",
      "CSMD3 ['NOT_MUTATED' 'MUTATED']\n",
      "SMARCA4 ['NOT_MUTATED' 'MUTATED']\n",
      "GRIN2A ['NOT_MUTATED' 'MUTATED']\n",
      "IDH2 ['NOT_MUTATED' 'MUTATED']\n",
      "FAT4 ['NOT_MUTATED' 'MUTATED']\n",
      "PDGFRA ['NOT_MUTATED' 'MUTATED']\n"
     ]
    }
   ],
   "source": [
    "for i in df.columns:\n",
    "    print(i,df[i].unique())"
   ]
  },
  {
   "cell_type": "markdown",
   "metadata": {},
   "source": [
    "#### Dropping unnecessary columns"
   ]
  },
  {
   "cell_type": "code",
<<<<<<< HEAD
   "execution_count": 393,
=======
   "execution_count": 7,
>>>>>>> dc1afd1146a4ea237734a85a2e7caa43cce8c7e5
   "metadata": {},
   "outputs": [],
   "source": [
    "#Dropping columns Project and Case_ID, because they are insignificant and has no value in detecting tumors\n",
    "df_cleaned = df.drop(['Project','Case_ID'] ,  axis = 1)"
   ]
  },
  {
   "cell_type": "code",
<<<<<<< HEAD
   "execution_count": 394,
=======
   "execution_count": 8,
>>>>>>> dc1afd1146a4ea237734a85a2e7caa43cce8c7e5
   "metadata": {},
   "outputs": [
    {
     "data": {
      "text/html": [
       "<div>\n",
       "<style scoped>\n",
       "    .dataframe tbody tr th:only-of-type {\n",
       "        vertical-align: middle;\n",
       "    }\n",
       "\n",
       "    .dataframe tbody tr th {\n",
       "        vertical-align: top;\n",
       "    }\n",
       "\n",
       "    .dataframe thead th {\n",
       "        text-align: right;\n",
       "    }\n",
       "</style>\n",
       "<table border=\"1\" class=\"dataframe\">\n",
       "  <thead>\n",
       "    <tr style=\"text-align: right;\">\n",
       "      <th></th>\n",
       "      <th>Grade</th>\n",
       "      <th>Gender</th>\n",
       "      <th>Age_at_diagnosis</th>\n",
       "      <th>Primary_Diagnosis</th>\n",
       "      <th>Race</th>\n",
       "      <th>IDH1</th>\n",
       "      <th>TP53</th>\n",
       "      <th>ATRX</th>\n",
       "      <th>PTEN</th>\n",
       "      <th>EGFR</th>\n",
       "      <th>...</th>\n",
       "      <th>FUBP1</th>\n",
       "      <th>RB1</th>\n",
       "      <th>NOTCH1</th>\n",
       "      <th>BCOR</th>\n",
       "      <th>CSMD3</th>\n",
       "      <th>SMARCA4</th>\n",
       "      <th>GRIN2A</th>\n",
       "      <th>IDH2</th>\n",
       "      <th>FAT4</th>\n",
       "      <th>PDGFRA</th>\n",
       "    </tr>\n",
       "  </thead>\n",
       "  <tbody>\n",
       "    <tr>\n",
       "      <th>41</th>\n",
       "      <td>LGG</td>\n",
       "      <td>--</td>\n",
       "      <td>--</td>\n",
       "      <td>--</td>\n",
       "      <td>--</td>\n",
       "      <td>MUTATED</td>\n",
       "      <td>MUTATED</td>\n",
       "      <td>MUTATED</td>\n",
       "      <td>NOT_MUTATED</td>\n",
       "      <td>NOT_MUTATED</td>\n",
       "      <td>...</td>\n",
       "      <td>NOT_MUTATED</td>\n",
       "      <td>NOT_MUTATED</td>\n",
       "      <td>NOT_MUTATED</td>\n",
       "      <td>NOT_MUTATED</td>\n",
       "      <td>NOT_MUTATED</td>\n",
       "      <td>NOT_MUTATED</td>\n",
       "      <td>NOT_MUTATED</td>\n",
       "      <td>NOT_MUTATED</td>\n",
       "      <td>NOT_MUTATED</td>\n",
       "      <td>NOT_MUTATED</td>\n",
       "    </tr>\n",
       "    <tr>\n",
       "      <th>671</th>\n",
       "      <td>GBM</td>\n",
       "      <td>--</td>\n",
       "      <td>--</td>\n",
       "      <td>--</td>\n",
       "      <td>--</td>\n",
       "      <td>NOT_MUTATED</td>\n",
       "      <td>NOT_MUTATED</td>\n",
       "      <td>NOT_MUTATED</td>\n",
       "      <td>NOT_MUTATED</td>\n",
       "      <td>NOT_MUTATED</td>\n",
       "      <td>...</td>\n",
       "      <td>NOT_MUTATED</td>\n",
       "      <td>NOT_MUTATED</td>\n",
       "      <td>NOT_MUTATED</td>\n",
       "      <td>NOT_MUTATED</td>\n",
       "      <td>NOT_MUTATED</td>\n",
       "      <td>NOT_MUTATED</td>\n",
       "      <td>NOT_MUTATED</td>\n",
       "      <td>NOT_MUTATED</td>\n",
       "      <td>NOT_MUTATED</td>\n",
       "      <td>NOT_MUTATED</td>\n",
       "    </tr>\n",
       "    <tr>\n",
       "      <th>706</th>\n",
       "      <td>GBM</td>\n",
       "      <td>--</td>\n",
       "      <td>--</td>\n",
       "      <td>--</td>\n",
       "      <td>--</td>\n",
       "      <td>NOT_MUTATED</td>\n",
       "      <td>NOT_MUTATED</td>\n",
       "      <td>NOT_MUTATED</td>\n",
       "      <td>MUTATED</td>\n",
       "      <td>NOT_MUTATED</td>\n",
       "      <td>...</td>\n",
       "      <td>NOT_MUTATED</td>\n",
       "      <td>NOT_MUTATED</td>\n",
       "      <td>NOT_MUTATED</td>\n",
       "      <td>NOT_MUTATED</td>\n",
       "      <td>NOT_MUTATED</td>\n",
       "      <td>NOT_MUTATED</td>\n",
       "      <td>NOT_MUTATED</td>\n",
       "      <td>NOT_MUTATED</td>\n",
       "      <td>NOT_MUTATED</td>\n",
       "      <td>NOT_MUTATED</td>\n",
       "    </tr>\n",
       "    <tr>\n",
       "      <th>794</th>\n",
       "      <td>GBM</td>\n",
       "      <td>--</td>\n",
       "      <td>--</td>\n",
       "      <td>--</td>\n",
       "      <td>--</td>\n",
       "      <td>NOT_MUTATED</td>\n",
       "      <td>NOT_MUTATED</td>\n",
       "      <td>NOT_MUTATED</td>\n",
       "      <td>NOT_MUTATED</td>\n",
       "      <td>MUTATED</td>\n",
       "      <td>...</td>\n",
       "      <td>NOT_MUTATED</td>\n",
       "      <td>NOT_MUTATED</td>\n",
       "      <td>NOT_MUTATED</td>\n",
       "      <td>NOT_MUTATED</td>\n",
       "      <td>NOT_MUTATED</td>\n",
       "      <td>NOT_MUTATED</td>\n",
       "      <td>NOT_MUTATED</td>\n",
       "      <td>NOT_MUTATED</td>\n",
       "      <td>NOT_MUTATED</td>\n",
       "      <td>NOT_MUTATED</td>\n",
       "    </tr>\n",
       "  </tbody>\n",
       "</table>\n",
       "<p>4 rows × 25 columns</p>\n",
       "</div>"
      ],
      "text/plain": [
       "    Grade Gender Age_at_diagnosis Primary_Diagnosis Race         IDH1  \\\n",
       "41    LGG     --               --                --   --      MUTATED   \n",
       "671   GBM     --               --                --   --  NOT_MUTATED   \n",
       "706   GBM     --               --                --   --  NOT_MUTATED   \n",
       "794   GBM     --               --                --   --  NOT_MUTATED   \n",
       "\n",
       "            TP53         ATRX         PTEN         EGFR  ...        FUBP1  \\\n",
       "41       MUTATED      MUTATED  NOT_MUTATED  NOT_MUTATED  ...  NOT_MUTATED   \n",
       "671  NOT_MUTATED  NOT_MUTATED  NOT_MUTATED  NOT_MUTATED  ...  NOT_MUTATED   \n",
       "706  NOT_MUTATED  NOT_MUTATED      MUTATED  NOT_MUTATED  ...  NOT_MUTATED   \n",
       "794  NOT_MUTATED  NOT_MUTATED  NOT_MUTATED      MUTATED  ...  NOT_MUTATED   \n",
       "\n",
       "             RB1       NOTCH1         BCOR        CSMD3      SMARCA4  \\\n",
       "41   NOT_MUTATED  NOT_MUTATED  NOT_MUTATED  NOT_MUTATED  NOT_MUTATED   \n",
       "671  NOT_MUTATED  NOT_MUTATED  NOT_MUTATED  NOT_MUTATED  NOT_MUTATED   \n",
       "706  NOT_MUTATED  NOT_MUTATED  NOT_MUTATED  NOT_MUTATED  NOT_MUTATED   \n",
       "794  NOT_MUTATED  NOT_MUTATED  NOT_MUTATED  NOT_MUTATED  NOT_MUTATED   \n",
       "\n",
       "          GRIN2A         IDH2         FAT4       PDGFRA  \n",
       "41   NOT_MUTATED  NOT_MUTATED  NOT_MUTATED  NOT_MUTATED  \n",
       "671  NOT_MUTATED  NOT_MUTATED  NOT_MUTATED  NOT_MUTATED  \n",
       "706  NOT_MUTATED  NOT_MUTATED  NOT_MUTATED  NOT_MUTATED  \n",
       "794  NOT_MUTATED  NOT_MUTATED  NOT_MUTATED  NOT_MUTATED  \n",
       "\n",
       "[4 rows x 25 columns]"
      ]
     },
<<<<<<< HEAD
     "execution_count": 394,
=======
     "execution_count": 8,
>>>>>>> dc1afd1146a4ea237734a85a2e7caa43cce8c7e5
     "metadata": {},
     "output_type": "execute_result"
    }
   ],
   "source": [
    "#Found an issue in gender values\n",
    "df_cleaned[df_cleaned['Gender'] == \"--\"]"
   ]
  },
  {
   "cell_type": "code",
<<<<<<< HEAD
   "execution_count": 395,
=======
   "execution_count": 9,
   "metadata": {},
   "outputs": [
    {
     "data": {
      "text/plain": [
       "(862, 25)"
      ]
     },
     "execution_count": 9,
     "metadata": {},
     "output_type": "execute_result"
    }
   ],
   "source": [
    "df_cleaned.shape\n"
   ]
  },
  {
   "cell_type": "code",
   "execution_count": 10,
   "metadata": {},
   "outputs": [],
   "source": [
    "# Replacing '--' values with NA\n",
    "df_cleaned.replace('--', pd.NA, inplace=True) \n"
   ]
  },
  {
   "cell_type": "code",
   "execution_count": 11,
>>>>>>> dc1afd1146a4ea237734a85a2e7caa43cce8c7e5
   "metadata": {},
   "outputs": [
    {
     "data": {
      "text/plain": [
       "array(['Male', 'Female', <NA>], dtype=object)"
      ]
     },
<<<<<<< HEAD
     "execution_count": 395,
=======
     "execution_count": 11,
>>>>>>> dc1afd1146a4ea237734a85a2e7caa43cce8c7e5
     "metadata": {},
     "output_type": "execute_result"
    }
   ],
   "source": [
    "# Replacing '--' values with NA\n",
    "df_cleaned.replace('--', pd.NA, inplace=True) \n",
    "\n",
    "# Cross checking\n",
    "df_cleaned['Gender'].unique()"
   ]
  },
  {
   "cell_type": "code",
<<<<<<< HEAD
   "execution_count": 396,
=======
   "execution_count": 12,
   "metadata": {},
   "outputs": [],
   "source": [
    "df_cleaned.to_csv(\"abc.csv\")"
   ]
  },
  {
   "cell_type": "code",
   "execution_count": 13,
>>>>>>> dc1afd1146a4ea237734a85a2e7caa43cce8c7e5
   "metadata": {},
   "outputs": [
    {
     "name": "stdout",
     "output_type": "stream",
     "text": [
      "862\n",
      "857\n"
     ]
    },
    {
     "data": {
      "text/plain": [
       "array(['Male', 'Female'], dtype=object)"
      ]
     },
<<<<<<< HEAD
     "execution_count": 396,
=======
     "execution_count": 13,
>>>>>>> dc1afd1146a4ea237734a85a2e7caa43cce8c7e5
     "metadata": {},
     "output_type": "execute_result"
    }
   ],
   "source": [
    "#Dropping the entire row with '<NA>'  values\n",
    "df_cleaned = df_cleaned.dropna(axis=0, how='any')\n",
    "print(df.shape[0])\n",
    "print(df_cleaned.shape[0])\n",
    "\n",
    "# Cross check\n",
    "df_cleaned['Gender'].unique()\n",
    "\n"
   ]
  },
  {
   "cell_type": "markdown",
   "metadata": {},
   "source": [
    "#### Modifying Age feature values\n",
    "- From the format '76 years 200 days' to something like 76.55 , assuming the current year has 365 days - Formula : ( days/365 * 100)"
   ]
  },
  {
   "cell_type": "code",
<<<<<<< HEAD
   "execution_count": 397,
=======
   "execution_count": 14,
>>>>>>> dc1afd1146a4ea237734a85a2e7caa43cce8c7e5
   "metadata": {},
   "outputs": [
    {
     "data": {
      "text/plain": [
       "0      51.30\n",
       "1      38.72\n",
       "2      35.17\n",
       "3      32.78\n",
       "4      31.51\n",
       "       ...  \n",
       "857    77.89\n",
       "858    85.18\n",
       "859    77.49\n",
       "860    63.33\n",
       "861    76.61\n",
       "Name: Age_modified, Length: 857, dtype: float64"
      ]
     },
<<<<<<< HEAD
     "execution_count": 397,
=======
     "execution_count": 14,
>>>>>>> dc1afd1146a4ea237734a85a2e7caa43cce8c7e5
     "metadata": {},
     "output_type": "execute_result"
    }
   ],
   "source": [
    "#To get only years\n",
    "df_cleaned['only_years'] = df_cleaned['Age_at_diagnosis'].apply(lambda x: int(x.split()[0]))\n",
    "\n",
    "#To get only days and dividing it by 365 days to get a standarize decimal value value\n",
    "df_cleaned['only_days'] = df_cleaned['Age_at_diagnosis'].apply(lambda x: ((int(x.split()[2]) / 365)) if len(x.split()) > 2 else 0)\n",
    "\n",
    "#Concatenating age and days\n",
    "age_modified_values = df_cleaned['only_years'] + df_cleaned['only_days']\n",
    "\n",
    "#Inserting column 'Age_modified' to index 3\n",
    "df_cleaned.insert(loc =3, column = 'Age_modified', value = age_modified_values)\n",
    "\n",
    "#Rounding off to 2 decimal value\n",
    "df_cleaned['Age_modified'].round(2)"
   ]
  },
  {
   "cell_type": "code",
<<<<<<< HEAD
   "execution_count": 398,
=======
   "execution_count": 15,
>>>>>>> dc1afd1146a4ea237734a85a2e7caa43cce8c7e5
   "metadata": {},
   "outputs": [],
   "source": [
    "#Dropping unwanted columns now\n",
    "df_cleaned = df_cleaned.drop(['Age_at_diagnosis','only_years','only_days'], axis = 1)\n"
   ]
  },
  {
   "cell_type": "markdown",
   "metadata": {},
   "source": [
    "#### Converting certain column values to numerical values:\n",
    "---\n"
   ]
  },
  {
   "cell_type": "markdown",
   "metadata": {},
   "source": [
    "\n",
    "- Grade\n",
    "    - **LGG = 0**\n",
    "    - **GBM = 1**\n",
    "    \n",
    "---\n",
    "\n",
    "\n",
    "- Gender\n",
    "    - **Male = 0**\n",
    "    - **Female = 1**\n",
    "---\n",
    "- Primary_Diagnosis\n",
    "    - **\"Oligodendroglioma, NOS\" = 0**\n",
    "    - **\"Mixed glioma\" = 1**\n",
    "    - **\"Astrocytoma, NOS\" = 2**\n",
    "    - **\"Astrocytoma, anaplastic\"= 3**\n",
    "    - **\"Oligodendroglioma, anaplastic\" = 4**\n",
    "    - **\"Glioblastoma\"= 5**\n",
    "---\n",
    "- Race\n",
    "    - **\"white\" = 0**\n",
    "    - **\"asian\" = 1**\n",
    "    - **\"black or african american\" = 2**\n",
    "    - **\"not reported\"= 3**\n",
    "    - **\"american indian or alaska native\" = 4**\n"
   ]
  },
  {
   "cell_type": "code",
<<<<<<< HEAD
   "execution_count": 399,
=======
   "execution_count": 16,
>>>>>>> dc1afd1146a4ea237734a85a2e7caa43cce8c7e5
   "metadata": {},
   "outputs": [],
   "source": [
    "#for feature column Grade\n",
    "df_cleaned['Grade'] = pd.factorize(df_cleaned['Grade'])[0]\n",
    "\n",
    "#for feature column Gender\n",
    "df_cleaned['Gender'] = pd.factorize(df_cleaned['Gender'])[0]\n",
    "\n",
    "#for feature column Primary_Diagnosis\n",
    "df_cleaned['Primary_Diagnosis'] = pd.factorize(df_cleaned['Primary_Diagnosis'])[0]\n",
    "\n",
    "#for feature column Race\n",
    "df_cleaned['Race'] = pd.factorize(df_cleaned['Race'])[0]"
   ]
  },
  {
   "cell_type": "markdown",
   "metadata": {},
   "source": [
    "##### Converting rest 20 column feature values to numerical at once, because all of them have just two distinct values\n",
    "- **MUTATED = 0**\n",
    "- **NON_MUTATED = 1**\n",
    "\n",
    "**NOTE:** *Mutation or alteration is detected in the gene being analyzed. This alteration could be a change in the DNA sequence that might affect the gene's function or activity. Mutations in these genes are often associated with tumor development*"
   ]
  },
  {
   "cell_type": "code",
<<<<<<< HEAD
   "execution_count": 400,
=======
   "execution_count": 17,
>>>>>>> dc1afd1146a4ea237734a85a2e7caa43cce8c7e5
   "metadata": {},
   "outputs": [],
   "source": [
    "#Getting columns to replace\n",
    "columns_to_replace = df_cleaned.columns[5:]\n",
    "\n",
    "#Mapping\n",
    "replacement_mapping = {'MUTATED': 0, 'NOT_MUTATED': 1}\n",
    "\n",
    "#Maping to from each feature column\n",
    "for col in columns_to_replace:\n",
    "    df_cleaned[col] = df_cleaned[col].replace(replacement_mapping)\n"
   ]
  },
  {
   "cell_type": "code",
<<<<<<< HEAD
   "execution_count": 401,
   "metadata": {},
   "outputs": [],
   "source": [
    "#Backup\n",
    "df_cleaned.to_csv(\"abc.csv\")"
   ]
  },
  {
   "cell_type": "code",
   "execution_count": 402,
=======
   "execution_count": 18,
>>>>>>> dc1afd1146a4ea237734a85a2e7caa43cce8c7e5
   "metadata": {},
   "outputs": [
    {
     "data": {
      "text/plain": [
       "(857, 25)"
      ]
     },
<<<<<<< HEAD
     "execution_count": 402,
=======
     "execution_count": 18,
>>>>>>> dc1afd1146a4ea237734a85a2e7caa43cce8c7e5
     "metadata": {},
     "output_type": "execute_result"
    }
   ],
   "source": [
    "#Saving a set as a HOLD OUT data\n",
    "df_cleaned[-10:].to_excel(\"Hold out preprocessed data.xlsx\")\n",
    "df_cleaned.shape\n"
   ]
  },
  {
   "cell_type": "code",
<<<<<<< HEAD
   "execution_count": 403,
=======
   "execution_count": 19,
>>>>>>> dc1afd1146a4ea237734a85a2e7caa43cce8c7e5
   "metadata": {},
   "outputs": [],
   "source": [
    "#Saving all the remaining preprocessed data\n",
    "df_cleaned[:-10].to_excel(\"Preprocessed_data.xlsx\", index=False)\n"
   ]
  },
  {
   "cell_type": "markdown",
   "metadata": {},
   "source": [
    "### EDA Plots"
   ]
  },
  {
   "cell_type": "markdown",
   "metadata": {},
   "source": [
    "Gender & Grade"
   ]
  },
  {
   "cell_type": "code",
<<<<<<< HEAD
   "execution_count": 404,
   "metadata": {},
   "outputs": [
    {
     "data": {
      "image/png": "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",
      "text/plain": [
       "<Figure size 640x480 with 1 Axes>"
      ]
     },
     "metadata": {},
     "output_type": "display_data"
    }
   ],
   "source": [
    "df_cleaned.groupby(['Gender', 'Grade']).size().unstack().plot(kind='bar', stacked=True)\n",
    "plt.title('Distribution of Grade by Gender')\n",
    "plt.ylabel('Count')\n",
    "plt.show()\n"
   ]
  },
  {
   "cell_type": "markdown",
   "metadata": {},
   "source": [
    "Age & Grade  \n",
    "Below code reference https://queirozf.com/entries/pandas-dataframe-plot-examples-with-matplotlib-pyplot"
   ]
  },
  {
   "cell_type": "code",
   "execution_count": 405,
   "metadata": {},
   "outputs": [
    {
     "data": {
      "image/png": "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",
      "text/plain": [
       "<Figure size 640x480 with 1 Axes>"
      ]
     },
     "metadata": {},
     "output_type": "display_data"
    }
   ],
   "source": [
    "bins = [0, 10, 20, 30, 40, 50, 60, 70, 80, 90, 100]  \n",
    "labels = ['0-10', '10-20', '20-30', '30-40', '40-50', '50-60', '60-70', '70-80', '80-90', '90-100'] \n",
    "\n",
    "# Converts ages to group ranges\n",
    "df_cleaned['Age_group'] = pd.cut(df_cleaned['Age_modified'], bins=bins, labels=labels) \n",
    "\n",
    "\n",
    "# To get the count of rows for each combination of ‘Age_group’ and ‘Grade’.\n",
    "grouped_data = df_cleaned.groupby(['Age_group', 'Grade']).size().unstack()\n",
    "grouped_data.plot(kind='line', stacked=True)\n",
    "plt.title('Distribution of Grade by Age Group')\n",
    "plt.xlabel('Age Group')\n",
    "plt.ylabel('Count')\n",
    "plt.show()\n",
    "\n",
    "df_cleaned = df_cleaned.drop('Age_group', axis=1)"
   ]
  },
  {
   "cell_type": "markdown",
   "metadata": {},
   "source": [
    "## Spliting the data for Training, Testing and a Holdout set\n",
    "- 80 % for Training\n",
    "- 20 % for Testing\n",
    "- 100 samples for holdout (50 of each grade)"
   ]
  },
  {
   "cell_type": "code",
   "execution_count": 406,
   "metadata": {},
   "outputs": [
    {
     "data": {
      "text/plain": [
       "(857, 25)"
      ]
     },
     "execution_count": 406,
     "metadata": {},
     "output_type": "execute_result"
    }
   ],
   "source": [
    "df_cleaned.shape"
   ]
  },
  {
   "cell_type": "code",
   "execution_count": 407,
=======
   "execution_count": 20,
>>>>>>> dc1afd1146a4ea237734a85a2e7caa43cce8c7e5
   "metadata": {},
   "outputs": [
    {
     "name": "stdout",
     "output_type": "stream",
     "text": [
      "Grade\n",
      "0    50\n",
      "1    50\n",
      "Name: count, dtype: int64\n"
     ]
    }
   ],
   "source": [
    "# Extracting 50 samples of each grade\n",
    "Grade_0 = df_cleaned[df_cleaned['Grade'] == 0].sample(n=50, random_state=42)\n",
    "Grade_1 = df_cleaned[df_cleaned['Grade'] == 1].sample(n=50, random_state=42)\n",
    "\n",
    "# Concatenatiing both the dataframes\n",
    "holdout_set = pd.concat([Grade_0, Grade_1])\n",
    "# Cross check\n",
    "print(holdout_set['Grade'].value_counts())\n"
   ]
  },
  {
   "cell_type": "code",
   "execution_count": 408,
   "metadata": {},
   "outputs": [
    {
     "name": "stdout",
     "output_type": "stream",
     "text": [
      "X_train: (605, 24)\n",
      "X_test : (152, 24)\n",
      "y_train: (605,)\n",
      "y_test : (152,)\n"
     ]
    }
   ],
   "source": [
    "from sklearn.model_selection import train_test_split\n",
    "\n",
    "# Removing the holdout set samples from the original DataFrame\n",
    "df = df_cleaned.drop(holdout_set.index)\n",
    "\n",
    "#Extracting Target Variable\n",
    "y = df['Grade']\n",
    "\n",
    "#Extracting Features\n",
    "X = df.drop('Grade', axis = 1)\n",
    "\n",
    "#Splitting the dataset\n",
    "X_train, X_test, y_train, y_test = train_test_split(X,y, test_size= 0.2, random_state=313)\n",
    "\n",
    "\n",
    "print(\"X_train:\", X_train.shape)\n",
    "print(\"X_test :\", X_test.shape)\n",
    "print(\"y_train:\", y_train.shape)\n",
    "print(\"y_test :\", y_test.shape)"
   ]
  },
  {
   "cell_type": "markdown",
   "metadata": {},
   "source": [
    "## Model Selection"
   ]
  },
  {
   "cell_type": "markdown",
   "metadata": {},
   "source": [
    "### **Model 1 : Support Vector Machines (SVM)**"
   ]
  },
  {
   "cell_type": "markdown",
   "metadata": {},
   "source": [
    "NOTE : **We will use SVC, SVC in scikit-learn refers to the implementation of Support Vector Classification, allowing you to perform classification tasks using the SVM algorithm**"
   ]
  },
  {
   "cell_type": "markdown",
   "metadata": {},
   "source": [
    "#### **Parameter details (For personal understanding)**"
   ]
  },
  {
   "cell_type": "markdown",
   "metadata": {},
   "source": [
    "\n",
    "- C: Penalty parameter of the error term. It controls the trade-off between maximizing the margin and minimizing the classification error. Higher values of C can lead to overfitting, while lower values can lead to underfitting.\n",
    "\n",
    "- Kernel: Specifies the kernel type used in the algorithm. Common choices are 'linear', 'poly', 'rbf' (Gaussian), 'sigmoid', etc. The choice of kernel impacts the decision boundary's flexibility in capturing the non-linearity in the data.\n",
    "\n",
    "- Gamma: Parameter for non-linear kernels (e.g., 'rbf', 'poly'). It defines the influence of a single training sample, where lower values consider points further away, and higher values give more weight to nearby points. Higher gamma values can lead to overfitting.\n",
    "\n",
    "- Degree: For the 'poly' kernel, it represents the degree of the polynomial kernel function. Higher degrees can capture more complex relationships but can also lead to overfitting.\n",
    "\n",
    "- Class weights (class_weight): Useful for imbalanced datasets, it assigns different weights to different classes. It can be set to 'balanced' or a custom weight dictionary.\n",
    "\n",
    "- Decision Function Shape (decision_function_shape): For multi-class problems, it determines how the decision function is calculated. 'ovo' (one-vs-one) or 'ovr' (one-vs-rest) are common choices."
   ]
  },
  {
   "cell_type": "markdown",
   "metadata": {},
   "source": [
    "#### Tuning Kernel parameter "
   ]
  },
  {
   "cell_type": "markdown",
   "metadata": {},
   "source": [
    "**Kernel 1 : Linear**\n",
    "- *Pros: Computationally efficient, works well for linearly separable data.*\n",
    "- *Cons: Might not capture complex, nonlinear relationships present in genetic data.*"
   ]
  },
  {
   "cell_type": "code",
<<<<<<< HEAD
   "execution_count": 409,
=======
   "execution_count": 21,
>>>>>>> dc1afd1146a4ea237734a85a2e7caa43cce8c7e5
   "metadata": {},
   "outputs": [
    {
     "name": "stdout",
     "output_type": "stream",
     "text": [
      "[LibSVM]"
     ]
    },
    {
     "data": {
      "text/html": [
<<<<<<< HEAD
       "<style>#sk-container-id-3 {color: black;}#sk-container-id-3 pre{padding: 0;}#sk-container-id-3 div.sk-toggleable {background-color: white;}#sk-container-id-3 label.sk-toggleable__label {cursor: pointer;display: block;width: 100%;margin-bottom: 0;padding: 0.3em;box-sizing: border-box;text-align: center;}#sk-container-id-3 label.sk-toggleable__label-arrow:before {content: \"▸\";float: left;margin-right: 0.25em;color: #696969;}#sk-container-id-3 label.sk-toggleable__label-arrow:hover:before {color: black;}#sk-container-id-3 div.sk-estimator:hover label.sk-toggleable__label-arrow:before {color: black;}#sk-container-id-3 div.sk-toggleable__content {max-height: 0;max-width: 0;overflow: hidden;text-align: left;background-color: #f0f8ff;}#sk-container-id-3 div.sk-toggleable__content pre {margin: 0.2em;color: black;border-radius: 0.25em;background-color: #f0f8ff;}#sk-container-id-3 input.sk-toggleable__control:checked~div.sk-toggleable__content {max-height: 200px;max-width: 100%;overflow: auto;}#sk-container-id-3 input.sk-toggleable__control:checked~label.sk-toggleable__label-arrow:before {content: \"▾\";}#sk-container-id-3 div.sk-estimator input.sk-toggleable__control:checked~label.sk-toggleable__label {background-color: #d4ebff;}#sk-container-id-3 div.sk-label input.sk-toggleable__control:checked~label.sk-toggleable__label {background-color: #d4ebff;}#sk-container-id-3 input.sk-hidden--visually {border: 0;clip: rect(1px 1px 1px 1px);clip: rect(1px, 1px, 1px, 1px);height: 1px;margin: -1px;overflow: hidden;padding: 0;position: absolute;width: 1px;}#sk-container-id-3 div.sk-estimator {font-family: monospace;background-color: #f0f8ff;border: 1px dotted black;border-radius: 0.25em;box-sizing: border-box;margin-bottom: 0.5em;}#sk-container-id-3 div.sk-estimator:hover {background-color: #d4ebff;}#sk-container-id-3 div.sk-parallel-item::after {content: \"\";width: 100%;border-bottom: 1px solid gray;flex-grow: 1;}#sk-container-id-3 div.sk-label:hover label.sk-toggleable__label {background-color: #d4ebff;}#sk-container-id-3 div.sk-serial::before {content: \"\";position: absolute;border-left: 1px solid gray;box-sizing: border-box;top: 0;bottom: 0;left: 50%;z-index: 0;}#sk-container-id-3 div.sk-serial {display: flex;flex-direction: column;align-items: center;background-color: white;padding-right: 0.2em;padding-left: 0.2em;position: relative;}#sk-container-id-3 div.sk-item {position: relative;z-index: 1;}#sk-container-id-3 div.sk-parallel {display: flex;align-items: stretch;justify-content: center;background-color: white;position: relative;}#sk-container-id-3 div.sk-item::before, #sk-container-id-3 div.sk-parallel-item::before {content: \"\";position: absolute;border-left: 1px solid gray;box-sizing: border-box;top: 0;bottom: 0;left: 50%;z-index: -1;}#sk-container-id-3 div.sk-parallel-item {display: flex;flex-direction: column;z-index: 1;position: relative;background-color: white;}#sk-container-id-3 div.sk-parallel-item:first-child::after {align-self: flex-end;width: 50%;}#sk-container-id-3 div.sk-parallel-item:last-child::after {align-self: flex-start;width: 50%;}#sk-container-id-3 div.sk-parallel-item:only-child::after {width: 0;}#sk-container-id-3 div.sk-dashed-wrapped {border: 1px dashed gray;margin: 0 0.4em 0.5em 0.4em;box-sizing: border-box;padding-bottom: 0.4em;background-color: white;}#sk-container-id-3 div.sk-label label {font-family: monospace;font-weight: bold;display: inline-block;line-height: 1.2em;}#sk-container-id-3 div.sk-label-container {text-align: center;}#sk-container-id-3 div.sk-container {/* jupyter's `normalize.less` sets `[hidden] { display: none; }` but bootstrap.min.css set `[hidden] { display: none !important; }` so we also need the `!important` here to be able to override the default hidden behavior on the sphinx rendered scikit-learn.org. See: https://github.com/scikit-learn/scikit-learn/issues/21755 */display: inline-block !important;position: relative;}#sk-container-id-3 div.sk-text-repr-fallback {display: none;}</style><div id=\"sk-container-id-3\" class=\"sk-top-container\"><div class=\"sk-text-repr-fallback\"><pre>SVC(kernel=&#x27;linear&#x27;, random_state=313, verbose=True)</pre><b>In a Jupyter environment, please rerun this cell to show the HTML representation or trust the notebook. <br />On GitHub, the HTML representation is unable to render, please try loading this page with nbviewer.org.</b></div><div class=\"sk-container\" hidden><div class=\"sk-item\"><div class=\"sk-estimator sk-toggleable\"><input class=\"sk-toggleable__control sk-hidden--visually\" id=\"sk-estimator-id-3\" type=\"checkbox\" checked><label for=\"sk-estimator-id-3\" class=\"sk-toggleable__label sk-toggleable__label-arrow\">SVC</label><div class=\"sk-toggleable__content\"><pre>SVC(kernel=&#x27;linear&#x27;, random_state=313, verbose=True)</pre></div></div></div></div></div>"
=======
       "<style>#sk-container-id-1 {color: black;background-color: white;}#sk-container-id-1 pre{padding: 0;}#sk-container-id-1 div.sk-toggleable {background-color: white;}#sk-container-id-1 label.sk-toggleable__label {cursor: pointer;display: block;width: 100%;margin-bottom: 0;padding: 0.3em;box-sizing: border-box;text-align: center;}#sk-container-id-1 label.sk-toggleable__label-arrow:before {content: \"▸\";float: left;margin-right: 0.25em;color: #696969;}#sk-container-id-1 label.sk-toggleable__label-arrow:hover:before {color: black;}#sk-container-id-1 div.sk-estimator:hover label.sk-toggleable__label-arrow:before {color: black;}#sk-container-id-1 div.sk-toggleable__content {max-height: 0;max-width: 0;overflow: hidden;text-align: left;background-color: #f0f8ff;}#sk-container-id-1 div.sk-toggleable__content pre {margin: 0.2em;color: black;border-radius: 0.25em;background-color: #f0f8ff;}#sk-container-id-1 input.sk-toggleable__control:checked~div.sk-toggleable__content {max-height: 200px;max-width: 100%;overflow: auto;}#sk-container-id-1 input.sk-toggleable__control:checked~label.sk-toggleable__label-arrow:before {content: \"▾\";}#sk-container-id-1 div.sk-estimator input.sk-toggleable__control:checked~label.sk-toggleable__label {background-color: #d4ebff;}#sk-container-id-1 div.sk-label input.sk-toggleable__control:checked~label.sk-toggleable__label {background-color: #d4ebff;}#sk-container-id-1 input.sk-hidden--visually {border: 0;clip: rect(1px 1px 1px 1px);clip: rect(1px, 1px, 1px, 1px);height: 1px;margin: -1px;overflow: hidden;padding: 0;position: absolute;width: 1px;}#sk-container-id-1 div.sk-estimator {font-family: monospace;background-color: #f0f8ff;border: 1px dotted black;border-radius: 0.25em;box-sizing: border-box;margin-bottom: 0.5em;}#sk-container-id-1 div.sk-estimator:hover {background-color: #d4ebff;}#sk-container-id-1 div.sk-parallel-item::after {content: \"\";width: 100%;border-bottom: 1px solid gray;flex-grow: 1;}#sk-container-id-1 div.sk-label:hover label.sk-toggleable__label {background-color: #d4ebff;}#sk-container-id-1 div.sk-serial::before {content: \"\";position: absolute;border-left: 1px solid gray;box-sizing: border-box;top: 0;bottom: 0;left: 50%;z-index: 0;}#sk-container-id-1 div.sk-serial {display: flex;flex-direction: column;align-items: center;background-color: white;padding-right: 0.2em;padding-left: 0.2em;position: relative;}#sk-container-id-1 div.sk-item {position: relative;z-index: 1;}#sk-container-id-1 div.sk-parallel {display: flex;align-items: stretch;justify-content: center;background-color: white;position: relative;}#sk-container-id-1 div.sk-item::before, #sk-container-id-1 div.sk-parallel-item::before {content: \"\";position: absolute;border-left: 1px solid gray;box-sizing: border-box;top: 0;bottom: 0;left: 50%;z-index: -1;}#sk-container-id-1 div.sk-parallel-item {display: flex;flex-direction: column;z-index: 1;position: relative;background-color: white;}#sk-container-id-1 div.sk-parallel-item:first-child::after {align-self: flex-end;width: 50%;}#sk-container-id-1 div.sk-parallel-item:last-child::after {align-self: flex-start;width: 50%;}#sk-container-id-1 div.sk-parallel-item:only-child::after {width: 0;}#sk-container-id-1 div.sk-dashed-wrapped {border: 1px dashed gray;margin: 0 0.4em 0.5em 0.4em;box-sizing: border-box;padding-bottom: 0.4em;background-color: white;}#sk-container-id-1 div.sk-label label {font-family: monospace;font-weight: bold;display: inline-block;line-height: 1.2em;}#sk-container-id-1 div.sk-label-container {text-align: center;}#sk-container-id-1 div.sk-container {/* jupyter's `normalize.less` sets `[hidden] { display: none; }` but bootstrap.min.css set `[hidden] { display: none !important; }` so we also need the `!important` here to be able to override the default hidden behavior on the sphinx rendered scikit-learn.org. See: https://github.com/scikit-learn/scikit-learn/issues/21755 */display: inline-block !important;position: relative;}#sk-container-id-1 div.sk-text-repr-fallback {display: none;}</style><div id=\"sk-container-id-1\" class=\"sk-top-container\"><div class=\"sk-text-repr-fallback\"><pre>SVC(kernel=&#x27;linear&#x27;, random_state=313, verbose=True)</pre><b>In a Jupyter environment, please rerun this cell to show the HTML representation or trust the notebook. <br />On GitHub, the HTML representation is unable to render, please try loading this page with nbviewer.org.</b></div><div class=\"sk-container\" hidden><div class=\"sk-item\"><div class=\"sk-estimator sk-toggleable\"><input class=\"sk-toggleable__control sk-hidden--visually\" id=\"sk-estimator-id-1\" type=\"checkbox\" checked><label for=\"sk-estimator-id-1\" class=\"sk-toggleable__label sk-toggleable__label-arrow\">SVC</label><div class=\"sk-toggleable__content\"><pre>SVC(kernel=&#x27;linear&#x27;, random_state=313, verbose=True)</pre></div></div></div></div></div>"
>>>>>>> dc1afd1146a4ea237734a85a2e7caa43cce8c7e5
      ],
      "text/plain": [
       "SVC(kernel='linear', random_state=313, verbose=True)"
      ]
     },
<<<<<<< HEAD
     "execution_count": 409,
=======
     "execution_count": 21,
>>>>>>> dc1afd1146a4ea237734a85a2e7caa43cce8c7e5
     "metadata": {},
     "output_type": "execute_result"
    }
   ],
   "source": [
    "from sklearn import svm\n",
    "\n",
    "#Initializing SVM, Using a linear kernel should be a good starting point\n",
    "svm_classifier = svm.SVC(kernel = 'linear', random_state = 313,verbose=True)\n",
    "\n",
    "#Training the model\n",
    "svm_classifier.fit(X_train, y_train)"
   ]
  },
  {
   "cell_type": "code",
<<<<<<< HEAD
   "execution_count": 410,
=======
   "execution_count": 22,
>>>>>>> dc1afd1146a4ea237734a85a2e7caa43cce8c7e5
   "metadata": {},
   "outputs": [
    {
     "data": {
      "text/plain": [
       "1.0"
      ]
     },
<<<<<<< HEAD
     "execution_count": 410,
=======
     "execution_count": 22,
>>>>>>> dc1afd1146a4ea237734a85a2e7caa43cce8c7e5
     "metadata": {},
     "output_type": "execute_result"
    }
   ],
   "source": [
    "from sklearn.metrics import accuracy_score\n",
    "\n",
    "#To get accuracy score\n",
    "accuracy_score(y_test,svm_classifier.predict(X_test))"
   ]
  },
  {
   "cell_type": "markdown",
   "metadata": {},
   "source": [
    "Results: (100% accuracy)\n",
    "- It implies that the data is separable by a hyperplane in the given feature space. However, this is a bad sign, the model will struggle while testing on the unseen data.\n",
    "- So, it will not generalize well"
   ]
  },
  {
   "cell_type": "markdown",
   "metadata": {},
   "source": [
    "**Kernel 2 : Radial Function Bias (RBF)**"
   ]
  },
  {
   "cell_type": "code",
<<<<<<< HEAD
   "execution_count": 411,
=======
   "execution_count": 23,
>>>>>>> dc1afd1146a4ea237734a85a2e7caa43cce8c7e5
   "metadata": {},
   "outputs": [
    {
     "name": "stdout",
     "output_type": "stream",
     "text": [
      "[LibSVM]"
     ]
    },
    {
     "data": {
      "text/plain": [
       "0.8355263157894737"
      ]
     },
<<<<<<< HEAD
     "execution_count": 411,
=======
     "execution_count": 23,
>>>>>>> dc1afd1146a4ea237734a85a2e7caa43cce8c7e5
     "metadata": {},
     "output_type": "execute_result"
    }
   ],
   "source": [
    "#Initializing SVM, Using a linear kernel should be a good starting point\n",
    "svm_classifier = svm.SVC(C = 0.5,kernel='rbf', gamma='scale',verbose=True)\n",
    "\n",
    "#Training the model\n",
    "svm_classifier.fit(X_train, y_train)\n",
    "\n",
    "accuracy_score(y_test,svm_classifier.predict(X_test))"
   ]
  },
  {
   "cell_type": "markdown",
   "metadata": {},
   "source": [
    "Results: (89% accuracy)\n",
    "\n",
    "- The RBF kernel is more flexible and can capture non-linear decision boundaries by projecting the data into a higher-dimensional space.\n"
   ]
  },
  {
   "cell_type": "markdown",
   "metadata": {},
   "source": [
    "**Kernels conclusion**\n",
    "- The drop in accuracy from 100% to 89% with the RBF kernel is not necessarily a negative sign; it often signifies better generalization and a more realistic estimation of the model's performance on unseen data.\n",
    "- An accuracy of 89% with the RBF kernel might indicate a more realistic ,reliable performance and a better sign towards model's ability to generalize to new, unseen data."
   ]
  },
  {
   "cell_type": "markdown",
   "metadata": {},
   "source": [
    "#### Tuning `C` parameter\n",
    " - The C parameter in SVM controls the balance between achieving a larger margin and minimizing the training error. \n",
    " - Choosing the appropriate C value is essential to ensure the SVM model's ability to generalize well to new, unseen data without overfitting or underfitting.\n",
    "\n",
    " Note : A very large C value might cause overfitting, where the model learns the training data too well but fails to generalize to new data. On the other hand, a very small C value might result in underfitting, where the model is too simplistic and doesn't capture the complexities in the data."
   ]
  },
  {
   "cell_type": "markdown",
   "metadata": {},
   "source": [
    "Using Cross-Validation technique\n",
    "-  It splits the dataset into k consecutive folds (or subsets). \n",
    "- For each of the k folds, it trains the model on k-1 folds of the data and evaluates its accuracy on the remaining fold. \n",
    "- This process is repeated k times, with each fold used as a validation set exactly once."
   ]
  },
  {
   "cell_type": "code",
<<<<<<< HEAD
   "execution_count": 412,
=======
   "execution_count": 24,
>>>>>>> dc1afd1146a4ea237734a85a2e7caa43cce8c7e5
   "metadata": {},
   "outputs": [
    {
     "name": "stdout",
     "output_type": "stream",
     "text": [
<<<<<<< HEAD
      "[LibSVM][LibSVM][LibSVM][LibSVM][LibSVM][LibSVM][LibSVM][LibSVM][LibSVM][LibSVM][0.59016393 0.59016393 0.59016393 0.59016393 0.59016393 0.6\n",
      " 0.6        0.6        0.6        0.6       ]\n",
      "[LibSVM][LibSVM][LibSVM][LibSVM][LibSVM][LibSVM][LibSVM][LibSVM][LibSVM][LibSVM][0.59016393 0.59016393 0.59016393 0.59016393 0.59016393 0.6\n",
      " 0.6        0.6        0.6        0.6       ]\n",
      "[LibSVM][LibSVM][LibSVM][LibSVM][LibSVM][LibSVM][LibSVM][LibSVM][LibSVM][LibSVM][0.81967213 0.86885246 0.75409836 0.73770492 0.75409836 0.63333333\n",
      " 0.76666667 0.7        0.76666667 0.83333333]\n",
      "[LibSVM][LibSVM][LibSVM][LibSVM][LibSVM][LibSVM][LibSVM][LibSVM][LibSVM][LibSVM][0.83606557 0.90163934 0.78688525 0.80327869 0.7704918  0.66666667\n",
      " 0.81666667 0.76666667 0.83333333 0.9       ]\n",
      "[LibSVM][LibSVM][LibSVM][LibSVM][LibSVM][LibSVM][LibSVM][LibSVM][LibSVM][LibSVM][0.91803279 0.93442623 0.85245902 0.80327869 0.81967213 0.73333333\n",
      " 0.85       0.86666667 0.91666667 0.95      ]\n",
      "[LibSVM][LibSVM][LibSVM][LibSVM][LibSVM][LibSVM][LibSVM][LibSVM][LibSVM][LibSVM][0.98360656 1.         0.95081967 0.95081967 0.90163934 0.93333333\n",
      " 0.91666667 0.88333333 0.95       1.        ]\n",
      "[LibSVM][LibSVM][LibSVM][LibSVM][LibSVM][LibSVM][LibSVM][LibSVM][LibSVM][LibSVM][0.98360656 1.         0.98360656 0.98360656 0.98360656 0.98333333\n",
      " 0.96666667 0.95       1.         1.        ]\n",
=======
      "[LibSVM][LibSVM][LibSVM][LibSVM]"
     ]
    },
    {
     "name": "stdout",
     "output_type": "stream",
     "text": [
      "[LibSVM][LibSVM][LibSVM][LibSVM][LibSVM][LibSVM][0.58823529 0.58823529 0.58823529 0.58823529 0.60294118 0.60294118\n",
      " 0.60294118 0.59701493 0.59701493 0.59701493]\n",
      "[LibSVM][LibSVM][LibSVM][LibSVM][LibSVM][LibSVM][LibSVM][LibSVM][LibSVM][LibSVM][0.58823529 0.58823529 0.58823529 0.58823529 0.60294118 0.60294118\n",
      " 0.60294118 0.59701493 0.59701493 0.59701493]\n",
      "[LibSVM][LibSVM][LibSVM][LibSVM][LibSVM][LibSVM][LibSVM][LibSVM][LibSVM][LibSVM][0.80882353 0.77941176 0.75       0.70588235 0.79411765 0.79411765\n",
      " 0.77941176 0.65671642 0.74626866 0.76119403]\n",
      "[LibSVM][LibSVM][LibSVM][LibSVM][LibSVM][LibSVM][LibSVM][LibSVM][LibSVM][LibSVM][0.85294118 0.83823529 0.77941176 0.82352941 0.82352941 0.83823529\n",
      " 0.82352941 0.74626866 0.76119403 0.80597015]\n",
      "[LibSVM][LibSVM][LibSVM][LibSVM][LibSVM][LibSVM][LibSVM][LibSVM][LibSVM][LibSVM][0.91176471 0.88235294 0.80882353 0.88235294 0.91176471 0.86764706\n",
      " 0.88235294 0.79104478 0.8358209  0.88059701]\n",
      "[LibSVM][LibSVM][LibSVM][LibSVM][LibSVM][LibSVM][LibSVM][LibSVM][LibSVM][LibSVM][0.97058824 0.97058824 0.94117647 0.95588235 0.98529412 0.94117647\n",
      " 0.97058824 0.91044776 0.98507463 0.97014925]\n",
      "[LibSVM][LibSVM][LibSVM][LibSVM][LibSVM][LibSVM][LibSVM][LibSVM][LibSVM][LibSVM][1.         0.98529412 1.         0.97058824 0.98529412 1.\n",
      " 1.         0.95522388 0.98507463 1.        ]\n",
>>>>>>> dc1afd1146a4ea237734a85a2e7caa43cce8c7e5
      "[LibSVM][LibSVM][LibSVM][LibSVM][LibSVM][LibSVM][LibSVM][LibSVM][LibSVM][LibSVM][1. 1. 1. 1. 1. 1. 1. 1. 1. 1.]\n",
      "Best C value: 100\n"
     ]
    }
   ],
   "source": [
    "import numpy as np\n",
    "from sklearn.model_selection import cross_val_score\n",
    "from sklearn import svm\n",
    "\n",
    "\n",
    "# Set of C values to try\n",
    "C_values = [0.001,0.01, 0.1, 0.5, 1,5,10, 100]\n",
    "\n",
    "# Dictionary to store mean cross-validation scores for each C value\n",
    "mean_cv_scores = {}\n",
    "\n",
    "for C in C_values:\n",
    "    svm_classifier = svm.SVC(C = C,kernel='rbf', gamma='scale',verbose=True)\n",
    "\n",
    "    cv_scores = cross_val_score(svm_classifier, X_train, y_train, cv=10)  # 5-fold cross-validation\n",
    "    mean_cv_scores[C] = np.mean(cv_scores)\n",
    "    print(cv_scores)\n",
    "\n",
    "\n",
    "\n",
    "\n",
    "# Find the C value with the highest mean cross-validation score\n",
    "best_C = max(mean_cv_scores, key=mean_cv_scores.get)\n",
    "print(\"Best C value:\", best_C)"
   ]
  },
  {
   "cell_type": "code",
<<<<<<< HEAD
   "execution_count": 413,
=======
   "execution_count": 25,
>>>>>>> dc1afd1146a4ea237734a85a2e7caa43cce8c7e5
   "metadata": {},
   "outputs": [
    {
     "data": {
      "text/plain": [
       "{0.001: 0.5950819672131147,\n",
       " 0.01: 0.5950819672131147,\n",
       " 0.1: 0.7634426229508197,\n",
       " 0.5: 0.8081693989071038,\n",
       " 1: 0.8644535519125685,\n",
       " 5: 0.9470218579234972,\n",
       " 10: 0.9834426229508196,\n",
       " 100: 1.0}"
      ]
     },
<<<<<<< HEAD
     "execution_count": 413,
=======
     "execution_count": 25,
>>>>>>> dc1afd1146a4ea237734a85a2e7caa43cce8c7e5
     "metadata": {},
     "output_type": "execute_result"
    }
   ],
   "source": [
    "mean_cv_scores"
   ]
  },
  {
   "cell_type": "code",
<<<<<<< HEAD
   "execution_count": 414,
=======
   "execution_count": 26,
>>>>>>> dc1afd1146a4ea237734a85a2e7caa43cce8c7e5
   "metadata": {},
   "outputs": [
    {
     "data": {
<<<<<<< HEAD
      "image/png": "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",
=======
      "image/png": "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",
>>>>>>> dc1afd1146a4ea237734a85a2e7caa43cce8c7e5
      "text/plain": [
       "<Figure size 800x500 with 1 Axes>"
      ]
     },
     "metadata": {},
     "output_type": "display_data"
    }
   ],
   "source": [
    "# Plotting the bar chart\n",
    "import matplotlib.pyplot as plt\n",
    "\n",
    "\n",
    "plt.figure(figsize=(8, 5))\n",
    "plt.bar(range(len(mean_cv_scores)), mean_cv_scores.values(), align='center', alpha=0.7)\n",
    "plt.xticks(range(len(mean_cv_scores)), C_values)\n",
    "plt.xlabel('C Values')\n",
    "plt.ylabel('Accuracy')\n",
    "plt.title('Accuracy for Different C Values')\n",
    "plt.show()"
   ]
  },
  {
   "cell_type": "markdown",
   "metadata": {},
   "source": [
    "**C values conclusion**\n",
    "- `C` values: [0.01, 0.1, 0.5, 1, 10, 100]\n",
    "- Corresponding accuracies: [0.595, 0.753, 0.806, 0.855, 0.987, 1.0]\n",
    "\n",
    "Key points to consider from these results:\n",
    "\n",
    "1. **Effect of `C` on Accuracy:** As the `C` value increases from 0.01 to 100:\n",
    "   - The accuracy generally improves, indicating better performance as `C` increases.\n",
    "   - There's a trend of increasing accuracy with higher `C` values, indicating that a stronger penalty for misclassifications (higher `C`) leads to better performance in this scenario.\n",
    "----\n",
    "2. **Overfitting Possibility:** A sudden jump in accuracy from 0.855 at `C = 1` to 0.96 at `C = 5` raises a concern for potential overfitting\n",
    "----\n",
    "3. **High Accuracy at `C = 100`:** An accuracy of 100% at `C = 100`  suggest overfitting, \n"
   ]
  },
  {
   "cell_type": "markdown",
   "metadata": {},
   "source": [
    "### **Model 2 : Neural Network**"
   ]
  },
  {
   "cell_type": "markdown",
   "metadata": {},
   "source": [
    "#### Parameters"
   ]
  },
  {
   "cell_type": "code",
<<<<<<< HEAD
   "execution_count": 415,
=======
   "execution_count": 27,
>>>>>>> dc1afd1146a4ea237734a85a2e7caa43cce8c7e5
   "metadata": {},
   "outputs": [
    {
     "data": {
      "text/plain": [
       "(605, 24)"
      ]
     },
<<<<<<< HEAD
     "execution_count": 415,
=======
     "execution_count": 27,
>>>>>>> dc1afd1146a4ea237734a85a2e7caa43cce8c7e5
     "metadata": {},
     "output_type": "execute_result"
    }
   ],
   "source": [
    "X_train.shape"
   ]
  },
  {
   "cell_type": "code",
<<<<<<< HEAD
   "execution_count": 416,
=======
   "execution_count": 42,
>>>>>>> dc1afd1146a4ea237734a85a2e7caa43cce8c7e5
   "metadata": {},
   "outputs": [
    {
     "name": "stdout",
     "output_type": "stream",
     "text": [
<<<<<<< HEAD
      "Epoch 1/50\n",
      "19/19 [==============================] - 1s 3ms/step - loss: 3.0161 - accuracy: 0.5950\n",
      "Epoch 2/50\n",
      "19/19 [==============================] - 0s 3ms/step - loss: 0.9608 - accuracy: 0.4099\n",
      "Epoch 3/50\n",
      "19/19 [==============================] - 0s 3ms/step - loss: 0.7647 - accuracy: 0.4793\n",
      "Epoch 4/50\n",
      "19/19 [==============================] - 0s 3ms/step - loss: 0.7052 - accuracy: 0.5091\n",
      "Epoch 5/50\n",
      "19/19 [==============================] - 0s 3ms/step - loss: 0.6573 - accuracy: 0.6314\n",
      "Epoch 6/50\n",
      "19/19 [==============================] - 0s 2ms/step - loss: 0.6149 - accuracy: 0.7256\n",
      "Epoch 7/50\n",
      "19/19 [==============================] - 0s 3ms/step - loss: 0.5745 - accuracy: 0.8033\n",
      "Epoch 8/50\n",
      "19/19 [==============================] - 0s 3ms/step - loss: 0.5390 - accuracy: 0.8397\n",
      "Epoch 9/50\n",
      "19/19 [==============================] - 0s 3ms/step - loss: 0.5031 - accuracy: 0.8711\n",
      "Epoch 10/50\n",
      "19/19 [==============================] - 0s 3ms/step - loss: 0.4731 - accuracy: 0.8876\n",
      "Epoch 11/50\n",
      "19/19 [==============================] - 0s 3ms/step - loss: 0.4457 - accuracy: 0.8942\n",
      "Epoch 12/50\n",
      "19/19 [==============================] - 0s 3ms/step - loss: 0.4146 - accuracy: 0.9058\n",
      "Epoch 13/50\n",
      "19/19 [==============================] - 0s 3ms/step - loss: 0.3479 - accuracy: 0.9273\n",
      "Epoch 14/50\n",
      "19/19 [==============================] - 0s 3ms/step - loss: 0.3107 - accuracy: 0.9207\n",
      "Epoch 15/50\n",
      "19/19 [==============================] - 0s 3ms/step - loss: 0.2861 - accuracy: 0.9273\n",
      "Epoch 16/50\n",
      "19/19 [==============================] - 0s 3ms/step - loss: 0.2636 - accuracy: 0.9256\n",
      "Epoch 17/50\n",
      "19/19 [==============================] - 0s 3ms/step - loss: 0.2428 - accuracy: 0.9273\n",
      "Epoch 18/50\n",
      "19/19 [==============================] - 0s 2ms/step - loss: 0.2281 - accuracy: 0.9471\n",
      "Epoch 19/50\n",
      "19/19 [==============================] - 0s 3ms/step - loss: 0.2211 - accuracy: 0.9438\n",
      "Epoch 20/50\n",
      "19/19 [==============================] - 0s 2ms/step - loss: 0.2053 - accuracy: 0.9405\n",
      "Epoch 21/50\n",
      "19/19 [==============================] - 0s 2ms/step - loss: 0.1960 - accuracy: 0.9421\n",
      "Epoch 22/50\n",
      "19/19 [==============================] - 0s 2ms/step - loss: 0.1894 - accuracy: 0.9421\n",
      "Epoch 23/50\n",
      "19/19 [==============================] - 0s 2ms/step - loss: 0.1792 - accuracy: 0.9488\n",
      "Epoch 24/50\n",
      "19/19 [==============================] - 0s 3ms/step - loss: 0.1718 - accuracy: 0.9488\n",
      "Epoch 25/50\n",
      "19/19 [==============================] - 0s 3ms/step - loss: 0.1619 - accuracy: 0.9504\n",
      "Epoch 26/50\n",
      "19/19 [==============================] - 0s 3ms/step - loss: 0.1529 - accuracy: 0.9570\n",
      "Epoch 27/50\n",
      "19/19 [==============================] - 0s 3ms/step - loss: 0.1482 - accuracy: 0.9570\n",
      "Epoch 28/50\n",
      "19/19 [==============================] - 0s 3ms/step - loss: 0.1450 - accuracy: 0.9570\n",
      "Epoch 29/50\n",
      "19/19 [==============================] - 0s 5ms/step - loss: 0.1344 - accuracy: 0.9636\n",
      "Epoch 30/50\n",
      "19/19 [==============================] - 0s 3ms/step - loss: 0.1358 - accuracy: 0.9669\n",
      "Epoch 31/50\n",
      "19/19 [==============================] - 0s 3ms/step - loss: 0.1313 - accuracy: 0.9636\n",
      "Epoch 32/50\n",
      "19/19 [==============================] - 0s 3ms/step - loss: 0.1203 - accuracy: 0.9702\n",
      "Epoch 33/50\n",
      "19/19 [==============================] - 0s 3ms/step - loss: 0.1146 - accuracy: 0.9736\n",
      "Epoch 34/50\n",
      "19/19 [==============================] - 0s 3ms/step - loss: 0.1135 - accuracy: 0.9686\n",
      "Epoch 35/50\n",
      "19/19 [==============================] - 0s 3ms/step - loss: 0.1070 - accuracy: 0.9752\n",
      "Epoch 36/50\n",
      "19/19 [==============================] - 0s 3ms/step - loss: 0.1031 - accuracy: 0.9719\n",
      "Epoch 37/50\n",
      "19/19 [==============================] - 0s 3ms/step - loss: 0.0955 - accuracy: 0.9851\n",
      "Epoch 38/50\n",
      "19/19 [==============================] - 0s 3ms/step - loss: 0.0959 - accuracy: 0.9785\n",
      "Epoch 39/50\n",
      "19/19 [==============================] - 0s 3ms/step - loss: 0.0933 - accuracy: 0.9835\n",
      "Epoch 40/50\n",
      "19/19 [==============================] - 0s 3ms/step - loss: 0.0916 - accuracy: 0.9818\n",
      "Epoch 41/50\n",
      "19/19 [==============================] - 0s 3ms/step - loss: 0.0860 - accuracy: 0.9851\n",
      "Epoch 42/50\n",
      "19/19 [==============================] - 0s 3ms/step - loss: 0.0830 - accuracy: 0.9851\n",
      "Epoch 43/50\n",
      "19/19 [==============================] - 0s 3ms/step - loss: 0.0801 - accuracy: 0.9868\n",
      "Epoch 44/50\n",
      "19/19 [==============================] - 0s 3ms/step - loss: 0.0799 - accuracy: 0.9835\n",
      "Epoch 45/50\n",
      "19/19 [==============================] - 0s 3ms/step - loss: 0.0749 - accuracy: 0.9868\n",
      "Epoch 46/50\n"
     ]
    },
    {
     "name": "stdout",
     "output_type": "stream",
     "text": [
      "19/19 [==============================] - 0s 4ms/step - loss: 0.0732 - accuracy: 0.9851\n",
      "Epoch 47/50\n",
      "19/19 [==============================] - 0s 3ms/step - loss: 0.0705 - accuracy: 0.9884\n",
      "Epoch 48/50\n",
      "19/19 [==============================] - 0s 4ms/step - loss: 0.0695 - accuracy: 0.9835\n",
      "Epoch 49/50\n",
      "19/19 [==============================] - 0s 5ms/step - loss: 0.0660 - accuracy: 0.9851\n",
      "Epoch 50/50\n",
      "19/19 [==============================] - 0s 3ms/step - loss: 0.0686 - accuracy: 0.9884\n"
=======
      "Epoch 1/10\n",
      "22/22 [==============================] - 1s 2ms/step - loss: 0.8729 - accuracy: 0.5332\n",
      "Epoch 2/10\n",
      "22/22 [==============================] - 0s 2ms/step - loss: 0.5994 - accuracy: 0.7090\n",
      "Epoch 3/10\n",
      "22/22 [==============================] - 0s 2ms/step - loss: 0.4981 - accuracy: 0.8464\n",
      "Epoch 4/10\n",
      "22/22 [==============================] - 0s 2ms/step - loss: 0.4134 - accuracy: 0.9365\n",
      "Epoch 5/10\n",
      "22/22 [==============================] - 0s 2ms/step - loss: 0.3563 - accuracy: 0.9483\n",
      "Epoch 6/10\n",
      "22/22 [==============================] - 0s 2ms/step - loss: 0.3076 - accuracy: 0.9453\n",
      "Epoch 7/10\n",
      "22/22 [==============================] - 0s 2ms/step - loss: 0.2758 - accuracy: 0.9468\n",
      "Epoch 8/10\n",
      "22/22 [==============================] - 0s 3ms/step - loss: 0.2531 - accuracy: 0.9424\n",
      "Epoch 9/10\n",
      "22/22 [==============================] - 0s 2ms/step - loss: 0.2240 - accuracy: 0.9439\n",
      "Epoch 10/10\n",
      "22/22 [==============================] - 0s 2ms/step - loss: 0.2073 - accuracy: 0.9572\n"
>>>>>>> dc1afd1146a4ea237734a85a2e7caa43cce8c7e5
     ]
    },
    {
     "data": {
      "text/plain": [
<<<<<<< HEAD
       "<keras.src.callbacks.History at 0x23ea99a0210>"
      ]
     },
     "execution_count": 416,
=======
       "<keras.src.callbacks.History at 0x2312f20d4e0>"
      ]
     },
     "execution_count": 42,
>>>>>>> dc1afd1146a4ea237734a85a2e7caa43cce8c7e5
     "metadata": {},
     "output_type": "execute_result"
    }
   ],
   "source": [
    "from tensorflow.keras.models import Sequential\n",
    "from tensorflow.keras.layers import Dense, Activation\n",
    "from tensorflow.keras import regularizers\n",
    "\n",
    "model = Sequential()\n",
    "\n",
    "model.add(Dense(32,input_dim = X_train.shape[1], activation = 'relu'))\n",
    "model.add(Dense(16, activation = 'relu'))\n",
    "model.add(Dense(1,  activation = 'sigmoid'))\n",
    "\n",
    "model.compile(loss = \"binary_crossentropy\", optimizer= 'adam', metrics = ['accuracy'])\n",
    "\n",
    "# Train the model\n",
    "model.fit(X_train, y_train, epochs=50, batch_size=32, verbose=1, shuffle=True)\n"
   ]
  },
  {
   "cell_type": "code",
<<<<<<< HEAD
   "execution_count": 417,
=======
   "execution_count": 43,
>>>>>>> dc1afd1146a4ea237734a85a2e7caa43cce8c7e5
   "metadata": {},
   "outputs": [
    {
     "name": "stdout",
     "output_type": "stream",
     "text": [
<<<<<<< HEAD
      "5/5 [==============================] - 0s 3ms/step - loss: 0.0721 - accuracy: 0.9934\n",
      "Accuracy: 99.34\n"
=======
      "6/6 [==============================] - 0s 0s/step - loss: 0.1969 - accuracy: 0.9353\n",
      "Accuracy: 93.53\n"
>>>>>>> dc1afd1146a4ea237734a85a2e7caa43cce8c7e5
     ]
    }
   ],
   "source": [
    "# Evaluate the model\n",
    "abc, accuracy = model.evaluate(X_test, y_test)\n",
    "print('Accuracy: %.2f' % (accuracy*100))\n"
   ]
  },
  {
   "cell_type": "code",
<<<<<<< HEAD
   "execution_count": 418,
=======
   "execution_count": 41,
>>>>>>> dc1afd1146a4ea237734a85a2e7caa43cce8c7e5
   "metadata": {},
   "outputs": [
    {
     "name": "stdout",
     "output_type": "stream",
     "text": [
      "Epoch 1/10\n",
<<<<<<< HEAD
      " 1/19 [>.............................] - ETA: 0s - loss: 0.0818 - accuracy: 1.0000"
     ]
    },
    {
     "name": "stdout",
     "output_type": "stream",
     "text": [
      "19/19 [==============================] - 0s 9ms/step - loss: 0.0649 - accuracy: 0.9868 - val_loss: 0.0557 - val_accuracy: 0.9934\n",
      "Epoch 2/10\n",
      "19/19 [==============================] - 0s 5ms/step - loss: 0.0602 - accuracy: 0.9884 - val_loss: 0.0536 - val_accuracy: 0.9934\n",
      "Epoch 3/10\n",
      "19/19 [==============================] - 0s 5ms/step - loss: 0.0590 - accuracy: 0.9868 - val_loss: 0.0537 - val_accuracy: 0.9934\n",
      "Epoch 4/10\n",
      "19/19 [==============================] - 0s 5ms/step - loss: 0.0566 - accuracy: 0.9884 - val_loss: 0.0624 - val_accuracy: 0.9934\n",
      "Epoch 5/10\n",
      "19/19 [==============================] - 0s 5ms/step - loss: 0.0620 - accuracy: 0.9868 - val_loss: 0.0701 - val_accuracy: 0.9934\n",
      "Epoch 6/10\n",
      "19/19 [==============================] - 0s 5ms/step - loss: 0.0608 - accuracy: 0.9884 - val_loss: 0.0702 - val_accuracy: 0.9934\n",
      "Epoch 7/10\n",
      "19/19 [==============================] - 0s 5ms/step - loss: 0.0552 - accuracy: 0.9901 - val_loss: 0.0604 - val_accuracy: 0.9934\n",
      "Epoch 8/10\n",
      "19/19 [==============================] - 0s 4ms/step - loss: 0.0539 - accuracy: 0.9884 - val_loss: 0.0457 - val_accuracy: 0.9934\n",
      "Epoch 9/10\n",
      "19/19 [==============================] - 0s 4ms/step - loss: 0.0525 - accuracy: 0.9901 - val_loss: 0.0442 - val_accuracy: 0.9934\n",
      "Epoch 10/10\n",
      "19/19 [==============================] - 0s 5ms/step - loss: 0.0540 - accuracy: 0.9901 - val_loss: 0.0485 - val_accuracy: 0.9934\n"
=======
      "22/22 [==============================] - 0s 10ms/step - loss: 0.0206 - accuracy: 0.9956 - val_loss: 0.0282 - val_accuracy: 1.0000\n",
      "Epoch 2/10\n",
      "22/22 [==============================] - 0s 5ms/step - loss: 0.0181 - accuracy: 0.9985 - val_loss: 0.0217 - val_accuracy: 0.9941\n",
      "Epoch 3/10\n",
      "22/22 [==============================] - 0s 6ms/step - loss: 0.0166 - accuracy: 0.9970 - val_loss: 0.0238 - val_accuracy: 0.9941\n",
      "Epoch 4/10\n",
      "22/22 [==============================] - 0s 4ms/step - loss: 0.0162 - accuracy: 0.9970 - val_loss: 0.0246 - val_accuracy: 1.0000\n",
      "Epoch 5/10\n",
      "22/22 [==============================] - 0s 7ms/step - loss: 0.0184 - accuracy: 0.9985 - val_loss: 0.0226 - val_accuracy: 1.0000\n",
      "Epoch 6/10\n",
      "22/22 [==============================] - 0s 4ms/step - loss: 0.0163 - accuracy: 0.9970 - val_loss: 0.0215 - val_accuracy: 0.9941\n",
      "Epoch 7/10\n",
      "22/22 [==============================] - 0s 4ms/step - loss: 0.0153 - accuracy: 0.9970 - val_loss: 0.0241 - val_accuracy: 1.0000\n",
      "Epoch 8/10\n",
      "22/22 [==============================] - 0s 3ms/step - loss: 0.0152 - accuracy: 0.9970 - val_loss: 0.0211 - val_accuracy: 0.9941\n",
      "Epoch 9/10\n",
      "22/22 [==============================] - 0s 2ms/step - loss: 0.0151 - accuracy: 0.9985 - val_loss: 0.0211 - val_accuracy: 0.9941\n",
      "Epoch 10/10\n",
      "22/22 [==============================] - 0s 3ms/step - loss: 0.0157 - accuracy: 0.9985 - val_loss: 0.0212 - val_accuracy: 0.9941\n"
>>>>>>> dc1afd1146a4ea237734a85a2e7caa43cce8c7e5
     ]
    },
    {
     "data": {
<<<<<<< HEAD
      "image/png": "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",
=======
      "image/png": "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",
>>>>>>> dc1afd1146a4ea237734a85a2e7caa43cce8c7e5
      "text/plain": [
       "<Figure size 1000x500 with 2 Axes>"
      ]
     },
     "metadata": {},
     "output_type": "display_data"
    }
   ],
   "source": [
    "import matplotlib.pyplot as plt\n",
    "\n",
    "# Training the model and storing the history\n",
    "history = model.fit(X_train, y_train, epochs=10, batch_size=32, verbose=1, validation_data=(X_test, y_test))\n",
    "\n",
    "# Extracting accuracy and loss metrics from the history\n",
    "accuracy = history.history['accuracy']\n",
    "val_accuracy = history.history['val_accuracy']\n",
    "loss = history.history['loss']\n",
    "val_loss = history.history['val_loss']\n",
    "epochs = range(1, len(accuracy) + 1)\n",
    "\n",
    "# Plotting the training and validation accuracy\n",
    "plt.figure(figsize=(10, 5))\n",
    "plt.subplot(1, 2, 1)\n",
    "plt.plot(epochs, accuracy, 'b', label='Training Accuracy')\n",
    "plt.plot(epochs, val_accuracy, 'r', label='Validation Accuracy')\n",
    "plt.title('Training and Validation Accuracy')\n",
    "plt.xlabel('Epochs')\n",
    "plt.ylabel('Accuracy')\n",
    "plt.legend()\n",
    "\n",
    "# Plotting the training and validation loss\n",
    "plt.subplot(1, 2, 2)\n",
    "plt.plot(epochs, loss, 'b', label='Training Loss')\n",
    "plt.plot(epochs, val_loss, 'r', label='Validation Loss')\n",
    "plt.title('Training and Validation Loss')\n",
    "plt.xlabel('Epochs')\n",
    "plt.ylabel('Loss')\n",
    "plt.legend()\n",
    "\n",
    "plt.tight_layout()\n",
    "plt.show()\n"
   ]
  },
  {
   "cell_type": "code",
<<<<<<< HEAD
   "execution_count": 419,
=======
   "execution_count": 31,
>>>>>>> dc1afd1146a4ea237734a85a2e7caa43cce8c7e5
   "metadata": {},
   "outputs": [
    {
     "name": "stdout",
     "output_type": "stream",
     "text": [
<<<<<<< HEAD
      "5/5 [==============================] - 0s 2ms/step\n"
=======
      "6/6 [==============================] - 0s 3ms/step\n"
>>>>>>> dc1afd1146a4ea237734a85a2e7caa43cce8c7e5
     ]
    },
    {
     "data": {
      "text/plain": [
       "array([[ True],\n",
<<<<<<< HEAD
       "       [ True],\n",
=======
       "       [False],\n",
       "       [False],\n",
       "       [False],\n",
>>>>>>> dc1afd1146a4ea237734a85a2e7caa43cce8c7e5
       "       [False],\n",
       "       [ True],\n",
       "       [ True],\n",
       "       [ True],\n",
<<<<<<< HEAD
=======
       "       [ True],\n",
>>>>>>> dc1afd1146a4ea237734a85a2e7caa43cce8c7e5
       "       [False],\n",
       "       [False],\n",
       "       [ True],\n",
       "       [False],\n",
       "       [ True],\n",
       "       [False],\n",
       "       [False],\n",
       "       [False],\n",
       "       [False],\n",
       "       [ True],\n",
<<<<<<< HEAD
       "       [False],\n",
       "       [ True],\n",
       "       [ True],\n",
=======
       "       [ True],\n",
       "       [False],\n",
       "       [False],\n",
>>>>>>> dc1afd1146a4ea237734a85a2e7caa43cce8c7e5
       "       [ True],\n",
       "       [False],\n",
       "       [ True],\n",
       "       [ True],\n",
       "       [False],\n",
       "       [ True],\n",
       "       [False],\n",
       "       [ True],\n",
       "       [ True],\n",
       "       [False],\n",
       "       [ True],\n",
       "       [False],\n",
       "       [ True],\n",
       "       [False],\n",
       "       [ True],\n",
       "       [ True],\n",
       "       [False],\n",
       "       [ True],\n",
       "       [ True],\n",
       "       [False],\n",
       "       [False],\n",
       "       [False],\n",
       "       [False],\n",
       "       [False],\n",
       "       [False],\n",
       "       [False],\n",
       "       [False],\n",
       "       [False],\n",
       "       [False],\n",
       "       [ True],\n",
       "       [False],\n",
       "       [ True],\n",
       "       [ True],\n",
       "       [False],\n",
       "       [False],\n",
       "       [ True],\n",
       "       [False],\n",
       "       [ True],\n",
       "       [False],\n",
       "       [False],\n",
       "       [False],\n",
       "       [ True],\n",
       "       [ True],\n",
<<<<<<< HEAD
=======
       "       [ True],\n",
       "       [False],\n",
>>>>>>> dc1afd1146a4ea237734a85a2e7caa43cce8c7e5
       "       [ True],\n",
       "       [ True],\n",
       "       [False],\n",
       "       [False],\n",
       "       [False],\n",
       "       [ True],\n",
       "       [False],\n",
       "       [False],\n",
       "       [ True],\n",
       "       [False],\n",
       "       [ True],\n",
       "       [False],\n",
       "       [ True],\n",
       "       [False],\n",
       "       [ True],\n",
       "       [False],\n",
<<<<<<< HEAD
       "       [False],\n",
       "       [False],\n",
       "       [ True],\n",
       "       [ True],\n",
       "       [ True],\n",
=======
>>>>>>> dc1afd1146a4ea237734a85a2e7caa43cce8c7e5
       "       [False],\n",
       "       [False],\n",
<<<<<<< HEAD
=======
       "       [False],\n",
       "       [False],\n",
       "       [False],\n",
       "       [ True],\n",
       "       [ True],\n",
>>>>>>> dc1afd1146a4ea237734a85a2e7caa43cce8c7e5
       "       [False],\n",
       "       [ True],\n",
       "       [False],\n",
       "       [False],\n",
       "       [False],\n",
       "       [False],\n",
       "       [False],\n",
       "       [ True],\n",
       "       [ True],\n",
       "       [False],\n",
       "       [ True],\n",
       "       [ True],\n",
       "       [False],\n",
       "       [False],\n",
       "       [False],\n",
       "       [ True],\n",
       "       [ True],\n",
       "       [False],\n",
       "       [False],\n",
       "       [False],\n",
       "       [ True],\n",
       "       [False],\n",
       "       [False],\n",
       "       [ True],\n",
       "       [False],\n",
       "       [False],\n",
       "       [False],\n",
<<<<<<< HEAD
       "       [False],\n",
=======
       "       [ True],\n",
       "       [ True],\n",
       "       [ True],\n",
       "       [ True],\n",
       "       [ True],\n",
>>>>>>> dc1afd1146a4ea237734a85a2e7caa43cce8c7e5
       "       [False],\n",
       "       [False],\n",
       "       [False],\n",
       "       [ True],\n",
       "       [False],\n",
       "       [False],\n",
       "       [ True],\n",
       "       [False],\n",
       "       [ True],\n",
       "       [False],\n",
       "       [False],\n",
       "       [False],\n",
       "       [False],\n",
       "       [False],\n",
       "       [False],\n",
       "       [ True],\n",
       "       [False],\n",
       "       [False],\n",
<<<<<<< HEAD
       "       [ True],\n",
=======
>>>>>>> dc1afd1146a4ea237734a85a2e7caa43cce8c7e5
       "       [ True],\n",
       "       [ True],\n",
       "       [False],\n",
       "       [ True],\n",
       "       [ True],\n",
       "       [ True],\n",
       "       [False],\n",
       "       [False],\n",
       "       [ True],\n",
       "       [ True],\n",
       "       [False],\n",
       "       [ True],\n",
       "       [False],\n",
       "       [ True],\n",
       "       [False],\n",
       "       [False],\n",
       "       [False],\n",
       "       [False],\n",
       "       [ True],\n",
       "       [False],\n",
<<<<<<< HEAD
       "       [ True],\n",
=======
       "       [False],\n",
>>>>>>> dc1afd1146a4ea237734a85a2e7caa43cce8c7e5
       "       [False],\n",
       "       [False]])"
      ]
     },
<<<<<<< HEAD
     "execution_count": 419,
=======
     "execution_count": 31,
>>>>>>> dc1afd1146a4ea237734a85a2e7caa43cce8c7e5
     "metadata": {},
     "output_type": "execute_result"
    }
   ],
   "source": [
    "model.predict(X_test)>0.5"
   ]
  },
  {
   "cell_type": "code",
<<<<<<< HEAD
   "execution_count": 420,
=======
   "execution_count": 32,
>>>>>>> dc1afd1146a4ea237734a85a2e7caa43cce8c7e5
   "metadata": {},
   "outputs": [
    {
     "name": "stdout",
     "output_type": "stream",
     "text": [
<<<<<<< HEAD
      "Epoch 1/10\n"
     ]
    },
    {
     "name": "stdout",
     "output_type": "stream",
     "text": [
      "19/19 [==============================] - 1s 2ms/step - loss: 2.1591 - accuracy: 0.5736\n",
      "Epoch 2/10\n",
      "19/19 [==============================] - 0s 2ms/step - loss: 0.8427 - accuracy: 0.4248\n",
      "Epoch 3/10\n",
      "19/19 [==============================] - 0s 3ms/step - loss: 0.7558 - accuracy: 0.4711\n",
      "Epoch 4/10\n",
      "19/19 [==============================] - 0s 3ms/step - loss: 0.6875 - accuracy: 0.5620\n",
      "Epoch 5/10\n",
      "19/19 [==============================] - 0s 3ms/step - loss: 0.6263 - accuracy: 0.6496\n",
      "Epoch 6/10\n",
      "19/19 [==============================] - 0s 3ms/step - loss: 0.5682 - accuracy: 0.7471\n",
      "Epoch 7/10\n",
      "19/19 [==============================] - 0s 3ms/step - loss: 0.5130 - accuracy: 0.8050\n",
      "Epoch 8/10\n",
      "19/19 [==============================] - 0s 3ms/step - loss: 0.4718 - accuracy: 0.8331\n",
      "Epoch 9/10\n",
      "19/19 [==============================] - 0s 5ms/step - loss: 0.4089 - accuracy: 0.8826\n",
      "Epoch 10/10\n",
      "19/19 [==============================] - 0s 2ms/step - loss: 0.3467 - accuracy: 0.9438\n",
      "5/5 [==============================] - 0s 3ms/step - loss: 0.3200 - accuracy: 0.9737\n",
      "Accuracy: 97.37\n"
=======
      "Epoch 1/10\n",
      "22/22 [==============================] - 1s 1ms/step - loss: 0.6485 - accuracy: 0.6425\n",
      "Epoch 2/10\n",
      "22/22 [==============================] - 0s 1ms/step - loss: 0.6159 - accuracy: 0.7238\n",
      "Epoch 3/10\n",
      "22/22 [==============================] - 0s 2ms/step - loss: 0.5637 - accuracy: 0.8626\n",
      "Epoch 4/10\n",
      "22/22 [==============================] - 0s 2ms/step - loss: 0.5251 - accuracy: 0.8936\n",
      "Epoch 5/10\n",
      "22/22 [==============================] - 0s 1ms/step - loss: 0.4810 - accuracy: 0.8907\n",
      "Epoch 6/10\n",
      "22/22 [==============================] - 0s 1ms/step - loss: 0.4360 - accuracy: 0.9143\n",
      "Epoch 7/10\n",
      "22/22 [==============================] - 0s 1ms/step - loss: 0.3972 - accuracy: 0.9129\n",
      "Epoch 8/10\n",
      "22/22 [==============================] - 0s 1ms/step - loss: 0.3528 - accuracy: 0.9335\n",
      "Epoch 9/10\n",
      "22/22 [==============================] - 0s 2ms/step - loss: 0.3100 - accuracy: 0.9572\n",
      "Epoch 10/10\n",
      "22/22 [==============================] - 0s 2ms/step - loss: 0.2804 - accuracy: 0.9350\n",
      "6/6 [==============================] - 0s 4ms/step - loss: 0.2655 - accuracy: 0.9824\n",
      "Accuracy: 98.24\n"
>>>>>>> dc1afd1146a4ea237734a85a2e7caa43cce8c7e5
     ]
    }
   ],
   "source": [
    "from keras.models import Sequential\n",
    "from keras.layers import Dense\n",
    "\n",
    "# Define the model\n",
    "model = Sequential()\n",
    "model.add(Dense(32, input_dim=X_train.shape[1], activation='relu'))  # Layer 1\n",
    "model.add(Dense(16, activation='relu'))  # Layer 2\n",
    "model.add(Dense(1, activation='sigmoid'))  # Output layer\n",
    "\n",
    "# Compile the model\n",
    "model.compile(loss='binary_crossentropy', optimizer='adam', metrics=['accuracy'])\n",
    "\n",
    "# Train the model\n",
    "model.fit(X_train, y_train, epochs=10, batch_size=32, verbose=1)\n",
    "\n",
    "# Evaluate the model\n",
    "_, accuracy = model.evaluate(X_test, y_test)\n",
    "print('Accuracy: %.2f' % (accuracy*100))\n"
   ]
  },
  {
   "cell_type": "code",
<<<<<<< HEAD
   "execution_count": 421,
=======
   "execution_count": 33,
>>>>>>> dc1afd1146a4ea237734a85a2e7caa43cce8c7e5
   "metadata": {},
   "outputs": [],
   "source": [
    "from keras import Sequential\n",
    "\n",
    "\n"
   ]
  },
  {
   "cell_type": "code",
<<<<<<< HEAD
   "execution_count": 422,
=======
   "execution_count": 34,
>>>>>>> dc1afd1146a4ea237734a85a2e7caa43cce8c7e5
   "metadata": {},
   "outputs": [
    {
     "data": {
      "text/plain": [
       "(605, 24)"
      ]
     },
<<<<<<< HEAD
     "execution_count": 422,
=======
     "execution_count": 34,
>>>>>>> dc1afd1146a4ea237734a85a2e7caa43cce8c7e5
     "metadata": {},
     "output_type": "execute_result"
    }
   ],
   "source": [
    "X_train.shape"
   ]
  },
  {
   "cell_type": "code",
   "execution_count": null,
   "metadata": {},
   "outputs": [],
   "source": []
  },
  {
   "cell_type": "code",
   "execution_count": null,
   "metadata": {},
   "outputs": [],
   "source": []
  },
  {
   "cell_type": "code",
   "execution_count": null,
   "metadata": {},
   "outputs": [],
   "source": []
  },
  {
   "cell_type": "code",
   "execution_count": null,
   "metadata": {},
   "outputs": [],
   "source": []
  },
  {
   "cell_type": "code",
   "execution_count": null,
   "metadata": {},
   "outputs": [],
   "source": []
  },
  {
   "cell_type": "markdown",
   "metadata": {},
   "source": [
    "### **Model 2 : Random Forest**\n",
    "\n",
    "Pros: Effective for a wide range of tasks, handles complex interactions, and is less prone to overfitting compared to individual decision trees.\n",
    "\n",
    "Suitability: Suitable for classification and regression tasks, especially when there's a need to capture complex relationships in the data and data is small to medium sized\n"
   ]
  },
  {
   "cell_type": "markdown",
   "metadata": {},
   "source": [
    "**Parameters**\n",
    "**Number of Trees (n_estimators):** It determines the number of trees in the forest. Higher numbers usually reduce overfitting but increase computation time.\n",
    "\n",
    "**Criterion:** It defines the function to measure the quality of a split. The default is usually 'gini' for Gini impurity or 'entropy' for information gain.\n",
    "\n",
    "**Max Depth (max_depth):** The maximum depth of each tree. A deeper tree can model more complex relationships but can lead to overfitting.\n",
    "\n",
    "**Min Samples Split:** The minimum number of samples required to split a node. Higher values prevent overfitting.\n",
    "\n",
    "**Min Samples Leaf:** The minimum number of samples required to be at a leaf node. Higher values reduce overfitting.\n",
    "\n",
    "**Max Features:** It determines the maximum number of features considered for splitting a node. 'sqrt' or 'auto' typically use the square root of the number of features, while 'log2' uses the **logarithm of the number of features.\n",
    "\n",
    "**Bootstrap:** It determines whether the trees are built with bootstrapped samples. Setting it to 'False' will use the whole dataset, potentially reducing randomness but increasing bias.\n",
    "\n",
    "**Random State:** It ensures reproducibility by setting a seed for random number generation."
   ]
  },
  {
   "cell_type": "code",
<<<<<<< HEAD
   "execution_count": 423,
=======
   "execution_count": 35,
>>>>>>> dc1afd1146a4ea237734a85a2e7caa43cce8c7e5
   "metadata": {},
   "outputs": [
    {
     "data": {
      "text/plain": [
       "array([1, 1, 0, 1, 1, 1, 0, 0, 1, 0, 1, 0, 0, 1, 0, 1, 1, 1, 0, 1, 1, 0,\n",
       "       1, 0, 1, 1, 0, 1, 0, 1, 0, 1, 1, 0, 1, 1, 0, 0, 0, 0, 0, 0, 0, 0,\n",
       "       1, 0, 1, 0, 1, 1, 0, 0, 1, 0, 1, 0, 0, 1, 1, 1, 1, 0, 0, 0, 1, 0,\n",
       "       0, 1, 0, 1, 0, 1, 0, 1, 0, 0, 0, 1, 1, 0, 0, 0, 0, 1, 0, 0, 0, 0,\n",
       "       0, 1, 1, 0, 1, 1, 0, 0, 0, 1, 1, 0, 0, 0, 1, 0, 0, 1, 0, 0, 0, 0,\n",
       "       0, 0, 0, 1, 0, 0, 1, 1, 1, 0, 0, 0, 0, 0, 0, 1, 0, 0, 1, 1, 1, 0,\n",
       "       1, 1, 1, 0, 0, 1, 1, 0, 1, 0, 1, 0, 0, 0, 0, 1, 0, 1, 0, 0],\n",
       "      dtype=int64)"
      ]
     },
<<<<<<< HEAD
     "execution_count": 423,
=======
     "execution_count": 35,
>>>>>>> dc1afd1146a4ea237734a85a2e7caa43cce8c7e5
     "metadata": {},
     "output_type": "execute_result"
    }
   ],
   "source": [
    "from sklearn.ensemble import RandomForestClassifier as rlf\n",
    "\n",
    "#Initializing random forest classifier\n",
    "rf_classifier = rlf(n_estimators=100,random_state=313)\n",
    "\n",
    "#Training the model\n",
    "rf_classifier.fit(X_train,y_train)\n",
    "\n",
    "#Predicting on test data\n",
    "rf_classifier.predict(X_test)\n"
   ]
  },
  {
   "cell_type": "code",
<<<<<<< HEAD
   "execution_count": 424,
=======
   "execution_count": 36,
>>>>>>> dc1afd1146a4ea237734a85a2e7caa43cce8c7e5
   "metadata": {},
   "outputs": [
    {
     "data": {
      "text/plain": [
       "1.0"
      ]
     },
<<<<<<< HEAD
     "execution_count": 424,
=======
     "execution_count": 36,
>>>>>>> dc1afd1146a4ea237734a85a2e7caa43cce8c7e5
     "metadata": {},
     "output_type": "execute_result"
    }
   ],
   "source": [
    "accuracy_score(y_test, rf_classifier.predict(X_test))"
   ]
  },
  {
   "cell_type": "code",
<<<<<<< HEAD
   "execution_count": 425,
=======
   "execution_count": 37,
>>>>>>> dc1afd1146a4ea237734a85a2e7caa43cce8c7e5
   "metadata": {},
   "outputs": [
    {
     "name": "stdout",
     "output_type": "stream",
     "text": [
      "1.0\n"
     ]
    },
    {
     "name": "stdout",
     "output_type": "stream",
     "text": [
      "1.0\n",
      "1.0\n",
      "1.0\n",
      "1.0\n",
      "1.0\n",
      "1.0\n",
      "1.0\n",
      "1.0\n",
      "1.0\n",
      "1.0\n",
      "1.0\n",
      "1.0\n",
      "1.0\n",
      "1.0\n",
      "1.0\n",
      "1.0\n",
      "1.0\n",
      "1.0\n",
      "1.0\n",
      "1.0\n",
      "1.0\n",
      "1.0\n",
      "1.0\n",
      "1.0\n",
      "1.0\n",
      "1.0\n",
      "Best Parameters: {'n_estimators': 50, 'max_depth': None, 'min_samples_split': 2}\n",
      "Best Accuracy: 1.0\n"
     ]
    }
   ],
   "source": [
    "from sklearn.model_selection import cross_val_score\n",
    "\n",
    "# Define the parameter values to try\n",
    "n_estimators_values = [50, 100, 150]\n",
    "max_depth_values = [None, 10, 20]\n",
    "min_samples_split_values = [2, 5, 10]\n",
    "\n",
    "# Initializing a variable to store the best accuracy and parameters\n",
    "best_accuracy = 0\n",
    "best_params = {}\n",
    "\n",
    "# Looping through different parameter combinations\n",
    "for n_estimators in n_estimators_values:\n",
    "    for max_depth in max_depth_values:\n",
    "        for min_samples_split in min_samples_split_values:\n",
    "\n",
    "            # Rlf model with current parameters\n",
    "            rf = rlf(n_estimators=n_estimators,\n",
    "                                        max_depth=max_depth,\n",
    "                                        min_samples_split=min_samples_split,\n",
    "                                        random_state=42)\n",
    "            \n",
    "            # 5- fold cross validation and storing their mean\n",
    "            accuracies = cross_val_score(rf, X_train, y_train, cv=5)\n",
    "            mean_accuracy = accuracies.mean()\n",
    "\n",
    "            print(mean_accuracy)\n",
    "            \n",
    "            # Check if current parameters give better accuracy\n",
    "            if mean_accuracy > best_accuracy:\n",
    "                best_accuracy = mean_accuracy\n",
    "                best_params = {'n_estimators': n_estimators,\n",
    "                               'max_depth': max_depth,\n",
    "                               'min_samples_split': min_samples_split}\n",
    "\n",
    "# Print the best parameters and accuracy\n",
    "print(\"Best Parameters:\", best_params)\n",
    "print(\"Best Accuracy:\", best_accuracy)\n"
   ]
  },
  {
   "cell_type": "code",
<<<<<<< HEAD
   "execution_count": 426,
=======
   "execution_count": 38,
>>>>>>> dc1afd1146a4ea237734a85a2e7caa43cce8c7e5
   "metadata": {},
   "outputs": [
    {
     "name": "stdout",
     "output_type": "stream",
     "text": [
      "1.0\n",
      "1.0\n",
      "1.0\n",
      "1.0\n",
      "1.0\n",
      "1.0\n",
      "1.0\n",
      "1.0\n",
      "1.0\n",
      "1.0\n",
      "1.0\n",
      "1.0\n",
      "1.0\n",
      "1.0\n",
      "1.0\n",
      "1.0\n",
      "1.0\n",
      "1.0\n",
      "1.0\n",
      "1.0\n",
      "1.0\n",
      "1.0\n",
      "1.0\n",
      "1.0\n",
      "1.0\n",
      "1.0\n",
      "1.0\n",
      "1.0\n",
      "1.0\n",
      "1.0\n",
      "1.0\n",
      "1.0\n",
      "1.0\n",
      "1.0\n",
      "1.0\n",
      "1.0\n",
      "1.0\n",
      "1.0\n",
      "1.0\n",
      "1.0\n",
      "1.0\n",
      "1.0\n",
      "1.0\n",
      "1.0\n",
      "1.0\n",
      "1.0\n",
      "1.0\n",
      "1.0\n",
      "1.0\n",
      "1.0\n",
      "1.0\n",
      "1.0\n",
      "1.0\n",
      "1.0\n",
      "1.0\n",
      "1.0\n",
      "1.0\n",
      "1.0\n",
      "1.0\n",
      "1.0\n",
      "1.0\n",
      "1.0\n",
      "1.0\n",
      "1.0\n",
      "Best Parameters: {'max_depth': None, 'min_samples_split': 2, 'min_samples_leaf': 1}\n",
      "Best Accuracy: 1.0\n"
     ]
    }
   ],
   "source": [
    "from sklearn.tree import DecisionTreeClassifier\n",
    "from sklearn.model_selection import cross_val_score\n",
    "\n",
    "# Define the parameter values to try\n",
    "max_depth_values = [None, 5, 10, 15]\n",
    "min_samples_split_values = [2, 5, 10, 20]\n",
    "min_samples_leaf_values = [1, 2, 4, 8]\n",
    "\n",
    "# Initialize a variable to store the best accuracy and parameters\n",
    "best_accuracy = 0\n",
    "best_params = {}\n",
    "\n",
    "# Loop through different parameter combinations\n",
    "for max_depth in max_depth_values:\n",
    "    for min_samples_split in min_samples_split_values:\n",
    "        for min_samples_leaf in min_samples_leaf_values:\n",
    "            # Create the Decision Tree Classifier with current parameters\n",
    "            dt = DecisionTreeClassifier(max_depth=max_depth,\n",
    "                                        min_samples_split=min_samples_split,\n",
    "                                        min_samples_leaf=min_samples_leaf,\n",
    "                                        random_state=42)\n",
    "            \n",
    "            # Perform cross-validation and get the mean accuracy\n",
    "            accuracies = cross_val_score(dt, X_train, y_train, cv=5)  # Replace X_train and y_train with your data\n",
    "            mean_accuracy = accuracies.mean()\n",
    "            print(mean_accuracy)\n",
    "            # Check if current parameters give better accuracy\n",
    "            if mean_accuracy > best_accuracy:\n",
    "                best_accuracy = mean_accuracy\n",
    "                best_params = {'max_depth': max_depth,\n",
    "                               'min_samples_split': min_samples_split,\n",
    "                               'min_samples_leaf': min_samples_leaf}\n",
    "\n",
    "# Print the best parameters and accuracy\n",
    "print(\"Best Parameters:\", best_params)\n",
    "print(\"Best Accuracy:\", best_accuracy)\n"
   ]
  },
  {
   "cell_type": "code",
   "execution_count": null,
   "metadata": {},
   "outputs": [],
   "source": []
  },
  {
<<<<<<< HEAD
=======
   "cell_type": "code",
   "execution_count": 39,
   "metadata": {},
   "outputs": [
    {
     "ename": "NotFittedError",
     "evalue": "This SVC instance is not fitted yet. Call 'fit' with appropriate arguments before using this estimator.",
     "output_type": "error",
     "traceback": [
      "\u001b[1;31m---------------------------------------------------------------------------\u001b[0m",
      "\u001b[1;31mNotFittedError\u001b[0m                            Traceback (most recent call last)",
      "Cell \u001b[1;32mIn[39], line 5\u001b[0m\n\u001b[0;32m      1\u001b[0m \u001b[38;5;28;01mfrom\u001b[39;00m \u001b[38;5;21;01msklearn\u001b[39;00m\u001b[38;5;21;01m.\u001b[39;00m\u001b[38;5;21;01mmetrics\u001b[39;00m \u001b[38;5;28;01mimport\u001b[39;00m confusion_matrix, precision_score, recall_score\n\u001b[0;32m      4\u001b[0m \u001b[38;5;66;03m# Calculate confusion matrix\u001b[39;00m\n\u001b[1;32m----> 5\u001b[0m conf_matrix \u001b[38;5;241m=\u001b[39m confusion_matrix(y_test, \u001b[43msvm_classifier\u001b[49m\u001b[38;5;241;43m.\u001b[39;49m\u001b[43mpredict\u001b[49m\u001b[43m(\u001b[49m\u001b[43mX_test\u001b[49m\u001b[43m)\u001b[49m)\n\u001b[0;32m      6\u001b[0m \u001b[38;5;28mprint\u001b[39m(\u001b[38;5;124m\"\u001b[39m\u001b[38;5;124mConfusion Matrix:\u001b[39m\u001b[38;5;124m\"\u001b[39m)\n\u001b[0;32m      7\u001b[0m \u001b[38;5;28mprint\u001b[39m(conf_matrix)\n",
      "File \u001b[1;32mc:\\Users\\adfx757\\Anaconda3\\lib\\site-packages\\sklearn\\svm\\_base.py:807\u001b[0m, in \u001b[0;36mBaseSVC.predict\u001b[1;34m(self, X)\u001b[0m\n\u001b[0;32m    790\u001b[0m \u001b[38;5;28;01mdef\u001b[39;00m \u001b[38;5;21mpredict\u001b[39m(\u001b[38;5;28mself\u001b[39m, X):\n\u001b[0;32m    791\u001b[0m \u001b[38;5;250m    \u001b[39m\u001b[38;5;124;03m\"\"\"Perform classification on samples in X.\u001b[39;00m\n\u001b[0;32m    792\u001b[0m \n\u001b[0;32m    793\u001b[0m \u001b[38;5;124;03m    For an one-class model, +1 or -1 is returned.\u001b[39;00m\n\u001b[1;32m   (...)\u001b[0m\n\u001b[0;32m    805\u001b[0m \u001b[38;5;124;03m        Class labels for samples in X.\u001b[39;00m\n\u001b[0;32m    806\u001b[0m \u001b[38;5;124;03m    \"\"\"\u001b[39;00m\n\u001b[1;32m--> 807\u001b[0m     \u001b[43mcheck_is_fitted\u001b[49m\u001b[43m(\u001b[49m\u001b[38;5;28;43mself\u001b[39;49m\u001b[43m)\u001b[49m\n\u001b[0;32m    808\u001b[0m     \u001b[38;5;28;01mif\u001b[39;00m \u001b[38;5;28mself\u001b[39m\u001b[38;5;241m.\u001b[39mbreak_ties \u001b[38;5;129;01mand\u001b[39;00m \u001b[38;5;28mself\u001b[39m\u001b[38;5;241m.\u001b[39mdecision_function_shape \u001b[38;5;241m==\u001b[39m \u001b[38;5;124m\"\u001b[39m\u001b[38;5;124movo\u001b[39m\u001b[38;5;124m\"\u001b[39m:\n\u001b[0;32m    809\u001b[0m         \u001b[38;5;28;01mraise\u001b[39;00m \u001b[38;5;167;01mValueError\u001b[39;00m(\n\u001b[0;32m    810\u001b[0m             \u001b[38;5;124m\"\u001b[39m\u001b[38;5;124mbreak_ties must be False when decision_function_shape is \u001b[39m\u001b[38;5;124m'\u001b[39m\u001b[38;5;124movo\u001b[39m\u001b[38;5;124m'\u001b[39m\u001b[38;5;124m\"\u001b[39m\n\u001b[0;32m    811\u001b[0m         )\n",
      "File \u001b[1;32mc:\\Users\\adfx757\\Anaconda3\\lib\\site-packages\\sklearn\\utils\\validation.py:1390\u001b[0m, in \u001b[0;36mcheck_is_fitted\u001b[1;34m(estimator, attributes, msg, all_or_any)\u001b[0m\n\u001b[0;32m   1385\u001b[0m     fitted \u001b[38;5;241m=\u001b[39m [\n\u001b[0;32m   1386\u001b[0m         v \u001b[38;5;28;01mfor\u001b[39;00m v \u001b[38;5;129;01min\u001b[39;00m \u001b[38;5;28mvars\u001b[39m(estimator) \u001b[38;5;28;01mif\u001b[39;00m v\u001b[38;5;241m.\u001b[39mendswith(\u001b[38;5;124m\"\u001b[39m\u001b[38;5;124m_\u001b[39m\u001b[38;5;124m\"\u001b[39m) \u001b[38;5;129;01mand\u001b[39;00m \u001b[38;5;129;01mnot\u001b[39;00m v\u001b[38;5;241m.\u001b[39mstartswith(\u001b[38;5;124m\"\u001b[39m\u001b[38;5;124m__\u001b[39m\u001b[38;5;124m\"\u001b[39m)\n\u001b[0;32m   1387\u001b[0m     ]\n\u001b[0;32m   1389\u001b[0m \u001b[38;5;28;01mif\u001b[39;00m \u001b[38;5;129;01mnot\u001b[39;00m fitted:\n\u001b[1;32m-> 1390\u001b[0m     \u001b[38;5;28;01mraise\u001b[39;00m NotFittedError(msg \u001b[38;5;241m%\u001b[39m {\u001b[38;5;124m\"\u001b[39m\u001b[38;5;124mname\u001b[39m\u001b[38;5;124m\"\u001b[39m: \u001b[38;5;28mtype\u001b[39m(estimator)\u001b[38;5;241m.\u001b[39m\u001b[38;5;18m__name__\u001b[39m})\n",
      "\u001b[1;31mNotFittedError\u001b[0m: This SVC instance is not fitted yet. Call 'fit' with appropriate arguments before using this estimator."
     ]
    }
   ],
   "source": [
    "from sklearn.metrics import confusion_matrix, precision_score, recall_score\n",
    "\n",
    "\n",
    "# Calculate confusion matrix\n",
    "conf_matrix = confusion_matrix(y_test, svm_classifier.predict(X_test))\n",
    "print(\"Confusion Matrix:\")\n",
    "print(conf_matrix)\n",
    "\n",
    "# Calculate precision and recall\n",
    "precision = precision_score(y_test, svm_classifier.predict(X_test))\n",
    "recall = recall_score(y_test, svm_classifier.predict(X_test))\n",
    "\n",
    "print(\"Precision:\", precision)\n",
    "print(\"Recall:\", recall)\n"
   ]
  },
  {
   "cell_type": "markdown",
   "metadata": {},
   "source": [
    "## Logsitic Regression"
   ]
  },
  {
   "cell_type": "markdown",
   "metadata": {},
   "source": [
    "Why?\n",
    "\n",
    "Logistic Regression is a valuable algorithm due to its interpretability, computational efficiency, and suitability for linearly separable problems. \n",
    "It's a strong choice for binary classification tasks, offering easily interpretable coefficients and regularization options to prevent overfitting. \n",
    "However, it may not perform optimally with highly non-linear data or complex decision boundaries, situations where more flexible models might be more appropriate.\n",
    " Ultimately, Logistic Regression's effectiveness depends on the linearity of relationships within the data and the balance between interpretability and predictive performance required for the specific problem at hand."
   ]
  },
  {
   "cell_type": "markdown",
   "metadata": {},
   "source": [
    "Parameters\n",
    "- C: Similar to SVM, it's the inverse of regularization strength. Higher values of C indicate weaker regularization, potentially leading to overfitting.\n",
    "\n",
    "- penalty: Specifies the norm used in the penalization ('l1', 'l2', or 'elasticnet'). 'l1' and 'l2' refer to L1 and L2 regularization respectively, while 'elasticnet' allows a combination of both.\n",
    "\n",
    "- solver: Algorithm to use in the optimization problem ('newton-cg', 'lbfgs', 'liblinear', 'sag', 'saga'). Choice of solver can impact convergence speed and performance for different types of data.\n",
    "\n",
    "- max_iter: Maximum number of iterations for the solver to converge.\n",
    "\n",
    "- class_weight: Similar to SVC, it's useful for imbalanced datasets."
   ]
  },
  {
   "cell_type": "markdown",
   "metadata": {},
   "source": [
    "### Tuning following Hyperparameters"
   ]
  },
  {
   "cell_type": "markdown",
   "metadata": {},
   "source": [
    "C | penalty | solver | max_iter "
   ]
  },
  {
   "cell_type": "code",
   "execution_count": null,
   "metadata": {},
   "outputs": [
    {
     "name": "stderr",
     "output_type": "stream",
     "text": [
      "c:\\Users\\adfx757\\Anaconda3\\lib\\site-packages\\sklearn\\linear_model\\_sag.py:350: ConvergenceWarning: The max_iter was reached which means the coef_ did not converge\n",
      "  warnings.warn(\n",
      "c:\\Users\\adfx757\\Anaconda3\\lib\\site-packages\\sklearn\\linear_model\\_sag.py:350: ConvergenceWarning: The max_iter was reached which means the coef_ did not converge\n",
      "  warnings.warn(\n",
      "c:\\Users\\adfx757\\Anaconda3\\lib\\site-packages\\sklearn\\linear_model\\_sag.py:350: ConvergenceWarning: The max_iter was reached which means the coef_ did not converge\n",
      "  warnings.warn(\n",
      "c:\\Users\\adfx757\\Anaconda3\\lib\\site-packages\\sklearn\\linear_model\\_sag.py:350: ConvergenceWarning: The max_iter was reached which means the coef_ did not converge\n",
      "  warnings.warn(\n",
      "c:\\Users\\adfx757\\Anaconda3\\lib\\site-packages\\sklearn\\linear_model\\_sag.py:350: ConvergenceWarning: The max_iter was reached which means the coef_ did not converge\n",
      "  warnings.warn(\n",
      "c:\\Users\\adfx757\\Anaconda3\\lib\\site-packages\\sklearn\\linear_model\\_sag.py:350: ConvergenceWarning: The max_iter was reached which means the coef_ did not converge\n",
      "  warnings.warn(\n",
      "c:\\Users\\adfx757\\Anaconda3\\lib\\site-packages\\sklearn\\linear_model\\_sag.py:350: ConvergenceWarning: The max_iter was reached which means the coef_ did not converge\n",
      "  warnings.warn(\n",
      "c:\\Users\\adfx757\\Anaconda3\\lib\\site-packages\\sklearn\\linear_model\\_sag.py:350: ConvergenceWarning: The max_iter was reached which means the coef_ did not converge\n",
      "  warnings.warn(\n",
      "c:\\Users\\adfx757\\Anaconda3\\lib\\site-packages\\sklearn\\linear_model\\_sag.py:350: ConvergenceWarning: The max_iter was reached which means the coef_ did not converge\n",
      "  warnings.warn(\n",
      "c:\\Users\\adfx757\\Anaconda3\\lib\\site-packages\\sklearn\\linear_model\\_sag.py:350: ConvergenceWarning: The max_iter was reached which means the coef_ did not converge\n",
      "  warnings.warn(\n",
      "c:\\Users\\adfx757\\Anaconda3\\lib\\site-packages\\sklearn\\linear_model\\_sag.py:350: ConvergenceWarning: The max_iter was reached which means the coef_ did not converge\n",
      "  warnings.warn(\n",
      "c:\\Users\\adfx757\\Anaconda3\\lib\\site-packages\\sklearn\\linear_model\\_sag.py:350: ConvergenceWarning: The max_iter was reached which means the coef_ did not converge\n",
      "  warnings.warn(\n",
      "c:\\Users\\adfx757\\Anaconda3\\lib\\site-packages\\sklearn\\linear_model\\_sag.py:350: ConvergenceWarning: The max_iter was reached which means the coef_ did not converge\n",
      "  warnings.warn(\n",
      "c:\\Users\\adfx757\\Anaconda3\\lib\\site-packages\\sklearn\\linear_model\\_sag.py:350: ConvergenceWarning: The max_iter was reached which means the coef_ did not converge\n",
      "  warnings.warn(\n",
      "c:\\Users\\adfx757\\Anaconda3\\lib\\site-packages\\sklearn\\linear_model\\_sag.py:350: ConvergenceWarning: The max_iter was reached which means the coef_ did not converge\n",
      "  warnings.warn(\n",
      "c:\\Users\\adfx757\\Anaconda3\\lib\\site-packages\\sklearn\\linear_model\\_sag.py:350: ConvergenceWarning: The max_iter was reached which means the coef_ did not converge\n",
      "  warnings.warn(\n",
      "c:\\Users\\adfx757\\Anaconda3\\lib\\site-packages\\sklearn\\linear_model\\_sag.py:350: ConvergenceWarning: The max_iter was reached which means the coef_ did not converge\n",
      "  warnings.warn(\n",
      "c:\\Users\\adfx757\\Anaconda3\\lib\\site-packages\\sklearn\\linear_model\\_sag.py:350: ConvergenceWarning: The max_iter was reached which means the coef_ did not converge\n",
      "  warnings.warn(\n",
      "c:\\Users\\adfx757\\Anaconda3\\lib\\site-packages\\sklearn\\linear_model\\_sag.py:350: ConvergenceWarning: The max_iter was reached which means the coef_ did not converge\n",
      "  warnings.warn(\n",
      "c:\\Users\\adfx757\\Anaconda3\\lib\\site-packages\\sklearn\\linear_model\\_sag.py:350: ConvergenceWarning: The max_iter was reached which means the coef_ did not converge\n",
      "  warnings.warn(\n",
      "c:\\Users\\adfx757\\Anaconda3\\lib\\site-packages\\sklearn\\linear_model\\_sag.py:350: ConvergenceWarning: The max_iter was reached which means the coef_ did not converge\n",
      "  warnings.warn(\n",
      "c:\\Users\\adfx757\\Anaconda3\\lib\\site-packages\\sklearn\\linear_model\\_sag.py:350: ConvergenceWarning: The max_iter was reached which means the coef_ did not converge\n",
      "  warnings.warn(\n",
      "c:\\Users\\adfx757\\Anaconda3\\lib\\site-packages\\sklearn\\linear_model\\_sag.py:350: ConvergenceWarning: The max_iter was reached which means the coef_ did not converge\n",
      "  warnings.warn(\n",
      "c:\\Users\\adfx757\\Anaconda3\\lib\\site-packages\\sklearn\\linear_model\\_sag.py:350: ConvergenceWarning: The max_iter was reached which means the coef_ did not converge\n",
      "  warnings.warn(\n",
      "c:\\Users\\adfx757\\Anaconda3\\lib\\site-packages\\sklearn\\linear_model\\_sag.py:350: ConvergenceWarning: The max_iter was reached which means the coef_ did not converge\n",
      "  warnings.warn(\n",
      "c:\\Users\\adfx757\\Anaconda3\\lib\\site-packages\\sklearn\\linear_model\\_sag.py:350: ConvergenceWarning: The max_iter was reached which means the coef_ did not converge\n",
      "  warnings.warn(\n",
      "c:\\Users\\adfx757\\Anaconda3\\lib\\site-packages\\sklearn\\linear_model\\_sag.py:350: ConvergenceWarning: The max_iter was reached which means the coef_ did not converge\n",
      "  warnings.warn(\n",
      "c:\\Users\\adfx757\\Anaconda3\\lib\\site-packages\\sklearn\\linear_model\\_sag.py:350: ConvergenceWarning: The max_iter was reached which means the coef_ did not converge\n",
      "  warnings.warn(\n",
      "c:\\Users\\adfx757\\Anaconda3\\lib\\site-packages\\sklearn\\linear_model\\_sag.py:350: ConvergenceWarning: The max_iter was reached which means the coef_ did not converge\n",
      "  warnings.warn(\n",
      "c:\\Users\\adfx757\\Anaconda3\\lib\\site-packages\\sklearn\\linear_model\\_sag.py:350: ConvergenceWarning: The max_iter was reached which means the coef_ did not converge\n",
      "  warnings.warn(\n",
      "c:\\Users\\adfx757\\Anaconda3\\lib\\site-packages\\sklearn\\linear_model\\_sag.py:350: ConvergenceWarning: The max_iter was reached which means the coef_ did not converge\n",
      "  warnings.warn(\n",
      "c:\\Users\\adfx757\\Anaconda3\\lib\\site-packages\\sklearn\\linear_model\\_sag.py:350: ConvergenceWarning: The max_iter was reached which means the coef_ did not converge\n",
      "  warnings.warn(\n",
      "c:\\Users\\adfx757\\Anaconda3\\lib\\site-packages\\sklearn\\linear_model\\_sag.py:350: ConvergenceWarning: The max_iter was reached which means the coef_ did not converge\n",
      "  warnings.warn(\n",
      "c:\\Users\\adfx757\\Anaconda3\\lib\\site-packages\\sklearn\\linear_model\\_sag.py:350: ConvergenceWarning: The max_iter was reached which means the coef_ did not converge\n",
      "  warnings.warn(\n",
      "c:\\Users\\adfx757\\Anaconda3\\lib\\site-packages\\sklearn\\linear_model\\_sag.py:350: ConvergenceWarning: The max_iter was reached which means the coef_ did not converge\n",
      "  warnings.warn(\n",
      "c:\\Users\\adfx757\\Anaconda3\\lib\\site-packages\\sklearn\\linear_model\\_sag.py:350: ConvergenceWarning: The max_iter was reached which means the coef_ did not converge\n",
      "  warnings.warn(\n",
      "c:\\Users\\adfx757\\Anaconda3\\lib\\site-packages\\sklearn\\linear_model\\_sag.py:350: ConvergenceWarning: The max_iter was reached which means the coef_ did not converge\n",
      "  warnings.warn(\n",
      "c:\\Users\\adfx757\\Anaconda3\\lib\\site-packages\\sklearn\\linear_model\\_sag.py:350: ConvergenceWarning: The max_iter was reached which means the coef_ did not converge\n",
      "  warnings.warn(\n",
      "c:\\Users\\adfx757\\Anaconda3\\lib\\site-packages\\sklearn\\linear_model\\_sag.py:350: ConvergenceWarning: The max_iter was reached which means the coef_ did not converge\n",
      "  warnings.warn(\n",
      "c:\\Users\\adfx757\\Anaconda3\\lib\\site-packages\\sklearn\\linear_model\\_sag.py:350: ConvergenceWarning: The max_iter was reached which means the coef_ did not converge\n",
      "  warnings.warn(\n",
      "c:\\Users\\adfx757\\Anaconda3\\lib\\site-packages\\sklearn\\linear_model\\_sag.py:350: ConvergenceWarning: The max_iter was reached which means the coef_ did not converge\n",
      "  warnings.warn(\n",
      "c:\\Users\\adfx757\\Anaconda3\\lib\\site-packages\\sklearn\\linear_model\\_sag.py:350: ConvergenceWarning: The max_iter was reached which means the coef_ did not converge\n",
      "  warnings.warn(\n",
      "c:\\Users\\adfx757\\Anaconda3\\lib\\site-packages\\sklearn\\linear_model\\_sag.py:350: ConvergenceWarning: The max_iter was reached which means the coef_ did not converge\n",
      "  warnings.warn(\n",
      "c:\\Users\\adfx757\\Anaconda3\\lib\\site-packages\\sklearn\\linear_model\\_sag.py:350: ConvergenceWarning: The max_iter was reached which means the coef_ did not converge\n",
      "  warnings.warn(\n",
      "c:\\Users\\adfx757\\Anaconda3\\lib\\site-packages\\sklearn\\linear_model\\_sag.py:350: ConvergenceWarning: The max_iter was reached which means the coef_ did not converge\n",
      "  warnings.warn(\n",
      "c:\\Users\\adfx757\\Anaconda3\\lib\\site-packages\\sklearn\\linear_model\\_sag.py:350: ConvergenceWarning: The max_iter was reached which means the coef_ did not converge\n",
      "  warnings.warn(\n",
      "c:\\Users\\adfx757\\Anaconda3\\lib\\site-packages\\sklearn\\linear_model\\_sag.py:350: ConvergenceWarning: The max_iter was reached which means the coef_ did not converge\n",
      "  warnings.warn(\n",
      "c:\\Users\\adfx757\\Anaconda3\\lib\\site-packages\\sklearn\\linear_model\\_sag.py:350: ConvergenceWarning: The max_iter was reached which means the coef_ did not converge\n",
      "  warnings.warn(\n",
      "c:\\Users\\adfx757\\Anaconda3\\lib\\site-packages\\sklearn\\linear_model\\_sag.py:350: ConvergenceWarning: The max_iter was reached which means the coef_ did not converge\n",
      "  warnings.warn(\n",
      "c:\\Users\\adfx757\\Anaconda3\\lib\\site-packages\\sklearn\\linear_model\\_sag.py:350: ConvergenceWarning: The max_iter was reached which means the coef_ did not converge\n",
      "  warnings.warn(\n",
      "c:\\Users\\adfx757\\Anaconda3\\lib\\site-packages\\sklearn\\linear_model\\_sag.py:350: ConvergenceWarning: The max_iter was reached which means the coef_ did not converge\n",
      "  warnings.warn(\n",
      "c:\\Users\\adfx757\\Anaconda3\\lib\\site-packages\\sklearn\\linear_model\\_sag.py:350: ConvergenceWarning: The max_iter was reached which means the coef_ did not converge\n",
      "  warnings.warn(\n",
      "c:\\Users\\adfx757\\Anaconda3\\lib\\site-packages\\sklearn\\linear_model\\_sag.py:350: ConvergenceWarning: The max_iter was reached which means the coef_ did not converge\n",
      "  warnings.warn(\n",
      "c:\\Users\\adfx757\\Anaconda3\\lib\\site-packages\\sklearn\\linear_model\\_sag.py:350: ConvergenceWarning: The max_iter was reached which means the coef_ did not converge\n",
      "  warnings.warn(\n",
      "c:\\Users\\adfx757\\Anaconda3\\lib\\site-packages\\sklearn\\linear_model\\_sag.py:350: ConvergenceWarning: The max_iter was reached which means the coef_ did not converge\n",
      "  warnings.warn(\n",
      "c:\\Users\\adfx757\\Anaconda3\\lib\\site-packages\\sklearn\\linear_model\\_sag.py:350: ConvergenceWarning: The max_iter was reached which means the coef_ did not converge\n",
      "  warnings.warn(\n",
      "c:\\Users\\adfx757\\Anaconda3\\lib\\site-packages\\sklearn\\linear_model\\_sag.py:350: ConvergenceWarning: The max_iter was reached which means the coef_ did not converge\n",
      "  warnings.warn(\n",
      "c:\\Users\\adfx757\\Anaconda3\\lib\\site-packages\\sklearn\\linear_model\\_sag.py:350: ConvergenceWarning: The max_iter was reached which means the coef_ did not converge\n",
      "  warnings.warn(\n",
      "c:\\Users\\adfx757\\Anaconda3\\lib\\site-packages\\sklearn\\linear_model\\_sag.py:350: ConvergenceWarning: The max_iter was reached which means the coef_ did not converge\n",
      "  warnings.warn(\n",
      "c:\\Users\\adfx757\\Anaconda3\\lib\\site-packages\\sklearn\\linear_model\\_sag.py:350: ConvergenceWarning: The max_iter was reached which means the coef_ did not converge\n",
      "  warnings.warn(\n",
      "c:\\Users\\adfx757\\Anaconda3\\lib\\site-packages\\sklearn\\linear_model\\_sag.py:350: ConvergenceWarning: The max_iter was reached which means the coef_ did not converge\n",
      "  warnings.warn(\n",
      "c:\\Users\\adfx757\\Anaconda3\\lib\\site-packages\\sklearn\\linear_model\\_sag.py:350: ConvergenceWarning: The max_iter was reached which means the coef_ did not converge\n",
      "  warnings.warn(\n",
      "c:\\Users\\adfx757\\Anaconda3\\lib\\site-packages\\sklearn\\linear_model\\_sag.py:350: ConvergenceWarning: The max_iter was reached which means the coef_ did not converge\n",
      "  warnings.warn(\n",
      "c:\\Users\\adfx757\\Anaconda3\\lib\\site-packages\\sklearn\\linear_model\\_sag.py:350: ConvergenceWarning: The max_iter was reached which means the coef_ did not converge\n",
      "  warnings.warn(\n",
      "c:\\Users\\adfx757\\Anaconda3\\lib\\site-packages\\sklearn\\linear_model\\_sag.py:350: ConvergenceWarning: The max_iter was reached which means the coef_ did not converge\n",
      "  warnings.warn(\n",
      "c:\\Users\\adfx757\\Anaconda3\\lib\\site-packages\\sklearn\\linear_model\\_sag.py:350: ConvergenceWarning: The max_iter was reached which means the coef_ did not converge\n",
      "  warnings.warn(\n",
      "c:\\Users\\adfx757\\Anaconda3\\lib\\site-packages\\sklearn\\linear_model\\_sag.py:350: ConvergenceWarning: The max_iter was reached which means the coef_ did not converge\n",
      "  warnings.warn(\n",
      "c:\\Users\\adfx757\\Anaconda3\\lib\\site-packages\\sklearn\\linear_model\\_sag.py:350: ConvergenceWarning: The max_iter was reached which means the coef_ did not converge\n",
      "  warnings.warn(\n",
      "c:\\Users\\adfx757\\Anaconda3\\lib\\site-packages\\sklearn\\linear_model\\_sag.py:350: ConvergenceWarning: The max_iter was reached which means the coef_ did not converge\n",
      "  warnings.warn(\n",
      "c:\\Users\\adfx757\\Anaconda3\\lib\\site-packages\\sklearn\\linear_model\\_sag.py:350: ConvergenceWarning: The max_iter was reached which means the coef_ did not converge\n",
      "  warnings.warn(\n",
      "c:\\Users\\adfx757\\Anaconda3\\lib\\site-packages\\sklearn\\linear_model\\_sag.py:350: ConvergenceWarning: The max_iter was reached which means the coef_ did not converge\n",
      "  warnings.warn(\n",
      "c:\\Users\\adfx757\\Anaconda3\\lib\\site-packages\\sklearn\\linear_model\\_sag.py:350: ConvergenceWarning: The max_iter was reached which means the coef_ did not converge\n",
      "  warnings.warn(\n",
      "c:\\Users\\adfx757\\Anaconda3\\lib\\site-packages\\sklearn\\linear_model\\_sag.py:350: ConvergenceWarning: The max_iter was reached which means the coef_ did not converge\n",
      "  warnings.warn(\n",
      "c:\\Users\\adfx757\\Anaconda3\\lib\\site-packages\\sklearn\\linear_model\\_sag.py:350: ConvergenceWarning: The max_iter was reached which means the coef_ did not converge\n",
      "  warnings.warn(\n",
      "c:\\Users\\adfx757\\Anaconda3\\lib\\site-packages\\sklearn\\linear_model\\_sag.py:350: ConvergenceWarning: The max_iter was reached which means the coef_ did not converge\n",
      "  warnings.warn(\n",
      "c:\\Users\\adfx757\\Anaconda3\\lib\\site-packages\\sklearn\\linear_model\\_sag.py:350: ConvergenceWarning: The max_iter was reached which means the coef_ did not converge\n",
      "  warnings.warn(\n",
      "c:\\Users\\adfx757\\Anaconda3\\lib\\site-packages\\sklearn\\linear_model\\_sag.py:350: ConvergenceWarning: The max_iter was reached which means the coef_ did not converge\n",
      "  warnings.warn(\n",
      "c:\\Users\\adfx757\\Anaconda3\\lib\\site-packages\\sklearn\\linear_model\\_sag.py:350: ConvergenceWarning: The max_iter was reached which means the coef_ did not converge\n",
      "  warnings.warn(\n",
      "c:\\Users\\adfx757\\Anaconda3\\lib\\site-packages\\sklearn\\linear_model\\_sag.py:350: ConvergenceWarning: The max_iter was reached which means the coef_ did not converge\n",
      "  warnings.warn(\n",
      "c:\\Users\\adfx757\\Anaconda3\\lib\\site-packages\\sklearn\\linear_model\\_sag.py:350: ConvergenceWarning: The max_iter was reached which means the coef_ did not converge\n",
      "  warnings.warn(\n",
      "c:\\Users\\adfx757\\Anaconda3\\lib\\site-packages\\sklearn\\linear_model\\_sag.py:350: ConvergenceWarning: The max_iter was reached which means the coef_ did not converge\n",
      "  warnings.warn(\n",
      "c:\\Users\\adfx757\\Anaconda3\\lib\\site-packages\\sklearn\\linear_model\\_sag.py:350: ConvergenceWarning: The max_iter was reached which means the coef_ did not converge\n",
      "  warnings.warn(\n",
      "c:\\Users\\adfx757\\Anaconda3\\lib\\site-packages\\sklearn\\linear_model\\_sag.py:350: ConvergenceWarning: The max_iter was reached which means the coef_ did not converge\n",
      "  warnings.warn(\n",
      "c:\\Users\\adfx757\\Anaconda3\\lib\\site-packages\\sklearn\\linear_model\\_sag.py:350: ConvergenceWarning: The max_iter was reached which means the coef_ did not converge\n",
      "  warnings.warn(\n",
      "c:\\Users\\adfx757\\Anaconda3\\lib\\site-packages\\sklearn\\linear_model\\_sag.py:350: ConvergenceWarning: The max_iter was reached which means the coef_ did not converge\n",
      "  warnings.warn(\n",
      "c:\\Users\\adfx757\\Anaconda3\\lib\\site-packages\\sklearn\\linear_model\\_sag.py:350: ConvergenceWarning: The max_iter was reached which means the coef_ did not converge\n",
      "  warnings.warn(\n",
      "c:\\Users\\adfx757\\Anaconda3\\lib\\site-packages\\sklearn\\linear_model\\_sag.py:350: ConvergenceWarning: The max_iter was reached which means the coef_ did not converge\n",
      "  warnings.warn(\n",
      "c:\\Users\\adfx757\\Anaconda3\\lib\\site-packages\\sklearn\\linear_model\\_sag.py:350: ConvergenceWarning: The max_iter was reached which means the coef_ did not converge\n",
      "  warnings.warn(\n",
      "c:\\Users\\adfx757\\Anaconda3\\lib\\site-packages\\sklearn\\linear_model\\_sag.py:350: ConvergenceWarning: The max_iter was reached which means the coef_ did not converge\n",
      "  warnings.warn(\n"
     ]
    },
    {
     "name": "stdout",
     "output_type": "stream",
     "text": [
      "Best Parameters: {'C': 1, 'max_iter': 200, 'penalty': 'l1', 'solver': 'liblinear'}\n",
      "Best Accuracy: 0.9985185185185186\n"
     ]
    },
    {
     "name": "stderr",
     "output_type": "stream",
     "text": [
      "c:\\Users\\adfx757\\Anaconda3\\lib\\site-packages\\sklearn\\linear_model\\_sag.py:350: ConvergenceWarning: The max_iter was reached which means the coef_ did not converge\n",
      "  warnings.warn(\n"
     ]
    }
   ],
   "source": [
    "from sklearn.linear_model import LogisticRegression\n",
    "from sklearn.model_selection import GridSearchCV\n",
    "\n",
    "\n",
    "\n",
    "# Define the parameter grid for GridSearchCV\n",
    "param_grid = {\n",
    "    'C': [0.1, 1, 10],\n",
    "    'penalty': ['l1', 'l2'],\n",
    "    'solver': ['liblinear', 'saga'],\n",
    "    'max_iter': [100, 200,500],\n",
    "    # Add other parameters as needed\n",
    "}\n",
    "\n",
    "# Create the Logistic Regression model\n",
    "log_reg = LogisticRegression()\n",
    "\n",
    "# Perform GridSearchCV\n",
    "grid_search = GridSearchCV(log_reg, param_grid, cv=5, scoring='accuracy')\n",
    "grid_search.fit(X_train, y_train)  # Replace X_train and y_train with your training data\n",
    "\n",
    "# Get the best parameters and best score\n",
    "best_params = grid_search.best_params_\n",
    "best_score = grid_search.best_score_\n",
    "\n",
    "print(\"Best Parameters:\", best_params)\n",
    "print(\"Best Accuracy:\", best_score)\n"
   ]
  },
  {
   "cell_type": "code",
   "execution_count": null,
   "metadata": {},
   "outputs": [
    {
     "data": {
      "text/html": [
       "<style>#sk-container-id-4 {color: black;background-color: white;}#sk-container-id-4 pre{padding: 0;}#sk-container-id-4 div.sk-toggleable {background-color: white;}#sk-container-id-4 label.sk-toggleable__label {cursor: pointer;display: block;width: 100%;margin-bottom: 0;padding: 0.3em;box-sizing: border-box;text-align: center;}#sk-container-id-4 label.sk-toggleable__label-arrow:before {content: \"▸\";float: left;margin-right: 0.25em;color: #696969;}#sk-container-id-4 label.sk-toggleable__label-arrow:hover:before {color: black;}#sk-container-id-4 div.sk-estimator:hover label.sk-toggleable__label-arrow:before {color: black;}#sk-container-id-4 div.sk-toggleable__content {max-height: 0;max-width: 0;overflow: hidden;text-align: left;background-color: #f0f8ff;}#sk-container-id-4 div.sk-toggleable__content pre {margin: 0.2em;color: black;border-radius: 0.25em;background-color: #f0f8ff;}#sk-container-id-4 input.sk-toggleable__control:checked~div.sk-toggleable__content {max-height: 200px;max-width: 100%;overflow: auto;}#sk-container-id-4 input.sk-toggleable__control:checked~label.sk-toggleable__label-arrow:before {content: \"▾\";}#sk-container-id-4 div.sk-estimator input.sk-toggleable__control:checked~label.sk-toggleable__label {background-color: #d4ebff;}#sk-container-id-4 div.sk-label input.sk-toggleable__control:checked~label.sk-toggleable__label {background-color: #d4ebff;}#sk-container-id-4 input.sk-hidden--visually {border: 0;clip: rect(1px 1px 1px 1px);clip: rect(1px, 1px, 1px, 1px);height: 1px;margin: -1px;overflow: hidden;padding: 0;position: absolute;width: 1px;}#sk-container-id-4 div.sk-estimator {font-family: monospace;background-color: #f0f8ff;border: 1px dotted black;border-radius: 0.25em;box-sizing: border-box;margin-bottom: 0.5em;}#sk-container-id-4 div.sk-estimator:hover {background-color: #d4ebff;}#sk-container-id-4 div.sk-parallel-item::after {content: \"\";width: 100%;border-bottom: 1px solid gray;flex-grow: 1;}#sk-container-id-4 div.sk-label:hover label.sk-toggleable__label {background-color: #d4ebff;}#sk-container-id-4 div.sk-serial::before {content: \"\";position: absolute;border-left: 1px solid gray;box-sizing: border-box;top: 0;bottom: 0;left: 50%;z-index: 0;}#sk-container-id-4 div.sk-serial {display: flex;flex-direction: column;align-items: center;background-color: white;padding-right: 0.2em;padding-left: 0.2em;position: relative;}#sk-container-id-4 div.sk-item {position: relative;z-index: 1;}#sk-container-id-4 div.sk-parallel {display: flex;align-items: stretch;justify-content: center;background-color: white;position: relative;}#sk-container-id-4 div.sk-item::before, #sk-container-id-4 div.sk-parallel-item::before {content: \"\";position: absolute;border-left: 1px solid gray;box-sizing: border-box;top: 0;bottom: 0;left: 50%;z-index: -1;}#sk-container-id-4 div.sk-parallel-item {display: flex;flex-direction: column;z-index: 1;position: relative;background-color: white;}#sk-container-id-4 div.sk-parallel-item:first-child::after {align-self: flex-end;width: 50%;}#sk-container-id-4 div.sk-parallel-item:last-child::after {align-self: flex-start;width: 50%;}#sk-container-id-4 div.sk-parallel-item:only-child::after {width: 0;}#sk-container-id-4 div.sk-dashed-wrapped {border: 1px dashed gray;margin: 0 0.4em 0.5em 0.4em;box-sizing: border-box;padding-bottom: 0.4em;background-color: white;}#sk-container-id-4 div.sk-label label {font-family: monospace;font-weight: bold;display: inline-block;line-height: 1.2em;}#sk-container-id-4 div.sk-label-container {text-align: center;}#sk-container-id-4 div.sk-container {/* jupyter's `normalize.less` sets `[hidden] { display: none; }` but bootstrap.min.css set `[hidden] { display: none !important; }` so we also need the `!important` here to be able to override the default hidden behavior on the sphinx rendered scikit-learn.org. See: https://github.com/scikit-learn/scikit-learn/issues/21755 */display: inline-block !important;position: relative;}#sk-container-id-4 div.sk-text-repr-fallback {display: none;}</style><div id=\"sk-container-id-4\" class=\"sk-top-container\"><div class=\"sk-text-repr-fallback\"><pre>LogisticRegression()</pre><b>In a Jupyter environment, please rerun this cell to show the HTML representation or trust the notebook. <br />On GitHub, the HTML representation is unable to render, please try loading this page with nbviewer.org.</b></div><div class=\"sk-container\" hidden><div class=\"sk-item\"><div class=\"sk-estimator sk-toggleable\"><input class=\"sk-toggleable__control sk-hidden--visually\" id=\"sk-estimator-id-6\" type=\"checkbox\" checked><label for=\"sk-estimator-id-6\" class=\"sk-toggleable__label sk-toggleable__label-arrow\">LogisticRegression</label><div class=\"sk-toggleable__content\"><pre>LogisticRegression()</pre></div></div></div></div></div>"
      ],
      "text/plain": [
       "LogisticRegression()"
      ]
     },
     "execution_count": 82,
     "metadata": {},
     "output_type": "execute_result"
    }
   ],
   "source": [
    "grid_search."
   ]
  },
  {
   "cell_type": "markdown",
   "metadata": {},
   "source": [
    "Plotting Curves"
   ]
  },
  {
   "cell_type": "code",
   "execution_count": null,
   "metadata": {},
   "outputs": [
    {
     "name": "stderr",
     "output_type": "stream",
     "text": [
      "c:\\Users\\adfx757\\Anaconda3\\lib\\site-packages\\sklearn\\linear_model\\_logistic.py:458: ConvergenceWarning: lbfgs failed to converge (status=1):\n",
      "STOP: TOTAL NO. of ITERATIONS REACHED LIMIT.\n",
      "\n",
      "Increase the number of iterations (max_iter) or scale the data as shown in:\n",
      "    https://scikit-learn.org/stable/modules/preprocessing.html\n",
      "Please also refer to the documentation for alternative solver options:\n",
      "    https://scikit-learn.org/stable/modules/linear_model.html#logistic-regression\n",
      "  n_iter_i = _check_optimize_result(\n"
     ]
    },
    {
     "data": {
      "image/png": "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",
      "text/plain": [
       "<Figure size 800x600 with 1 Axes>"
      ]
     },
     "metadata": {},
     "output_type": "display_data"
    }
   ],
   "source": [
    "from sklearn.metrics import roc_curve, roc_auc_score\n",
    "import matplotlib.pyplot as plt\n",
    "\n",
    "# Assuming you have the trained logistic regression model stored in 'log_reg' variable\n",
    "# and the test features and labels are stored in 'X_test' and 'y_test' variables\n",
    "\n",
    "log_reg = LogisticRegression()\n",
    "\n",
    "log_reg.fit(X_train, y_train)\n",
    "\n",
    "# Make predictions on the test set\n",
    "y_pred_proba = log_reg.predict_proba(X_test)[:, 1]  # Get the probabilities of the positive class\n",
    "\n",
    "# Compute ROC curve and AUC score\n",
    "fpr, tpr, thresholds = roc_curve(y_test, y_pred_proba)\n",
    "roc_auc = roc_auc_score(y_test, y_pred_proba)\n",
    "\n",
    "# Plot ROC curve\n",
    "plt.figure(figsize=(8, 6))\n",
    "plt.plot(fpr, tpr, color='blue', lw=2, label='ROC curve (AUC = %0.2f)' % roc_auc)\n",
    "plt.plot([0, 1], [0, 1], color='red', lw=2, linestyle='--', label='Random Guessing')\n",
    "plt.xlabel('False Positive Rate')\n",
    "plt.ylabel('True Positive Rate')\n",
    "plt.title('Receiver Operating Characteristic (ROC) Curve')\n",
    "plt.legend(loc='lower right')\n",
    "plt.show()\n"
   ]
  },
  {
>>>>>>> dc1afd1146a4ea237734a85a2e7caa43cce8c7e5
   "cell_type": "markdown",
   "metadata": {},
   "source": [
    "Results"
   ]
  }
 ],
 "metadata": {
  "kernelspec": {
   "display_name": "Python 3",
   "language": "python",
   "name": "python3"
  },
  "language_info": {
   "codemirror_mode": {
    "name": "ipython",
    "version": 3
   },
   "file_extension": ".py",
   "mimetype": "text/x-python",
   "name": "python",
   "nbconvert_exporter": "python",
   "pygments_lexer": "ipython3",
   "version": "3.10.9"
  }
 },
 "nbformat": 4,
 "nbformat_minor": 2
}
